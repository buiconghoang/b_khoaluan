{
 "cells": [
  {
   "cell_type": "code",
   "execution_count": 47,
   "metadata": {
    "collapsed": true
   },
   "outputs": [],
   "source": [
    "import cv2 as cv\n",
    "import os\n",
    "import glob\n",
    "from sklearn.utils import shuffle\n",
    "import numpy as np\n",
    "from pathlib import Path\n",
    "import matplotlib.image as mpimg\n",
    "from matplotlib   import pyplot as plt\n",
    "%matplotlib inline  "
   ]
  },
  {
   "cell_type": "markdown",
   "metadata": {},
   "source": [
    "Test hàm"
   ]
  },
  {
   "cell_type": "code",
   "execution_count": null,
   "metadata": {
    "collapsed": true
   },
   "outputs": [],
   "source": [
    "# x=np.arange(1,13).reshape(2,2,3)\n",
    "# y=np.arange(1,13).reshape(3,4)\n",
    "# print(x)\n",
    "# print(x.shape[-1])\n",
    "\n",
    "# # a,b=shuffle(x,y)\n",
    "# # c=shuffle(y)\n",
    "\n",
    "# # d=x.shape[0]\n",
    "# # print(d)\n",
    "# # print(\"x:\\n\",x)\n",
    "# # print(\"a\\n\",a)\n",
    "# # print(\"b\\n\",b)\n",
    "# # print(\"c\\n\",c)\n",
    "\n",
    "# #test array\n",
    "# a=[]\n",
    "# for i in range(5):\n",
    "#     a.append(i)\n",
    "# print(a)\n",
    "\n",
    "# a=np.array(a)\n",
    "# print(a.shape[0])\n",
    "\n",
    "# p=Path(dir_path)"
   ]
  },
  {
   "cell_type": "code",
   "execution_count": null,
   "metadata": {
    "collapsed": true
   },
   "outputs": [],
   "source": []
  },
  {
   "cell_type": "code",
   "execution_count": 3,
   "metadata": {},
   "outputs": [
    {
     "name": "stdout",
     "output_type": "stream",
     "text": [
      "True\n",
      "92\n"
     ]
    },
    {
     "data": {
      "text/plain": [
       "'D:\\\\DatasetJapanese\\\\data_use_kl\\\\a_h'"
      ]
     },
     "execution_count": 3,
     "metadata": {},
     "output_type": "execute_result"
    }
   ],
   "source": [
    "#path file\n",
    "# p =Path(r\"D:\\DatasetJapanese\\data_use_kl\")\n",
    "# print(p.is_dir())\n",
    "# classifier =[]\n",
    "# for file in p.iterdir():\n",
    "#     if (file.is_dir()):\n",
    "# #         print(file)\n",
    "#         classifier.append(file)\n",
    "\n",
    "# print(len(classifier))\n",
    "# str(classifier[0])"
   ]
  },
  {
   "cell_type": "code",
   "execution_count": 21,
   "metadata": {
    "collapsed": true
   },
   "outputs": [],
   "source": [
    "## Lấy danh sách label trong tập train"
   ]
  },
  {
   "cell_type": "code",
   "execution_count": 28,
   "metadata": {
    "collapsed": true
   },
   "outputs": [],
   "source": [
    "def get_labels(train_path):\n",
    "    p=Path(train_path)\n",
    "    path_file =[] # return absolute path\n",
    "    labels = []\n",
    "    if p.is_dir():\n",
    "        for file in p.iterdir():\n",
    "            if file.is_dir():\n",
    "                path_file.append(file)\n",
    "                \n",
    "        for path in path_file:\n",
    "            label = path.parts[-1]\n",
    "            labels.append(label)\n",
    "#             print(path.parts[-1])\n",
    "    else:\n",
    "        raise ValueError(f\"{train_path} is not a directory!!\")\n",
    "    return labels\n",
    "\n",
    "\n",
    "# a= get_labels(r\"D:\\DatasetJapanese\\data_use_kl\\00753.png\") // error\n",
    "# print(a)    \n",
    "\n",
    "# b= get_labels(r\"D:\\DatasetJapanese\\data_use_kl\")\n",
    "# print((b[0])) #label\n"
   ]
  },
  {
   "cell_type": "code",
   "execution_count": 34,
   "metadata": {
    "collapsed": true
   },
   "outputs": [],
   "source": [
    "def load_train(train_path,img_size):\n",
    "    images=[]\n",
    "    labels=[]\n",
    "    img_names=[]\n",
    "    cls = []\n",
    "    classes = get_labels(train_path)\n",
    "    \n",
    "    \n",
    "    for fields in classes:\n",
    "        index = classes.index(fields)\n",
    "        # print(\"doc file {} (index: {})\".format(fields,index))\n",
    "        path = os.path.join(train_path,fields,'*')\n",
    "#         print(f\"path: {path}\")\n",
    "        files = glob.glob(path) #return list of path names that match path =path;\n",
    "#         print(\"file: \",files)\n",
    "        i=0\n",
    "        for fi in files:\n",
    "            img = cv.imread(fi);\n",
    "            img= cv.resize(img,(img_size,img_size))\n",
    "            img=img.astype(np.float32)\n",
    "            img=np.multiply(img, 1.0/255.0)\n",
    "            \n",
    "            images.append(img)\n",
    "            label = np.zeros(len(classes))\n",
    "            label[index]=1\n",
    "            labels.append(label)\n",
    "            \n",
    "            filename_base = os.path.basename(fi)\n",
    "            img_names.append(filename_base)\n",
    "            cls.append(fields)\n",
    "            # if(i==0): #in 1 lan\n",
    "            #     print('filename_base: {}'.format(filename_base))\n",
    "            #     print('fields: {}'.format(fields))\n",
    "            #     i+=1\n",
    "  \n",
    "    images=np.array(images)\n",
    "    labels=np.array(labels)\n",
    "    img_names=np.array(img_names)\n",
    "    cls = np.array(cls)\n",
    "    \n",
    "    return images,labels,img_names,cls\n"
   ]
  },
  {
   "cell_type": "code",
   "execution_count": 56,
   "metadata": {},
   "outputs": [
    {
     "name": "stdout",
     "output_type": "stream",
     "text": [
      "[ 1.  0.  0.  0.  0.] 01396.png a_k\n",
      "(59, 64, 64, 3)\n"
     ]
    },
    {
     "data": {
      "image/png": "[encoded data removed]",
      "text/plain": [
       "<matplotlib.figure.Figure at 0x1ce31ad59b0>"
      ]
     },
     "metadata": {},
     "output_type": "display_data"
    }
   ],
   "source": [
    "# # test load_train function\n",
    "# images,labels,img_names,cls= load_train(\"D:\\DatasetJapanese\\data_katagana\\katakana_test\",64)\n",
    "# print(labels[0],img_names[0],cls[0])\n",
    "# img = plt.imshow(images[0])\n",
    "# print(images.shape) # (total_images,img_size,img_size,channels)\n",
    "# print(images.shape[0])# total_images"
   ]
  },
  {
   "cell_type": "code",
   "execution_count": 53,
   "metadata": {
    "collapsed": true
   },
   "outputs": [],
   "source": [
    "class DataSet (object):\n",
    "    \n",
    "    def __init__(self,images,labels,img_names,cls):\n",
    "        # print(\"size: {} \".format(images.shape[0]))\n",
    "        self._num_examples=images.shape[0]\n",
    "        \n",
    "        self._images= images\n",
    "        self._labels=labels\n",
    "        self._img_names=img_names\n",
    "        self._cls = cls;\n",
    "        \n",
    "        self._epochs_done = 0\n",
    "        self._index_in_epoch = 0\n",
    "        \n",
    "    @property\n",
    "    def images(self):\n",
    "        return self._images\n",
    "    \n",
    "    @property\n",
    "    def labels(self):\n",
    "        return self._labels\n",
    "    \n",
    "    @property\n",
    "    def img_names(self):\n",
    "        return self._img_names\n",
    "    \n",
    "    @property\n",
    "    def cls(self):\n",
    "        return self._cls\n",
    "    \n",
    "    @property\n",
    "    def num_examples(self):\n",
    "        return self._num_examples\n",
    "    \n",
    "    @property\n",
    "    def epochs_done(self):\n",
    "        return self._epochs_done\n",
    "\n",
    "\n",
    "    def next_batch(self,batch_size):\n",
    "        start=self._index_in_epoch\n",
    "        self._index_in_epoch +=batch_size\n",
    "        \n",
    "        if(self._index_in_epoch >self.num_examples):\n",
    "            # sau moi epoch can phai shuffle lai vi tri de du lieu duoc ngau nhien, tranh lap lai batchsize giong nhau\n",
    "            self._images,self._labels,self._img_names,self._cls = shuffle(self._images,self._labels,self._img_names,self._cls)\n",
    "            \n",
    "            self._epochs_done +=1\n",
    "            start=0\n",
    "            self._index_in_epoch=batch_size\n",
    "            assert batch_size <= self._num_examples\n",
    "            \n",
    "        end = self._index_in_epoch\n",
    "        \n",
    "        return self._images[start:end], self._labels[start:end], self._img_names[start:end], self._cls[start:end]"
   ]
  },
  {
   "cell_type": "code",
   "execution_count": 68,
   "metadata": {},
   "outputs": [
    {
     "name": "stdout",
     "output_type": "stream",
     "text": [
      "(47, 10, 10, 3)\n",
      "(12, 10, 10, 3)\n",
      "(59, 64, 64, 3)\n"
     ]
    }
   ],
   "source": [
    "\n",
    "def read_train_sets(train_path,image_size,test_size, validation_size):\n",
    "    classes = get_labels(train_path)\n",
    "    class DataSets(object):pass\n",
    "    \n",
    "    data_sets = DataSets();\n",
    "    \n",
    "    images,labels,img_names,cls = load_train(train_path,image_size)\n",
    "    images,labels,img_names,cls = shuffle(images,labels,img_names,cls)\n",
    "    \n",
    "    if isinstance(test_size,float) or isinstance(test_size,float) or test_size<1 or validation_size<1 :\n",
    "        test_size=int(images.shape[0] * test_size) # total_images * validation_size\n",
    "        validation_size = test_size + int(images.shape[0] * validation_size)\n",
    "        # print(\"images: {}\".format(images.shape[0]))\n",
    "        # print(\"valid: {}\".format(validation_size))\n",
    "        \n",
    "    test_images = images[:test_size]\n",
    "    test_labels = labels[:test_size]\n",
    "    test_img_names = img_names[:test_size]\n",
    "    test_cls = cls[:test_size]\n",
    "    \n",
    "    validation_images = images[test_size:validation_size]\n",
    "    validation_labels = labels[test_size:validation_size]\n",
    "    validation_img_names = img_names[test_size:validation_size]\n",
    "    validation_cls = cls[test_size:validation_size]\n",
    "    \n",
    "    train_images = images[validation_size:]\n",
    "    train_labels = labels[validation_size:]\n",
    "    train_img_names = img_names[validation_size:]\n",
    "    train_cls = cls[validation_size:]\n",
    "    \n",
    "    data_sets.test = DataSet(test_images,test_labels,test_img_names,test_cls)\n",
    "    data_sets.train= DataSet(train_images,train_labels,train_img_names,train_cls)\n",
    "    data_sets.valid = DataSet(validation_images,validation_labels,validation_img_names,validation_cls)\n",
    "    \n",
    "    return data_sets\n",
    "\n",
    "\n",
    "\n",
    "\n",
    "# validation_size = 0.22\n",
    "# train_path='D:\\DatasetJapanese\\\\data_katagana\\katakana_test'\n",
    "\n",
    "# data=read_train_sets(\"D:\\DatasetJapanese\\data_katagana\\katakana_test\",image_size=10,validation_size=validation_size)\n",
    "# images,labels,img_names,cls = load_train(train_path,64)\n",
    "# print(data.train.images.shape)\n",
    "# print(data.valid.images.shape)\n",
    "# print(images.shape)"
   ]
  },
  {
   "cell_type": "code",
   "execution_count": null,
   "metadata": {
    "collapsed": true
   },
   "outputs": [],
   "source": []
  },
  {
   "cell_type": "code",
   "execution_count": null,
   "metadata": {
    "collapsed": true
   },
   "outputs": [],
   "source": []
  }
 ],
 "metadata": {
  "kernelspec": {
   "display_name": "Python 3",
   "language": "python",
   "name": "python3"
  },
  "language_info": {
   "codemirror_mode": {
    "name": "ipython",
    "version": 3
   },
   "file_extension": ".py",
   "mimetype": "text/x-python",
   "name": "python",
   "nbconvert_exporter": "python",
   "pygments_lexer": "ipython3",
   "version": "3.6.4"
  }
 },
 "nbformat": 4,
 "nbformat_minor": 2
}
