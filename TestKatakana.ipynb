{
 "cells": [
  {
   "cell_type": "code",
   "execution_count": 1,
   "metadata": {
    "collapsed": true
   },
   "outputs": [],
   "source": [
    "import tensorflow as tf\n",
    "from pathlib import Path as p\n",
    "import os\n",
    "import numpy as np\n",
    "import cv2 \n",
    "np.set_printoptions(threshold=np.nan)"
   ]
  },
  {
   "cell_type": "markdown",
   "metadata": {},
   "source": [
    "# load anh tesst"
   ]
  },
  {
   "cell_type": "markdown",
   "metadata": {},
   "source": [
    "a=np.arange(1,13).reshape(2,2,3)\n",
    "print(a)\n",
    "b=np.dot(a,2)\n",
    "print(b)"
   ]
  },
  {
   "cell_type": "code",
   "execution_count": 11,
   "metadata": {},
   "outputs": [
    {
     "name": "stdout",
     "output_type": "stream",
     "text": [
      "(1, 64, 64, 3)\n"
     ]
    }
   ],
   "source": [
    "# file_image=r\"D:\\Hoang\\data_use_kl\\data_use_kl\\a_k\\00135.png\"\n",
    "def convert_image_to_input(file_image):\n",
    "    img_size=64\n",
    "    num_channels=3\n",
    "\n",
    "    images=[]\n",
    "    img=cv2.imread(file_image,0)\n",
    "    cv2.imwrite(file_image,img)\n",
    "    \n",
    "    \n",
    "    img = cv2.imread(file_image)\n",
    "    img= cv2.resize(img,(img_size,img_size))\n",
    "    img=img.astype(np.float32)\n",
    "    img=np.multiply(img, 1.0/255.0)\n",
    "\n",
    "\n",
    "    images.append(img)\n",
    "\n",
    "    images = np.array(images)\n",
    "#     print(images.shape)\n",
    "\n",
    "    x_batch = images.reshape(-1,img_size,img_size,num_channels)\n",
    "#     print(x_batch.shape)\n",
    "    return x_batch\n",
    "file =r\"D:\\DatasetJapanese\\data_katagana\\katagana_train\\a_k\\00001.png\"\n",
    "x= convert_image_to_input(file)\n",
    "print(x.shape)"
   ]
  },
  {
   "cell_type": "code",
   "execution_count": 8,
   "metadata": {
    "collapsed": true
   },
   "outputs": [],
   "source": [
    "def predict(file_image):\n",
    "    tf.get_default_graph()\n",
    "    session = tf.Session()\n",
    "    saver= tf.train.import_meta_graph(r\"katakana-model.ckpt-60.meta\", clear_devices=True)\n",
    "    path_model= os.getcwd()+\"\\model\"\n",
    "    print(path_model)\n",
    "    path_model = tf.train.latest_checkpoint(r\"C:\\Users\\BuiHoang\\a_KhoaLuan\\model3\")\n",
    "#     print(path_model)\n",
    "    saver.restore(session,path_model)\n",
    "\n",
    "    graph = tf.get_default_graph()\n",
    "\n",
    "    y_pred=graph.get_tensor_by_name(\"y_pred:0\")\n",
    "\n",
    "    x= graph.get_tensor_by_name(\"x:0\") \n",
    "\n",
    "    # y_true = graph.get_tensor_by_name(\"y_true:0\") \n",
    "    \n",
    "    x_batch = convert_image_to_input(file_image)\n",
    "    result=session.run(y_pred, feed_dict={x:x_batch})\n",
    "#     print(result)\n",
    "#     print(np.argmax(result,1 ))\n",
    "    return result"
   ]
  },
  {
   "cell_type": "code",
   "execution_count": 9,
   "metadata": {},
   "outputs": [
    {
     "name": "stdout",
     "output_type": "stream",
     "text": [
      "C:\\Users\\BuiHoang\\b_KhoaLuan\\model\n"
     ]
    },
    {
     "ename": "NotFoundError",
     "evalue": "FindFirstFile failed for: C:/Users/buico/a_KhoaLuan/model : The system cannot find the path specified.\r\n",
     "output_type": "error",
     "traceback": [
      "\u001b[1;31m---------------------------------------------------------------------------\u001b[0m",
      "\u001b[1;31mNotFoundError\u001b[0m                             Traceback (most recent call last)",
      "\u001b[1;32m<ipython-input-9-8a70890325d3>\u001b[0m in \u001b[0;36m<module>\u001b[1;34m()\u001b[0m\n\u001b[0;32m      1\u001b[0m \u001b[0mfile_image\u001b[0m\u001b[1;33m=\u001b[0m\u001b[1;34mr\"D:\\DatasetJapanese\\data_katagana\\katakana_test\\a_k\\01400.png\"\u001b[0m\u001b[1;33m\u001b[0m\u001b[0m\n\u001b[0;32m      2\u001b[0m \u001b[0mfile_2\u001b[0m\u001b[1;33m=\u001b[0m\u001b[1;34mr\"D:\\DatasetJapanese\\data_katagana\\katakana_test\\a_k\\a.png\"\u001b[0m\u001b[1;33m\u001b[0m\u001b[0m\n\u001b[1;32m----> 3\u001b[1;33m \u001b[0mpredict\u001b[0m\u001b[1;33m(\u001b[0m\u001b[0mfile_2\u001b[0m\u001b[1;33m)\u001b[0m\u001b[1;33m\u001b[0m\u001b[0m\n\u001b[0m",
      "\u001b[1;32m<ipython-input-8-dc6b7ef0d78e>\u001b[0m in \u001b[0;36mpredict\u001b[1;34m(file_image)\u001b[0m\n\u001b[0;32m      5\u001b[0m     \u001b[0mpath_model\u001b[0m\u001b[1;33m=\u001b[0m \u001b[0mos\u001b[0m\u001b[1;33m.\u001b[0m\u001b[0mgetcwd\u001b[0m\u001b[1;33m(\u001b[0m\u001b[1;33m)\u001b[0m\u001b[1;33m+\u001b[0m\u001b[1;34m\"\\model\"\u001b[0m\u001b[1;33m\u001b[0m\u001b[0m\n\u001b[0;32m      6\u001b[0m     \u001b[0mprint\u001b[0m\u001b[1;33m(\u001b[0m\u001b[0mpath_model\u001b[0m\u001b[1;33m)\u001b[0m\u001b[1;33m\u001b[0m\u001b[0m\n\u001b[1;32m----> 7\u001b[1;33m     \u001b[0mpath_model\u001b[0m \u001b[1;33m=\u001b[0m \u001b[0mtf\u001b[0m\u001b[1;33m.\u001b[0m\u001b[0mtrain\u001b[0m\u001b[1;33m.\u001b[0m\u001b[0mlatest_checkpoint\u001b[0m\u001b[1;33m(\u001b[0m\u001b[1;34mr\"C:\\Users\\BuiHoang\\a_KhoaLuan\\model3\"\u001b[0m\u001b[1;33m)\u001b[0m\u001b[1;33m\u001b[0m\u001b[0m\n\u001b[0m\u001b[0;32m      8\u001b[0m \u001b[1;31m#     print(path_model)\u001b[0m\u001b[1;33m\u001b[0m\u001b[1;33m\u001b[0m\u001b[0m\n\u001b[0;32m      9\u001b[0m     \u001b[0msaver\u001b[0m\u001b[1;33m.\u001b[0m\u001b[0mrestore\u001b[0m\u001b[1;33m(\u001b[0m\u001b[0msession\u001b[0m\u001b[1;33m,\u001b[0m\u001b[0mpath_model\u001b[0m\u001b[1;33m)\u001b[0m\u001b[1;33m\u001b[0m\u001b[0m\n",
      "\u001b[1;32m~\\Anaconda3\\lib\\site-packages\\tensorflow\\python\\training\\saver.py\u001b[0m in \u001b[0;36mlatest_checkpoint\u001b[1;34m(checkpoint_dir, latest_filename)\u001b[0m\n\u001b[0;32m   1600\u001b[0m     v1_path = _prefix_to_checkpoint_path(ckpt.model_checkpoint_path,\n\u001b[0;32m   1601\u001b[0m                                          saver_pb2.SaverDef.V1)\n\u001b[1;32m-> 1602\u001b[1;33m     if file_io.get_matching_files(v2_path) or file_io.get_matching_files(\n\u001b[0m\u001b[0;32m   1603\u001b[0m         v1_path):\n\u001b[0;32m   1604\u001b[0m       \u001b[1;32mreturn\u001b[0m \u001b[0mckpt\u001b[0m\u001b[1;33m.\u001b[0m\u001b[0mmodel_checkpoint_path\u001b[0m\u001b[1;33m\u001b[0m\u001b[0m\n",
      "\u001b[1;32m~\\Anaconda3\\lib\\site-packages\\tensorflow\\python\\lib\\io\\file_io.py\u001b[0m in \u001b[0;36mget_matching_files\u001b[1;34m(filename)\u001b[0m\n\u001b[0;32m    330\u001b[0m           \u001b[1;31m# Convert the filenames to string from bytes.\u001b[0m\u001b[1;33m\u001b[0m\u001b[1;33m\u001b[0m\u001b[0m\n\u001b[0;32m    331\u001b[0m           \u001b[0mcompat\u001b[0m\u001b[1;33m.\u001b[0m\u001b[0mas_str_any\u001b[0m\u001b[1;33m(\u001b[0m\u001b[0mmatching_filename\u001b[0m\u001b[1;33m)\u001b[0m\u001b[1;33m\u001b[0m\u001b[0m\n\u001b[1;32m--> 332\u001b[1;33m           \u001b[1;32mfor\u001b[0m \u001b[0msingle_filename\u001b[0m \u001b[1;32min\u001b[0m \u001b[0mfilename\u001b[0m\u001b[1;33m\u001b[0m\u001b[0m\n\u001b[0m\u001b[0;32m    333\u001b[0m           for matching_filename in pywrap_tensorflow.GetMatchingFiles(\n\u001b[0;32m    334\u001b[0m               compat.as_bytes(single_filename), status)\n",
      "\u001b[1;32m~\\Anaconda3\\lib\\contextlib.py\u001b[0m in \u001b[0;36m__exit__\u001b[1;34m(self, type, value, traceback)\u001b[0m\n\u001b[0;32m     86\u001b[0m         \u001b[1;32mif\u001b[0m \u001b[0mtype\u001b[0m \u001b[1;32mis\u001b[0m \u001b[1;32mNone\u001b[0m\u001b[1;33m:\u001b[0m\u001b[1;33m\u001b[0m\u001b[0m\n\u001b[0;32m     87\u001b[0m             \u001b[1;32mtry\u001b[0m\u001b[1;33m:\u001b[0m\u001b[1;33m\u001b[0m\u001b[0m\n\u001b[1;32m---> 88\u001b[1;33m                 \u001b[0mnext\u001b[0m\u001b[1;33m(\u001b[0m\u001b[0mself\u001b[0m\u001b[1;33m.\u001b[0m\u001b[0mgen\u001b[0m\u001b[1;33m)\u001b[0m\u001b[1;33m\u001b[0m\u001b[0m\n\u001b[0m\u001b[0;32m     89\u001b[0m             \u001b[1;32mexcept\u001b[0m \u001b[0mStopIteration\u001b[0m\u001b[1;33m:\u001b[0m\u001b[1;33m\u001b[0m\u001b[0m\n\u001b[0;32m     90\u001b[0m                 \u001b[1;32mreturn\u001b[0m \u001b[1;32mFalse\u001b[0m\u001b[1;33m\u001b[0m\u001b[0m\n",
      "\u001b[1;32m~\\Anaconda3\\lib\\site-packages\\tensorflow\\python\\framework\\errors_impl.py\u001b[0m in \u001b[0;36mraise_exception_on_not_ok_status\u001b[1;34m()\u001b[0m\n\u001b[0;32m    464\u001b[0m           \u001b[1;32mNone\u001b[0m\u001b[1;33m,\u001b[0m \u001b[1;32mNone\u001b[0m\u001b[1;33m,\u001b[0m\u001b[1;33m\u001b[0m\u001b[0m\n\u001b[0;32m    465\u001b[0m           \u001b[0mcompat\u001b[0m\u001b[1;33m.\u001b[0m\u001b[0mas_text\u001b[0m\u001b[1;33m(\u001b[0m\u001b[0mpywrap_tensorflow\u001b[0m\u001b[1;33m.\u001b[0m\u001b[0mTF_Message\u001b[0m\u001b[1;33m(\u001b[0m\u001b[0mstatus\u001b[0m\u001b[1;33m)\u001b[0m\u001b[1;33m)\u001b[0m\u001b[1;33m,\u001b[0m\u001b[1;33m\u001b[0m\u001b[0m\n\u001b[1;32m--> 466\u001b[1;33m           pywrap_tensorflow.TF_GetCode(status))\n\u001b[0m\u001b[0;32m    467\u001b[0m   \u001b[1;32mfinally\u001b[0m\u001b[1;33m:\u001b[0m\u001b[1;33m\u001b[0m\u001b[0m\n\u001b[0;32m    468\u001b[0m     \u001b[0mpywrap_tensorflow\u001b[0m\u001b[1;33m.\u001b[0m\u001b[0mTF_DeleteStatus\u001b[0m\u001b[1;33m(\u001b[0m\u001b[0mstatus\u001b[0m\u001b[1;33m)\u001b[0m\u001b[1;33m\u001b[0m\u001b[0m\n",
      "\u001b[1;31mNotFoundError\u001b[0m: FindFirstFile failed for: C:/Users/buico/a_KhoaLuan/model : The system cannot find the path specified.\r\n"
     ]
    }
   ],
   "source": [
    "file_image=r\"D:\\DatasetJapanese\\data_katagana\\katakana_test\\a_k\\01400.png\"\n",
    "file_2=r\"D:\\DatasetJapanese\\data_katagana\\katakana_test\\a_k\\a.png\"\n",
    "predict(file_2)"
   ]
  },
  {
   "cell_type": "code",
   "execution_count": 16,
   "metadata": {},
   "outputs": [
    {
     "name": "stdout",
     "output_type": "stream",
     "text": [
      ".\\model\\modelxxx.ckpt-60\n",
      "model\\modelxxx.ckpt-60\n",
      "INFO:tensorflow:Restoring parameters from .\\model\\modelxxx.ckpt-60\n",
      "[[ 0.30599955  0.01927079  0.36059126  0.18599263  0.12814581]]\n"
     ]
    }
   ],
   "source": [
    "\n",
    "# coding: utf-8\n",
    "\n",
    "# In[20]:\n",
    "import tensorflow as tf\n",
    "\n",
    "from pathlib import Path \n",
    "import os\n",
    "import numpy as np\n",
    "import cv2\n",
    "from pathlib import  Path\n",
    "\n",
    "np.set_printoptions(threshold=np.nan)\n",
    "\n",
    "\n",
    "path_model = \"./model\"\n",
    "\n",
    "# file_image=r\"D:\\DatasetJapanese\\data_katagana\\katakana_test\\a_k\\01400.png\"\n",
    "\n",
    "def convert_image_to_input(file_image):\n",
    "    img_size=64\n",
    "    num_channels=3\n",
    "    file_image =str(file_image)\n",
    "    images=[]\n",
    "    img=cv2.imread(file_image,0)\n",
    "    cv2.imwrite(file_image,img)\n",
    "    \n",
    "    \n",
    "    img = cv2.imread(file_image)\n",
    "    img= cv2.resize(img,(img_size,img_size))\n",
    "    img=img.astype(np.float32)\n",
    "    img=np.multiply(img, 1.0/255.0)\n",
    "\n",
    "\n",
    "    images.append(img)\n",
    "\n",
    "    images = np.array(images)\n",
    "#     print(images.shape)\n",
    "\n",
    "    x_batch = images.reshape(-1,img_size,img_size,num_channels)\n",
    "    # print(x_batch.shape)\n",
    "\n",
    "    return x_batch\n",
    "\n",
    "\n",
    "# In[22]:\n",
    "\n",
    "\n",
    "def predict(file_image):\n",
    "    session = tf.Session()\n",
    "    saver= tf.train.import_meta_graph(\".\\model\\modelxxx.ckpt-60.meta\")\n",
    "    path_model = tf.train.latest_checkpoint(\".\\model\")\n",
    "    print(path_model)\n",
    "    p=Path(path_model)\n",
    "    print(p.expanduser())\n",
    "    saver.restore(session,path_model)\n",
    "\n",
    "    graph = tf.get_default_graph()\n",
    "    # for tensor in graph.as_graph_def().node:\n",
    "    #     print(tensor.name)\n",
    "\n",
    "\n",
    "    y_pred=graph.get_tensor_by_name(\"Test/y_pred:0\")\n",
    "\n",
    "    x= graph.get_tensor_by_name(\"inputs/x:0\")\n",
    "    keep_prob=graph.get_tensor_by_name(\"inputs/keep_prob:0\")\n",
    "\n",
    "    # y_true = graph.get_tensor_by_name(\"y_true:0\")\n",
    "\n",
    "    x_batch = convert_image_to_input(file_image)\n",
    "    result=session.run(y_pred, feed_dict={x:x_batch,keep_prob:1.0})\n",
    "    # print(result)\n",
    "    # print(np.argmax(result,1 ))\n",
    "    return result\n",
    "\n",
    "\n",
    "\n",
    "# In[19]:\n",
    "\n",
    "\n",
    "file_image=r\"D:\\DatasetJapanese\\data_katagana\\katakana_test\\a_k\\01400.png\"\n",
    "file_2=r\"D:\\DatasetJapanese\\data_katagana\\katagana_train\\a_k\\00001.png\"\n",
    "\n",
    "print(predict(file_2))\n",
    "\n"
   ]
  },
  {
   "cell_type": "code",
   "execution_count": null,
   "metadata": {
    "collapsed": true
   },
   "outputs": [],
   "source": []
  }
 ],
 "metadata": {
  "kernelspec": {
   "display_name": "Python 3",
   "language": "python",
   "name": "python3"
  },
  "language_info": {
   "codemirror_mode": {
    "name": "ipython",
    "version": 3
   },
   "file_extension": ".py",
   "mimetype": "text/x-python",
   "name": "python",
   "nbconvert_exporter": "python",
   "pygments_lexer": "ipython3",
   "version": "3.6.2"
  }
 },
 "nbformat": 4,
 "nbformat_minor": 2
}
