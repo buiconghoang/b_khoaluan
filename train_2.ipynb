{
 "cells": [
  {
   "cell_type": "code",
   "execution_count": 1,
   "metadata": {},
   "outputs": [
    {
     "name": "stderr",
     "output_type": "stream",
     "text": [
      "D:\\Anaconda\\lib\\site-packages\\h5py\\__init__.py:36: FutureWarning: Conversion of the second argument of issubdtype from `float` to `np.floating` is deprecated. In future, it will be treated as `np.float64 == np.dtype(float).type`.\n",
      "  from ._conv import register_converters as _register_converters\n"
     ]
    }
   ],
   "source": [
    "import dataset \n",
    "import tensorflow as tf\n",
    "import time\n",
    "from datetime import timedelta\n",
    "import math\n",
    "import random\n",
    "import numpy as np\n",
    "import time\n",
    "import pickle\n",
    "from pathlib import Path\n",
    "import math"
   ]
  },
  {
   "cell_type": "code",
   "execution_count": 2,
   "metadata": {},
   "outputs": [
    {
     "name": "stdout",
     "output_type": "stream",
     "text": [
      "1.8.0\n"
     ]
    },
    {
     "data": {
      "text/plain": [
       "<tensorflow.python.framework.ops.Graph at 0x20e816a39e8>"
      ]
     },
     "execution_count": 2,
     "metadata": {},
     "output_type": "execute_result"
    }
   ],
   "source": [
    "from  numpy.random import seed\n",
    "seed(1)\n",
    "from tensorflow import set_random_seed\n",
    "set_random_seed(2)\n",
    "print(tf.__version__)\n",
    "tf.get_default_graph()"
   ]
  },
  {
   "cell_type": "markdown",
   "metadata": {},
   "source": [
    "load du lieu"
   ]
  },
  {
   "cell_type": "code",
   "execution_count": 3,
   "metadata": {
    "scrolled": true
   },
   "outputs": [
    {
     "name": "stdout",
     "output_type": "stream",
     "text": [
      "['a_h', 'a_k', 'chi_h', 'chi_k', 'e_h', 'e_k', 'i_h', 'i_k']\n",
      "8\n"
     ]
    }
   ],
   "source": [
    "# khoi tao gia tri load du lieu\n",
    "\n",
    "train_path= r\"D:\\Hoang\\data_test\"\n",
    "\n",
    "classes = dataset.get_labels(train_path)\n",
    "\n",
    "print(classes)\n",
    "\n",
    "num_classes = len(classes)\n",
    "print(num_classes)"
   ]
  },
  {
   "cell_type": "code",
   "execution_count": 4,
   "metadata": {
    "scrolled": true
   },
   "outputs": [
    {
     "name": "stdout",
     "output_type": "stream",
     "text": [
      "uncompress data\n"
     ]
    }
   ],
   "source": [
    "#load du lieu \n",
    "        \n",
    "validation_size = 0.1\n",
    "test_size = 0.2\n",
    "img_size = 64\n",
    "num_input_channels = 1\n",
    "\n",
    "class DataCompression(object):\n",
    "    def __init__(self,data):\n",
    "        self.train = data.train\n",
    "        self.valid = data.valid\n",
    "        self.test = data.test\n",
    "\n",
    "p=Path(r\"D:\\Hoang\\train_data_experiment.file\")\n",
    " \n",
    "if not p.exists():\n",
    "    print(\"Get and Compress data\")\n",
    "    data_train=dataset.read_train_sets(train_path=train_path,image_size=img_size,test_size=test_size,validation_size=validation_size)\n",
    "    data_train = DataCompression(data_train)\n",
    "    \n",
    "    with open(p, \"wb\") as f:\n",
    "        pickle.dump(data_train, f, pickle.HIGHEST_PROTOCOL)\n",
    "    \n",
    "#read data from file data compression\n",
    "with open(p,\"rb\") as f:\n",
    "    print(\"uncompress data\")\n",
    "    data = pickle.load(f)\n",
    "    \n"
   ]
  },
  {
   "cell_type": "code",
   "execution_count": 5,
   "metadata": {},
   "outputs": [
    {
     "name": "stdout",
     "output_type": "stream",
     "text": [
      "(76995, 64, 64, 1)\n",
      "(10999, 64, 64, 1)\n",
      "(21998, 64, 64, 1)\n"
     ]
    }
   ],
   "source": [
    "print(data.train.images.shape)\n",
    "print(data.valid.images.shape)\n",
    "print(data.test.images.shape)"
   ]
  },
  {
   "cell_type": "raw",
   "metadata": {},
   "source": [
    "#test du lieu\n",
    "import cv2 as cv\n",
    "a=data.valid.images[0]\n",
    "cv.imshow('image',a)\n",
    "cv.waitKey(0)\n",
    "cv.destroyAllWindows()\n",
    "\n",
    "print(data.valid.img_names[0])\n",
    "print(np.shape(data.valid.labels))\n",
    "print(data.valid.labels[0])\n",
    "\n",
    "print(data.valid.cls[0])\n"
   ]
  },
  {
   "cell_type": "markdown",
   "metadata": {
    "collapsed": true
   },
   "source": [
    "# Xây dựng hàm cho CNN"
   ]
  },
  {
   "cell_type": "markdown",
   "metadata": {},
   "source": [
    "Khởi tạo giá trị"
   ]
  },
  {
   "cell_type": "code",
   "execution_count": 6,
   "metadata": {},
   "outputs": [],
   "source": [
    "tf.reset_default_graph()\n",
    "\n",
    "with tf.name_scope(\"inputs\"):\n",
    "    x = tf.placeholder(tf.float32, shape=[None, img_size,img_size,num_input_channels], name='x')\n",
    "\n",
    "    # labels\n",
    "    y_true = tf.placeholder(tf.float32, shape=[None, num_classes], name='y_true')\n",
    "\n",
    "    keep_prob=tf.placeholder(tf.float32,name=\"keep_prob\")\n",
    "    \n",
    "    y_true_cls = tf.argmax(y_true, axis=1)"
   ]
  },
  {
   "cell_type": "code",
   "execution_count": 7,
   "metadata": {},
   "outputs": [],
   "source": [
    "# cau truc CNN M6-1\n",
    "\n",
    "# filter_size_conv1 = 3 \n",
    "# num_filters_conv1 = 32\n",
    "\n",
    "# filter_size_conv2 = 3\n",
    "# num_filters_conv2 = 32\n",
    "\n",
    "# filter_size_conv3 = 3\n",
    "# num_filters_conv3 = 64\n",
    "\n",
    "# filter_size_conv4 = 3\n",
    "# num_filters_conv4 = 64\n",
    "    \n",
    "# fc_layer_size = 256\n",
    "\n",
    "#cau truc CNN \n",
    "filter_size_conv1 = 3 \n",
    "num_filters_conv1 = 32\n",
    "\n",
    "filter_size_conv2 = 3\n",
    "num_filters_conv2 = 64\n",
    "\n",
    "fc_layer_size = 512"
   ]
  },
  {
   "cell_type": "code",
   "execution_count": 8,
   "metadata": {},
   "outputs": [],
   "source": [
    "def create_weights(shape,name):\n",
    "    return tf.Variable(tf.truncated_normal(shape, stddev=0.05),name=name)\n",
    "\n",
    "def create_biases(size,name):\n",
    "    return tf.Variable(tf.constant(0.05, shape=[size]),name=name)"
   ]
  },
  {
   "cell_type": "code",
   "execution_count": 9,
   "metadata": {},
   "outputs": [],
   "source": [
    "def create_conv_layer(input,\n",
    "               num_input_channels, # so channels của từng ảnh\n",
    "               filter_size,    # kích thước filter, kenel, \n",
    "               num_filters,  # số lượng đầu ra cho layer sau\n",
    "               use_maxpool=False, #sử dụng max_pooling k?\n",
    "               name = \"conv_x\" ):  \n",
    "    with tf.name_scope(name):\n",
    "        #tao weight và bias cho lop convolutional nay/\n",
    "#         print(\"input {}: {}\".format(name,input))\n",
    "\n",
    "        name_weights = name+\"_weights\"\n",
    "        with tf.name_scope(\"weights\"):\n",
    "            weights = create_weights(shape=[filter_size, filter_size, num_input_channels, num_filters],name=name_weights)\n",
    "#         print(\"weights {}: {}\".format(name,weights))\n",
    "\n",
    "        name_biases = name+\"_biases\"\n",
    "        with tf.name_scope(\"biases\"):\n",
    "            biases = create_biases(num_filters,name=name_biases)\n",
    "        ## xay dung convolution layer, layer trả về có dimension nhu input\n",
    "#         with tf.device('/gpu:0'):\n",
    "        layer = tf.nn.conv2d(input=input,\n",
    "                         filter=weights,\n",
    "                         strides=[1, 1, 1, 1],\n",
    "                         padding='SAME')\n",
    "#         print(\"layer {}: {}\".format(name,layer))\n",
    "\n",
    "        layer += biases\n",
    "        layer = tf.nn.relu(layer)\n",
    "\n",
    "        if use_maxpool:\n",
    "            layer = tf.nn.max_pool(value=layer,\n",
    "                                    ksize=[1, 2, 2, 1],\n",
    "                                    strides=[1, 2, 2, 1],\n",
    "                                    padding='SAME')\n",
    "\n",
    "\n",
    "#         store in histogram\n",
    "        tf.summary.histogram(\"weights\",weights)\n",
    "        tf.summary.histogram(\"biases\",biases)\n",
    "        tf.summary.histogram(\"layer\",layer)\n",
    "        \n",
    "        \n",
    "        layer = tf.identity(layer,name=name)\n",
    "        return layer\n",
    "\n",
    "def create_flatten_layer(layer,use_dropout, name=\"flatten\"):\n",
    "    with tf.name_scope(name):\n",
    "        # chuyen mỗi ảnh thanh mot vector, moi anh sẽ có kích thước phẳng là: img_size * img_size *num_channels\n",
    "\n",
    "        #dimension layer: batch_size,img_size,img_size,num_channels \n",
    "\n",
    "        #lấy số lượng data\n",
    "        layer_shape = layer.get_shape()\n",
    "\n",
    "        # số lượng feature mỗi ảnh = img_size * img_size *num_channels\n",
    "        num_features = layer_shape[1:4].num_elements()\n",
    "\n",
    "        # reshape lại data ví dụ (10,2,2,5) // có 10 ảnh và mỗi ảnh có 2*2*5=20 feature => flat_layer: (10,20) \n",
    "        layer = tf.reshape(layer, [-1, num_features])\n",
    "#         print(\"layer {}: {}\".format(name,layer))\n",
    "        layer = tf.identity(layer,name=name) # set name for layer\n",
    "        if use_dropout:\n",
    "             layer=tf.nn.dropout(layer,keep_prob);\n",
    "        return layer\n",
    "\n",
    "def create_fc_layer(input,          \n",
    "             num_inputs,    \n",
    "             num_outputs,\n",
    "             use_relu=False, \n",
    "             use_dropout=False,\n",
    "             name = \"fc\"):\n",
    "    \n",
    "    with tf.name_scope(name):\n",
    "        name_weights = name+\"_weights\"\n",
    "        name_biases = name+\"_biases\"\n",
    "        with tf.name_scope(\"weights\"):\n",
    "            weights = create_weights(shape=[num_inputs, num_outputs],name=name_weights)\n",
    "        with tf.name_scope(\"biases\"):\n",
    "            biases = create_biases(num_outputs,name=name_biases)\n",
    "    \n",
    "#         with tf.device('/gpu:0'):\n",
    "        layer = tf.matmul(input, weights) + biases\n",
    "\n",
    "        if use_relu:\n",
    "            layer = tf.nn.relu(layer)\n",
    "        if use_dropout:\n",
    "             layer=tf.nn.dropout(layer,keep_prob);\n",
    "#         print(\"layer {}: {}\".format(name,layer))\n",
    "\n",
    "        tf.summary.histogram(\"weights\",weights)\n",
    "        tf.summary.histogram(\"biases\",biases)\n",
    "        tf.summary.histogram(\"layer\",layer)\n",
    "        \n",
    "        layer = tf.identity(layer,name=name)\n",
    "        return layer"
   ]
  },
  {
   "cell_type": "markdown",
   "metadata": {},
   "source": [
    "# Xây dựng cấu trúc CNN\n",
    "conv3-32 -> conv3-32 ->maxpool -> conv3-64 -> conv3-64 -> maxpool ->fc-256 dropout->fc10"
   ]
  },
  {
   "cell_type": "code",
   "execution_count": 10,
   "metadata": {},
   "outputs": [],
   "source": [
    "# conv1 =  create_conv_layer(input=x,num_input_channels=num_input_channels,\n",
    "#                            filter_size=filter_size_conv1,num_filters=num_filters_conv1,use_maxpool=False, name=\"conv1\")\n",
    "\n",
    "# conv2 = create_conv_layer(input=conv1,num_input_channels=num_filters_conv1,\n",
    "#                           filter_size=filter_size_conv2,num_filters=num_filters_conv2,use_maxpool=True, name=\"conv2\")\n",
    "\n",
    "# conv3 = create_conv_layer(input=conv2,num_input_channels=num_filters_conv2,\n",
    "#                           filter_size=filter_size_conv3,num_filters=num_filters_conv3,use_maxpool=False, name=\"conv3\")\n",
    "\n",
    "# conv4 = create_conv_layer(input=conv3,num_input_channels=num_filters_conv3,\n",
    "#                           filter_size=filter_size_conv4,num_filters=num_filters_conv4,use_maxpool=True, name=\"conv4\")\n",
    "\n",
    "# layer_flat = create_flatten_layer(conv4, use_dropout=True)\n",
    "\n",
    "# num_feature = layer_flat.get_shape()[1:2].num_elements()\n",
    "\n",
    "# fc1 = create_fc_layer(input=layer_flat,num_inputs=num_feature,num_outputs=fc_layer_size,use_relu=True,use_dropout=True,name=\"fc1\")\n",
    "\n",
    "\n",
    "# fc2 = create_fc_layer(input=fc1,num_inputs=fc_layer_size,num_outputs=num_classes,use_relu=False,use_dropout=False,name=\"fc2\")\n",
    "\n"
   ]
  },
  {
   "cell_type": "code",
   "execution_count": 11,
   "metadata": {},
   "outputs": [],
   "source": [
    "## My model conv3-32 ->maxpool -> conv3-64->maxpool -> flatten dropout-> fc512 dropout  ->fc10\n",
    "\n",
    "conv1 =  create_conv_layer(input=x,num_input_channels=num_input_channels,\n",
    "                           filter_size=filter_size_conv1,num_filters=num_filters_conv1,use_maxpool=True, name=\"conv1\")\n",
    "\n",
    "conv2 = create_conv_layer(input=conv1,num_input_channels=num_filters_conv1,\n",
    "                          filter_size=filter_size_conv2,num_filters=num_filters_conv2,use_maxpool=True, name=\"conv2\")\n",
    "\n",
    "layer_flat = create_flatten_layer(conv2, use_dropout=True)\n",
    "\n",
    "num_feature = layer_flat.get_shape()[1:2].num_elements()\n",
    "fc1 = create_fc_layer(input=layer_flat,num_inputs=num_feature,num_outputs=fc_layer_size,use_relu=True,use_dropout=True,name=\"fc1\")\n",
    "\n",
    "\n",
    "fc2 = create_fc_layer(input=fc1,num_inputs=fc_layer_size,num_outputs=num_classes,use_relu=False,use_dropout=False,name=\"fc2\")\n",
    "\n"
   ]
  },
  {
   "cell_type": "markdown",
   "metadata": {
    "collapsed": true
   },
   "source": [
    "predict"
   ]
  },
  {
   "cell_type": "code",
   "execution_count": 12,
   "metadata": {},
   "outputs": [],
   "source": [
    "with tf.name_scope(\"Train\"):\n",
    "#     with tf.device('/gpu:0'):\n",
    "    cross_entropy = tf.nn.softmax_cross_entropy_with_logits_v2(logits=fc2,\n",
    "                                                        labels=y_true)\n",
    "    with tf.name_scope(\"loss\"):\n",
    "        loss = tf.reduce_mean(cross_entropy)\n",
    "        tf.summary.scalar(\"loss\",loss)\n",
    "    with tf.name_scope(\"train\"):\n",
    "        train_step = tf.train.AdamOptimizer(learning_rate=1e-4).minimize(loss)\n",
    "\n",
    "\n",
    "with tf.name_scope(\"Test\"):\n",
    "    y_pred = tf.nn.softmax(fc2,name='y_pred')\n",
    "    y_pred_cls = tf.argmax(y_pred, axis=1)\n",
    "    correct_prediction = tf.equal(y_pred_cls, y_true_cls)\n",
    "    accuracy = tf.reduce_mean(tf.cast(correct_prediction, tf.float32), name=\"accuracy\")\n",
    "    \n",
    "    tf.summary.scalar(\"accuracy\",accuracy)\n",
    "\n"
   ]
  },
  {
   "cell_type": "code",
   "execution_count": 13,
   "metadata": {},
   "outputs": [],
   "source": [
    "my_config =tf.ConfigProto(allow_soft_placement=True,log_device_placement=True)\n",
    "my_config.gpu_options.allow_growth = True\n",
    "session = tf.Session(config=my_config)\n",
    "\n",
    "session.run(tf.global_variables_initializer())\n",
    "\n",
    "saver = tf.train.Saver()\n",
    "\n",
    "merged =tf.summary.merge_all();\n",
    "train_writer= tf.summary.FileWriter(r\"..\\a_model_khoa_luan\\graph\\train\",session.graph)\n",
    "valid_writer=tf.summary.FileWriter(r\"..\\a_model_khoa_luan\\graph\\valid\",session.graph)"
   ]
  },
  {
   "cell_type": "code",
   "execution_count": 16,
   "metadata": {
    "scrolled": false
   },
   "outputs": [],
   "source": [
    "def train(num_epochs, batch_size):\n",
    "    num_iteration = int(data.train.images.shape[0]/batch_size)\n",
    "\n",
    "    print_loss_iteration = int(num_iteration /5);\n",
    "    total_iterations =0\n",
    "    for epoch in range(num_epochs):\n",
    "        for i in range(num_iteration):\n",
    "           \n",
    "            x_batch, y_true_batch, _, cls_batch = data.train.next_batch(batch_size)\n",
    "    #         print(y_true_batch.shape)\n",
    "            feed_dict_train = {x: x_batch, y_true: y_true_batch, keep_prob: 0.5}    \n",
    "\n",
    "            session.run(train_step, feed_dict=feed_dict_train )\n",
    "            \n",
    "            if (i % print_loss_iteration == 0 or i==num_iteration-1):\n",
    "                \n",
    "                x_valid_batch, y_valid_batch, iname_valid_batch,cls_valid_batch = data.valid.next_batch(500)\n",
    "                \n",
    "                feed_dict_valid = {x: x_valid_batch, y_true: y_valid_batch, keep_prob:1}\n",
    "                feed_dict_train = {x: x_batch, y_true: y_true_batch, keep_prob: 1}\n",
    "\n",
    "                valid_loss,valid_accuracy = session.run([loss,accuracy], feed_dict=feed_dict_valid)\n",
    " \n",
    "                train_loss,train_accuracy = session.run([loss,accuracy], feed_dict=feed_dict_train)\n",
    "                \n",
    "                total_iterations=total_iterations+print_loss_iteration\n",
    "            \n",
    "                a,b=session.run([y_true,y_pred],feed_dict=feed_dict_train)\n",
    "\n",
    "                print(f\"y_true[0:5]: {a[0:5]} \\n y_pred[0:5]: {b[0:5]}\")\n",
    "\n",
    "                \n",
    "                print(f\"epoch: {epoch} -- iteration: {total_iterations} -- train_loss: {train_loss:.2f} -- train_acc {train_accuracy:.2%} --valid_loss:{valid_loss:.2f} -- valid_acc {valid_accuracy:.2%} -- time: {time.ctime()}\")\n",
    "#                 if i==num_iteration-1:\n",
    "#                     print(f\"save graph -- epoch: {epoch}-- iteration: {i}\")\n",
    "                train_merged=session.run(merged, feed_dict=feed_dict_train)\n",
    "                valid_merged = session.run(merged, feed_dict=feed_dict_valid)\n",
    "                train_writer.add_summary(train_merged,total_iterations)\n",
    "                valid_writer.add_summary(valid_merged,total_iterations)\n",
    "            \n",
    "            \n",
    "        save_path=saver.save(session, r'..\\a_model_khoa_luan\\model\\modelTest.ckpt',global_step=epoch)\n",
    "\n",
    "def accuracy_test():\n",
    "    \n",
    "    num_interations = int(data.test.images.shape[0]/500)\n",
    "    \n",
    "    for iteration in range(num_interations):\n",
    "        x_batch_test, y_true_batch_test, _, cls_batch_test = data.test.next_batch(500)\n",
    "        feed_dict_test = {x:x_batch,y_true:y_batch,keep_prob:1.0}\n",
    "        acc=session.run(accuracy,feed_dict =feed_dict_test)\n",
    "        print(f\"iter: {iteration} -- accuracy test : {acc}\")"
   ]
  },
  {
   "cell_type": "code",
   "execution_count": 17,
   "metadata": {},
   "outputs": [
    {
     "name": "stdout",
     "output_type": "stream",
     "text": [
      "start time: Sun Aug 12 07:00:22 2018\n",
      "y_true[0:5]: [[0. 0. 1. 0. 0. 0. 0. 0.]\n",
      " [1. 0. 0. 0. 0. 0. 0. 0.]\n",
      " [0. 0. 0. 1. 0. 0. 0. 0.]\n",
      " [0. 0. 0. 1. 0. 0. 0. 0.]\n",
      " [0. 0. 0. 0. 0. 0. 0. 1.]] \n",
      " y_pred[0:5]: [[0.12515867 0.10334194 0.12221808 0.11151695 0.07464902 0.16602437\n",
      "  0.10391101 0.19317992]\n",
      " [0.11395647 0.11623041 0.11565898 0.11375597 0.07860434 0.17210616\n",
      "  0.10778066 0.181907  ]\n",
      " [0.11413724 0.12282854 0.10607875 0.10424633 0.07876731 0.17313035\n",
      "  0.11317742 0.18763414]\n",
      " [0.10804724 0.12823331 0.10512505 0.10668184 0.08141577 0.18146512\n",
      "  0.10922931 0.1798023 ]\n",
      " [0.10780839 0.13125911 0.10253922 0.1081315  0.08129027 0.17434874\n",
      "  0.10778265 0.18684016]]\n",
      "epoch: 0 -- iteration: 153 -- train_loss: 2.04 -- train_acc 20.00% --valid_loss:2.06 -- valid_acc 12.20% -- time: Sun Aug 12 07:00:23 2018\n",
      "y_true[0:5]: [[0. 0. 0. 0. 0. 0. 0. 1.]\n",
      " [0. 0. 0. 1. 0. 0. 0. 0.]\n",
      " [0. 0. 0. 1. 0. 0. 0. 0.]\n",
      " [0. 1. 0. 0. 0. 0. 0. 0.]\n",
      " [0. 0. 1. 0. 0. 0. 0. 0.]] \n",
      " y_pred[0:5]: [[0.00467853 0.14770795 0.02209734 0.22834727 0.01677797 0.21640445\n",
      "  0.01187761 0.35210887]\n",
      " [0.00113552 0.28074342 0.00410499 0.39088172 0.00149107 0.16400601\n",
      "  0.00556841 0.15206884]\n",
      " [0.00581145 0.2874858  0.01769252 0.33449766 0.00987609 0.16268799\n",
      "  0.01363351 0.16831501]\n",
      " [0.00079751 0.39677808 0.00447787 0.18393433 0.00237617 0.20619863\n",
      "  0.00484137 0.20059602]\n",
      " [0.2240251  0.08487178 0.51877284 0.0648143  0.07245729 0.02320648\n",
      "  0.00332962 0.00852263]]\n",
      "epoch: 0 -- iteration: 306 -- train_loss: 1.00 -- train_acc 76.00% --valid_loss:0.93 -- valid_acc 77.40% -- time: Sun Aug 12 07:00:33 2018\n",
      "y_true[0:5]: [[0. 0. 0. 0. 1. 0. 0. 0.]\n",
      " [0. 0. 0. 1. 0. 0. 0. 0.]\n",
      " [0. 1. 0. 0. 0. 0. 0. 0.]\n",
      " [0. 0. 0. 0. 0. 0. 1. 0.]\n",
      " [0. 0. 0. 0. 0. 0. 0. 1.]] \n",
      " y_pred[0:5]: [[2.55415231e-01 1.09840869e-06 5.86527847e-02 4.56767921e-05\n",
      "  6.83674932e-01 2.05542939e-03 3.90150708e-05 1.15798764e-04]\n",
      " [2.95067020e-03 2.10577577e-01 9.87166725e-03 4.87927854e-01\n",
      "  6.02350710e-03 1.04625799e-01 5.48708427e-04 1.77474171e-01]\n",
      " [7.85958674e-03 9.49909687e-01 8.97295121e-03 8.31944030e-03\n",
      "  3.59961321e-03 1.78370886e-02 8.82446649e-04 2.61893286e-03]\n",
      " [4.17333050e-03 5.68469800e-02 1.67943595e-03 2.69300956e-02\n",
      "  7.06692750e-04 7.77613046e-03 8.89273942e-01 1.26134884e-02]\n",
      " [1.85113512e-02 8.84470250e-03 1.03340626e-01 1.49577454e-01\n",
      "  6.90543652e-02 4.30839807e-02 5.32319630e-03 6.02264285e-01]]\n",
      "epoch: 0 -- iteration: 459 -- train_loss: 0.42 -- train_acc 91.00% --valid_loss:0.48 -- valid_acc 86.00% -- time: Sun Aug 12 07:00:42 2018\n",
      "y_true[0:5]: [[0. 0. 1. 0. 0. 0. 0. 0.]\n",
      " [0. 0. 1. 0. 0. 0. 0. 0.]\n",
      " [0. 0. 0. 1. 0. 0. 0. 0.]\n",
      " [0. 1. 0. 0. 0. 0. 0. 0.]\n",
      " [0. 0. 0. 0. 0. 1. 0. 0.]] \n",
      " y_pred[0:5]: [[7.5424336e-02 1.6550476e-03 6.9371200e-01 4.6841772e-03 1.6908686e-01\n",
      "  6.1501367e-03 4.3803759e-02 5.4837372e-03]\n",
      " [1.9480231e-05 8.0615425e-09 9.9997425e-01 2.3130148e-07 5.8155206e-06\n",
      "  2.5931504e-07 1.9777582e-11 3.0572046e-08]\n",
      " [2.4030546e-03 1.6173351e-03 1.6873218e-03 9.5624709e-01 1.5014909e-04\n",
      "  1.5291636e-03 7.3381583e-04 3.5632212e-02]\n",
      " [7.8397366e-05 4.7129643e-01 2.3550497e-04 1.6965798e-01 2.4510149e-04\n",
      "  1.9172874e-01 2.4536119e-03 1.6430427e-01]\n",
      " [1.1392277e-02 1.5101255e-03 1.2236286e-03 2.9872924e-03 8.7862037e-02\n",
      "  8.8881809e-01 2.5366291e-03 3.6698256e-03]]\n",
      "epoch: 0 -- iteration: 612 -- train_loss: 0.51 -- train_acc 79.00% --valid_loss:0.39 -- valid_acc 90.00% -- time: Sun Aug 12 07:00:52 2018\n"
     ]
    },
    {
     "ename": "KeyboardInterrupt",
     "evalue": "",
     "output_type": "error",
     "traceback": [
      "\u001b[1;31m---------------------------------------------------------------------------\u001b[0m",
      "\u001b[1;31mKeyboardInterrupt\u001b[0m                         Traceback (most recent call last)",
      "\u001b[1;32m<ipython-input-17-72ce97c0eb5d>\u001b[0m in \u001b[0;36m<module>\u001b[1;34m()\u001b[0m\n\u001b[0;32m      1\u001b[0m \u001b[0mstart_time\u001b[0m \u001b[1;33m=\u001b[0m \u001b[0mtime\u001b[0m\u001b[1;33m.\u001b[0m\u001b[0mtime\u001b[0m\u001b[1;33m(\u001b[0m\u001b[1;33m)\u001b[0m\u001b[1;33m\u001b[0m\u001b[0m\n\u001b[0;32m      2\u001b[0m \u001b[0mprint\u001b[0m\u001b[1;33m(\u001b[0m\u001b[1;34mf\"start time: {time.ctime(start_time)}\"\u001b[0m\u001b[1;33m)\u001b[0m\u001b[1;33m\u001b[0m\u001b[0m\n\u001b[1;32m----> 3\u001b[1;33m \u001b[0mtrain\u001b[0m\u001b[1;33m(\u001b[0m\u001b[0mnum_epochs\u001b[0m\u001b[1;33m=\u001b[0m\u001b[1;36m3\u001b[0m\u001b[1;33m,\u001b[0m \u001b[0mbatch_size\u001b[0m \u001b[1;33m=\u001b[0m\u001b[1;36m100\u001b[0m\u001b[1;33m)\u001b[0m\u001b[1;33m\u001b[0m\u001b[0m\n\u001b[0m\u001b[0;32m      4\u001b[0m \u001b[0mend_time\u001b[0m\u001b[1;33m=\u001b[0m \u001b[0mtime\u001b[0m\u001b[1;33m.\u001b[0m\u001b[0mtime\u001b[0m\u001b[1;33m(\u001b[0m\u001b[1;33m)\u001b[0m\u001b[1;33m\u001b[0m\u001b[0m\n\u001b[0;32m      5\u001b[0m \u001b[0mprint\u001b[0m\u001b[1;33m(\u001b[0m\u001b[1;34mf\"end time: {time.ctime(start_time)}\"\u001b[0m\u001b[1;33m)\u001b[0m\u001b[1;33m\u001b[0m\u001b[0m\n",
      "\u001b[1;32m<ipython-input-16-c3d44c3fb35a>\u001b[0m in \u001b[0;36mtrain\u001b[1;34m(num_epochs, batch_size)\u001b[0m\n\u001b[0;32m     34\u001b[0m \u001b[1;31m#                 if i==num_iteration-1:\u001b[0m\u001b[1;33m\u001b[0m\u001b[1;33m\u001b[0m\u001b[0m\n\u001b[0;32m     35\u001b[0m \u001b[1;31m#                     print(f\"save graph -- epoch: {epoch}-- iteration: {i}\")\u001b[0m\u001b[1;33m\u001b[0m\u001b[1;33m\u001b[0m\u001b[0m\n\u001b[1;32m---> 36\u001b[1;33m                 \u001b[0mtrain_merged\u001b[0m\u001b[1;33m=\u001b[0m\u001b[0msession\u001b[0m\u001b[1;33m.\u001b[0m\u001b[0mrun\u001b[0m\u001b[1;33m(\u001b[0m\u001b[0mmerged\u001b[0m\u001b[1;33m,\u001b[0m \u001b[0mfeed_dict\u001b[0m\u001b[1;33m=\u001b[0m\u001b[0mfeed_dict_train\u001b[0m\u001b[1;33m)\u001b[0m\u001b[1;33m\u001b[0m\u001b[0m\n\u001b[0m\u001b[0;32m     37\u001b[0m                 \u001b[0mvalid_merged\u001b[0m \u001b[1;33m=\u001b[0m \u001b[0msession\u001b[0m\u001b[1;33m.\u001b[0m\u001b[0mrun\u001b[0m\u001b[1;33m(\u001b[0m\u001b[0mmerged\u001b[0m\u001b[1;33m,\u001b[0m \u001b[0mfeed_dict\u001b[0m\u001b[1;33m=\u001b[0m\u001b[0mfeed_dict_valid\u001b[0m\u001b[1;33m)\u001b[0m\u001b[1;33m\u001b[0m\u001b[0m\n\u001b[0;32m     38\u001b[0m                 \u001b[0mtrain_writer\u001b[0m\u001b[1;33m.\u001b[0m\u001b[0madd_summary\u001b[0m\u001b[1;33m(\u001b[0m\u001b[0mtrain_merged\u001b[0m\u001b[1;33m,\u001b[0m\u001b[0mtotal_iterations\u001b[0m\u001b[1;33m)\u001b[0m\u001b[1;33m\u001b[0m\u001b[0m\n",
      "\u001b[1;32mD:\\Anaconda\\lib\\site-packages\\tensorflow\\python\\client\\session.py\u001b[0m in \u001b[0;36mrun\u001b[1;34m(self, fetches, feed_dict, options, run_metadata)\u001b[0m\n\u001b[0;32m    898\u001b[0m     \u001b[1;32mtry\u001b[0m\u001b[1;33m:\u001b[0m\u001b[1;33m\u001b[0m\u001b[0m\n\u001b[0;32m    899\u001b[0m       result = self._run(None, fetches, feed_dict, options_ptr,\n\u001b[1;32m--> 900\u001b[1;33m                          run_metadata_ptr)\n\u001b[0m\u001b[0;32m    901\u001b[0m       \u001b[1;32mif\u001b[0m \u001b[0mrun_metadata\u001b[0m\u001b[1;33m:\u001b[0m\u001b[1;33m\u001b[0m\u001b[0m\n\u001b[0;32m    902\u001b[0m         \u001b[0mproto_data\u001b[0m \u001b[1;33m=\u001b[0m \u001b[0mtf_session\u001b[0m\u001b[1;33m.\u001b[0m\u001b[0mTF_GetBuffer\u001b[0m\u001b[1;33m(\u001b[0m\u001b[0mrun_metadata_ptr\u001b[0m\u001b[1;33m)\u001b[0m\u001b[1;33m\u001b[0m\u001b[0m\n",
      "\u001b[1;32mD:\\Anaconda\\lib\\site-packages\\tensorflow\\python\\client\\session.py\u001b[0m in \u001b[0;36m_run\u001b[1;34m(self, handle, fetches, feed_dict, options, run_metadata)\u001b[0m\n\u001b[0;32m   1133\u001b[0m     \u001b[1;32mif\u001b[0m \u001b[0mfinal_fetches\u001b[0m \u001b[1;32mor\u001b[0m \u001b[0mfinal_targets\u001b[0m \u001b[1;32mor\u001b[0m \u001b[1;33m(\u001b[0m\u001b[0mhandle\u001b[0m \u001b[1;32mand\u001b[0m \u001b[0mfeed_dict_tensor\u001b[0m\u001b[1;33m)\u001b[0m\u001b[1;33m:\u001b[0m\u001b[1;33m\u001b[0m\u001b[0m\n\u001b[0;32m   1134\u001b[0m       results = self._do_run(handle, final_targets, final_fetches,\n\u001b[1;32m-> 1135\u001b[1;33m                              feed_dict_tensor, options, run_metadata)\n\u001b[0m\u001b[0;32m   1136\u001b[0m     \u001b[1;32melse\u001b[0m\u001b[1;33m:\u001b[0m\u001b[1;33m\u001b[0m\u001b[0m\n\u001b[0;32m   1137\u001b[0m       \u001b[0mresults\u001b[0m \u001b[1;33m=\u001b[0m \u001b[1;33m[\u001b[0m\u001b[1;33m]\u001b[0m\u001b[1;33m\u001b[0m\u001b[0m\n",
      "\u001b[1;32mD:\\Anaconda\\lib\\site-packages\\tensorflow\\python\\client\\session.py\u001b[0m in \u001b[0;36m_do_run\u001b[1;34m(self, handle, target_list, fetch_list, feed_dict, options, run_metadata)\u001b[0m\n\u001b[0;32m   1314\u001b[0m     \u001b[1;32mif\u001b[0m \u001b[0mhandle\u001b[0m \u001b[1;32mis\u001b[0m \u001b[1;32mNone\u001b[0m\u001b[1;33m:\u001b[0m\u001b[1;33m\u001b[0m\u001b[0m\n\u001b[0;32m   1315\u001b[0m       return self._do_call(_run_fn, feeds, fetches, targets, options,\n\u001b[1;32m-> 1316\u001b[1;33m                            run_metadata)\n\u001b[0m\u001b[0;32m   1317\u001b[0m     \u001b[1;32melse\u001b[0m\u001b[1;33m:\u001b[0m\u001b[1;33m\u001b[0m\u001b[0m\n\u001b[0;32m   1318\u001b[0m       \u001b[1;32mreturn\u001b[0m \u001b[0mself\u001b[0m\u001b[1;33m.\u001b[0m\u001b[0m_do_call\u001b[0m\u001b[1;33m(\u001b[0m\u001b[0m_prun_fn\u001b[0m\u001b[1;33m,\u001b[0m \u001b[0mhandle\u001b[0m\u001b[1;33m,\u001b[0m \u001b[0mfeeds\u001b[0m\u001b[1;33m,\u001b[0m \u001b[0mfetches\u001b[0m\u001b[1;33m)\u001b[0m\u001b[1;33m\u001b[0m\u001b[0m\n",
      "\u001b[1;32mD:\\Anaconda\\lib\\site-packages\\tensorflow\\python\\client\\session.py\u001b[0m in \u001b[0;36m_do_call\u001b[1;34m(self, fn, *args)\u001b[0m\n\u001b[0;32m   1320\u001b[0m   \u001b[1;32mdef\u001b[0m \u001b[0m_do_call\u001b[0m\u001b[1;33m(\u001b[0m\u001b[0mself\u001b[0m\u001b[1;33m,\u001b[0m \u001b[0mfn\u001b[0m\u001b[1;33m,\u001b[0m \u001b[1;33m*\u001b[0m\u001b[0margs\u001b[0m\u001b[1;33m)\u001b[0m\u001b[1;33m:\u001b[0m\u001b[1;33m\u001b[0m\u001b[0m\n\u001b[0;32m   1321\u001b[0m     \u001b[1;32mtry\u001b[0m\u001b[1;33m:\u001b[0m\u001b[1;33m\u001b[0m\u001b[0m\n\u001b[1;32m-> 1322\u001b[1;33m       \u001b[1;32mreturn\u001b[0m \u001b[0mfn\u001b[0m\u001b[1;33m(\u001b[0m\u001b[1;33m*\u001b[0m\u001b[0margs\u001b[0m\u001b[1;33m)\u001b[0m\u001b[1;33m\u001b[0m\u001b[0m\n\u001b[0m\u001b[0;32m   1323\u001b[0m     \u001b[1;32mexcept\u001b[0m \u001b[0merrors\u001b[0m\u001b[1;33m.\u001b[0m\u001b[0mOpError\u001b[0m \u001b[1;32mas\u001b[0m \u001b[0me\u001b[0m\u001b[1;33m:\u001b[0m\u001b[1;33m\u001b[0m\u001b[0m\n\u001b[0;32m   1324\u001b[0m       \u001b[0mmessage\u001b[0m \u001b[1;33m=\u001b[0m \u001b[0mcompat\u001b[0m\u001b[1;33m.\u001b[0m\u001b[0mas_text\u001b[0m\u001b[1;33m(\u001b[0m\u001b[0me\u001b[0m\u001b[1;33m.\u001b[0m\u001b[0mmessage\u001b[0m\u001b[1;33m)\u001b[0m\u001b[1;33m\u001b[0m\u001b[0m\n",
      "\u001b[1;32mD:\\Anaconda\\lib\\site-packages\\tensorflow\\python\\client\\session.py\u001b[0m in \u001b[0;36m_run_fn\u001b[1;34m(feed_dict, fetch_list, target_list, options, run_metadata)\u001b[0m\n\u001b[0;32m   1305\u001b[0m       \u001b[0mself\u001b[0m\u001b[1;33m.\u001b[0m\u001b[0m_extend_graph\u001b[0m\u001b[1;33m(\u001b[0m\u001b[1;33m)\u001b[0m\u001b[1;33m\u001b[0m\u001b[0m\n\u001b[0;32m   1306\u001b[0m       return self._call_tf_sessionrun(\n\u001b[1;32m-> 1307\u001b[1;33m           options, feed_dict, fetch_list, target_list, run_metadata)\n\u001b[0m\u001b[0;32m   1308\u001b[0m \u001b[1;33m\u001b[0m\u001b[0m\n\u001b[0;32m   1309\u001b[0m     \u001b[1;32mdef\u001b[0m \u001b[0m_prun_fn\u001b[0m\u001b[1;33m(\u001b[0m\u001b[0mhandle\u001b[0m\u001b[1;33m,\u001b[0m \u001b[0mfeed_dict\u001b[0m\u001b[1;33m,\u001b[0m \u001b[0mfetch_list\u001b[0m\u001b[1;33m)\u001b[0m\u001b[1;33m:\u001b[0m\u001b[1;33m\u001b[0m\u001b[0m\n",
      "\u001b[1;32mD:\\Anaconda\\lib\\site-packages\\tensorflow\\python\\client\\session.py\u001b[0m in \u001b[0;36m_call_tf_sessionrun\u001b[1;34m(self, options, feed_dict, fetch_list, target_list, run_metadata)\u001b[0m\n\u001b[0;32m   1407\u001b[0m       return tf_session.TF_SessionRun_wrapper(\n\u001b[0;32m   1408\u001b[0m           \u001b[0mself\u001b[0m\u001b[1;33m.\u001b[0m\u001b[0m_session\u001b[0m\u001b[1;33m,\u001b[0m \u001b[0moptions\u001b[0m\u001b[1;33m,\u001b[0m \u001b[0mfeed_dict\u001b[0m\u001b[1;33m,\u001b[0m \u001b[0mfetch_list\u001b[0m\u001b[1;33m,\u001b[0m \u001b[0mtarget_list\u001b[0m\u001b[1;33m,\u001b[0m\u001b[1;33m\u001b[0m\u001b[0m\n\u001b[1;32m-> 1409\u001b[1;33m           run_metadata)\n\u001b[0m\u001b[0;32m   1410\u001b[0m     \u001b[1;32melse\u001b[0m\u001b[1;33m:\u001b[0m\u001b[1;33m\u001b[0m\u001b[0m\n\u001b[0;32m   1411\u001b[0m       \u001b[1;32mwith\u001b[0m \u001b[0merrors\u001b[0m\u001b[1;33m.\u001b[0m\u001b[0mraise_exception_on_not_ok_status\u001b[0m\u001b[1;33m(\u001b[0m\u001b[1;33m)\u001b[0m \u001b[1;32mas\u001b[0m \u001b[0mstatus\u001b[0m\u001b[1;33m:\u001b[0m\u001b[1;33m\u001b[0m\u001b[0m\n",
      "\u001b[1;31mKeyboardInterrupt\u001b[0m: "
     ]
    }
   ],
   "source": [
    "start_time = time.time()\n",
    "print(f\"start time: {time.ctime(start_time)}\")\n",
    "train(num_epochs=3, batch_size =100)\n",
    "end_time= time.time()\n",
    "print(f\"end time: {time.ctime(start_time)}\")\n",
    "run_time =(end_time-start_time)/60\n",
    "print(f\"run time: {run_time} m \")"
   ]
  },
  {
   "cell_type": "code",
   "execution_count": null,
   "metadata": {},
   "outputs": [],
   "source": [
    "accuracy_test()"
   ]
  },
  {
   "cell_type": "code",
   "execution_count": null,
   "metadata": {},
   "outputs": [],
   "source": [
    "80*64*64/100"
   ]
  },
  {
   "cell_type": "code",
   "execution_count": null,
   "metadata": {},
   "outputs": [],
   "source": []
  }
 ],
 "metadata": {
  "kernelspec": {
   "display_name": "Python 3",
   "language": "python",
   "name": "python3"
  },
  "language_info": {
   "codemirror_mode": {
    "name": "ipython",
    "version": 3
   },
   "file_extension": ".py",
   "mimetype": "text/x-python",
   "name": "python",
   "nbconvert_exporter": "python",
   "pygments_lexer": "ipython3",
   "version": "3.6.4"
  }
 },
 "nbformat": 4,
 "nbformat_minor": 2
}
