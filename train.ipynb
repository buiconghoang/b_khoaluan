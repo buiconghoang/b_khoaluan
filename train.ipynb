{
 "cells": [
  {
   "cell_type": "code",
   "execution_count": 2,
   "metadata": {},
   "outputs": [
    {
     "name": "stderr",
     "output_type": "stream",
     "text": [
      "D:\\Anaconda\\lib\\site-packages\\h5py\\__init__.py:36: FutureWarning: Conversion of the second argument of issubdtype from `float` to `np.floating` is deprecated. In future, it will be treated as `np.float64 == np.dtype(float).type`.\n",
      "  from ._conv import register_converters as _register_converters\n"
     ]
    }
   ],
   "source": [
    "import dataset \n",
    "import tensorflow as tf\n",
    "import time\n",
    "from datetime import timedelta\n",
    "import math\n",
    "import random\n",
    "import numpy as np\n",
    "import time\n",
    "import pickle\n",
    "from pathlib import Path\n",
    "import math"
   ]
  },
  {
   "cell_type": "code",
   "execution_count": 3,
   "metadata": {},
   "outputs": [
    {
     "name": "stdout",
     "output_type": "stream",
     "text": [
      "1.8.0\n"
     ]
    },
    {
     "data": {
      "text/plain": [
       "<tensorflow.python.framework.ops.Graph at 0x29a1018b8d0>"
      ]
     },
     "execution_count": 3,
     "metadata": {},
     "output_type": "execute_result"
    }
   ],
   "source": [
    "from  numpy.random import seed\n",
    "seed(1)\n",
    "from tensorflow import set_random_seed\n",
    "set_random_seed(2)\n",
    "print(tf.__version__)\n",
    "tf.get_default_graph()"
   ]
  },
  {
   "cell_type": "markdown",
   "metadata": {},
   "source": [
    "load du lieu"
   ]
  },
  {
   "cell_type": "code",
   "execution_count": 4,
   "metadata": {},
   "outputs": [
    {
     "name": "stdout",
     "output_type": "stream",
     "text": [
      "['a_k', 'chi_k', 'e_k', 'fu_k', 'ha_k', 'he_k', 'hi_k', 'ho_k', 'i_k', 'ka_k', 'ke_k', 'ki_k', 'ko_k', 'ku_k', 'ma_k', 'me_k', 'mi_k', 'mo_k', 'mu_k', 'na_k', 'ne_k', 'ni_k', 'no_k', 'nu_k', 'n_k', 'o_k', 'ra_k', 're_k', 'ri_k', 'ro_k', 'ru_k', 'sa_k', 'se_k', 'shi_k', 'so_k', 'su_k', 'ta_k', 'te_k', 'to_k', 'tsu_k', 'u_k', 'wa_k', 'wo_k', 'ya_k', 'yo_k', 'yu_k']\n",
      "46\n"
     ]
    }
   ],
   "source": [
    "# khoi tao gia tri load du lieu\n",
    "\n",
    "\n",
    "\n",
    "\n",
    "train_path= r\"D:\\Hoang\\data_kata_khoaluan\"\n",
    "\n",
    "classes = dataset.get_labels(train_path)\n",
    "\n",
    "print(classes)\n",
    "\n",
    "num_classes = len(classes)\n",
    "print(num_classes)"
   ]
  },
  {
   "cell_type": "code",
   "execution_count": 5,
   "metadata": {
    "scrolled": true
   },
   "outputs": [
    {
     "name": "stdout",
     "output_type": "stream",
     "text": [
      "C:\\Users\\buico\\b_khoaluan\\train_data.file\n",
      "uncompress data\n"
     ]
    }
   ],
   "source": [
    "#load du lieu \n",
    "        \n",
    "validation_size = 0.1\n",
    "test_size = 0.2\n",
    "img_size = 64\n",
    "num_input_channels = 1\n",
    "\n",
    "class DataCompression(object):\n",
    "    def __init__(self,data):\n",
    "        self.train = data.train\n",
    "        self.valid = data.valid\n",
    "        self.test = data.test\n",
    "        \n",
    "p = Path.cwd()\n",
    "files=[]\n",
    "for file in p.iterdir():\n",
    "    x=file.parts[-1]\n",
    "    files.append(x)\n",
    "    \n",
    "if \"train_data.file\" not in files:\n",
    "    print(\"Get and Compress data\")\n",
    "    data_train=dataset.read_train_sets(train_path=train_path,image_size=img_size,test_size=test_size,validation_size=validation_size)\n",
    "    data_train = DataCompression(data_train)\n",
    "    p=str(p.joinpath(\"train_data.file\"))\n",
    "#     print(p)\n",
    "    with open(p, \"wb\") as f:\n",
    "        pickle.dump(data_train, f, pickle.HIGHEST_PROTOCOL)\n",
    "    \n",
    "#read data from file data compression\n",
    "p=Path.cwd()\n",
    "p=str(p.joinpath(\"train_data.file\"))\n",
    "print(p)\n",
    "with open(p,\"rb\") as f:\n",
    "    print(\"uncompress data\")\n",
    "    data = pickle.load(f)\n",
    "    \n"
   ]
  },
  {
   "cell_type": "code",
   "execution_count": 6,
   "metadata": {},
   "outputs": [
    {
     "name": "stdout",
     "output_type": "stream",
     "text": [
      "(545144, 64, 64, 1)\n",
      "(77877, 64, 64, 1)\n",
      "(155755, 64, 64, 1)\n"
     ]
    }
   ],
   "source": [
    "print(data.train.images.shape)\n",
    "print(data.valid.images.shape)\n",
    "print(data.test.images.shape)"
   ]
  },
  {
   "cell_type": "raw",
   "metadata": {},
   "source": [
    "#test du lieu\n",
    "import cv2 as cv\n",
    "a=data.valid.images[0]\n",
    "cv.imshow('image',a)\n",
    "cv.waitKey(0)\n",
    "cv.destroyAllWindows()\n",
    "\n",
    "print(data.valid.img_names[0])\n",
    "print(np.shape(data.valid.labels))\n",
    "print(data.valid.labels[0])\n",
    "\n",
    "print(data.valid.cls[0])\n"
   ]
  },
  {
   "cell_type": "markdown",
   "metadata": {
    "collapsed": true
   },
   "source": [
    "# Xây dựng hàm cho CNN"
   ]
  },
  {
   "cell_type": "markdown",
   "metadata": {},
   "source": [
    "Khởi tạo giá trị"
   ]
  },
  {
   "cell_type": "code",
   "execution_count": 7,
   "metadata": {},
   "outputs": [],
   "source": [
    "tf.reset_default_graph()\n",
    "\n",
    "with tf.name_scope(\"inputs\"):\n",
    "    x = tf.placeholder(tf.float32, shape=[None, img_size,img_size,num_input_channels], name='x')\n",
    "\n",
    "    # labels\n",
    "    y_true = tf.placeholder(tf.float32, shape=[None, num_classes], name='y_true')\n",
    "\n",
    "    keep_prob=tf.placeholder(tf.float32,name=\"keep_prob\")\n",
    "    \n",
    "    y_true_cls = tf.argmax(y_true, axis=1)"
   ]
  },
  {
   "cell_type": "code",
   "execution_count": 8,
   "metadata": {},
   "outputs": [],
   "source": [
    "# cau truc CNN M6-1\n",
    "\n",
    "filter_size_conv1 = 3 \n",
    "num_filters_conv1 = 32\n",
    "\n",
    "filter_size_conv2 = 3\n",
    "num_filters_conv2 = 32\n",
    "\n",
    "filter_size_conv3 = 3\n",
    "num_filters_conv3 = 64\n",
    "\n",
    "filter_size_conv4 = 3\n",
    "num_filters_conv4 = 64\n",
    "    \n",
    "fc_layer_size = 256"
   ]
  },
  {
   "cell_type": "code",
   "execution_count": 9,
   "metadata": {},
   "outputs": [],
   "source": [
    "def create_weights(shape,name):\n",
    "    return tf.Variable(tf.truncated_normal(shape, stddev=0.05),name=name)\n",
    "\n",
    "def create_biases(size,name):\n",
    "    return tf.Variable(tf.constant(0.05, shape=[size]),name=name)"
   ]
  },
  {
   "cell_type": "code",
   "execution_count": 10,
   "metadata": {},
   "outputs": [],
   "source": [
    "def create_conv_layer(input,\n",
    "               num_input_channels, # so channels của từng ảnh\n",
    "               filter_size,    # kích thước filter, kenel, \n",
    "               num_filters,  # số lượng đầu ra cho layer sau\n",
    "               use_maxpool=False, #sử dụng max_pooling k?\n",
    "               name = \"conv_x\" ):  \n",
    "    with tf.name_scope(name):\n",
    "        #tao weight và bias cho lop convolutional nay/\n",
    "#         print(\"input {}: {}\".format(name,input))\n",
    "\n",
    "        name_weights = name+\"_weights\"\n",
    "        with tf.name_scope(\"weights\"):\n",
    "            weights = create_weights(shape=[filter_size, filter_size, num_input_channels, num_filters],name=name_weights)\n",
    "#         print(\"weights {}: {}\".format(name,weights))\n",
    "\n",
    "        name_biases = name+\"_biases\"\n",
    "        with tf.name_scope(\"biases\"):\n",
    "            biases = create_biases(num_filters,name=name_biases)\n",
    "        ## xay dung convolution layer, layer trả về có dimension nhu input\n",
    "#         with tf.device('/gpu:0'):\n",
    "        layer = tf.nn.conv2d(input=input,\n",
    "                         filter=weights,\n",
    "                         strides=[1, 1, 1, 1],\n",
    "                         padding='SAME')\n",
    "#         print(\"layer {}: {}\".format(name,layer))\n",
    "\n",
    "        layer += biases\n",
    "        layer = tf.nn.relu(layer)\n",
    "\n",
    "        if use_maxpool:\n",
    "            layer = tf.nn.max_pool(value=layer,\n",
    "                                    ksize=[1, 2, 2, 1],\n",
    "                                    strides=[1, 2, 2, 1],\n",
    "                                    padding='SAME')\n",
    "\n",
    "\n",
    "#         store in histogram\n",
    "        tf.summary.histogram(\"weights\",weights)\n",
    "        tf.summary.histogram(\"biases\",biases)\n",
    "        tf.summary.histogram(\"layer\",layer)\n",
    "        \n",
    "        \n",
    "        layer = tf.identity(layer,name=name)\n",
    "        return layer\n",
    "\n",
    "def create_flatten_layer(layer, name=\"flatten\"):\n",
    "    with tf.name_scope(name):\n",
    "        # chuyen mỗi ảnh thanh mot vector, moi anh sẽ có kích thước phẳng là: img_size * img_size *num_channels\n",
    "\n",
    "        #dimension layer: batch_size,img_size,img_size,num_channels \n",
    "\n",
    "        #lấy số lượng data\n",
    "        layer_shape = layer.get_shape()\n",
    "\n",
    "        # số lượng feature mỗi ảnh = img_size * img_size *num_channels\n",
    "        num_features = layer_shape[1:4].num_elements()\n",
    "\n",
    "        # reshape lại data ví dụ (10,2,2,5) // có 10 ảnh và mỗi ảnh có 2*2*5=20 feature => flat_layer: (10,20) \n",
    "        layer = tf.reshape(layer, [-1, num_features])\n",
    "#         print(\"layer {}: {}\".format(name,layer))\n",
    "        layer = tf.identity(layer,name=name) # set name for layer\n",
    "        return layer\n",
    "\n",
    "def create_fc_layer(input,          \n",
    "             num_inputs,    \n",
    "             num_outputs,\n",
    "             use_relu=False, \n",
    "             use_dropout=False,\n",
    "             name = \"fc\"):\n",
    "    \n",
    "    with tf.name_scope(name):\n",
    "        name_weights = name+\"_weights\"\n",
    "        name_biases = name+\"_biases\"\n",
    "        with tf.name_scope(\"weights\"):\n",
    "            weights = create_weights(shape=[num_inputs, num_outputs],name=name_weights)\n",
    "        with tf.name_scope(\"biases\"):\n",
    "            biases = create_biases(num_outputs,name=name_biases)\n",
    "    \n",
    "#         with tf.device('/gpu:0'):\n",
    "        layer = tf.matmul(input, weights) + biases\n",
    "\n",
    "        if use_relu:\n",
    "            layer = tf.nn.relu(layer)\n",
    "        if use_dropout:\n",
    "             layer=tf.nn.dropout(layer,keep_prob);\n",
    "#         print(\"layer {}: {}\".format(name,layer))\n",
    "\n",
    "        tf.summary.histogram(\"weights\",weights)\n",
    "        tf.summary.histogram(\"biases\",biases)\n",
    "        tf.summary.histogram(\"layer\",layer)\n",
    "        \n",
    "        layer = tf.identity(layer,name=name)\n",
    "        return layer"
   ]
  },
  {
   "cell_type": "markdown",
   "metadata": {},
   "source": [
    "# Xây dựng cấu trúc CNN\n",
    "conv3-32 -> conv3-32 ->maxpool -> conv3-64 -> conv3-64 -> maxpool ->fc-256"
   ]
  },
  {
   "cell_type": "code",
   "execution_count": 11,
   "metadata": {},
   "outputs": [],
   "source": [
    "conv1 =  create_conv_layer(input=x,num_input_channels=num_input_channels,\n",
    "                           filter_size=filter_size_conv1,num_filters=num_filters_conv1,use_maxpool=False, name=\"conv1\")\n",
    "\n",
    "conv2 = create_conv_layer(input=conv1,num_input_channels=num_filters_conv1,\n",
    "                          filter_size=filter_size_conv2,num_filters=num_filters_conv2,use_maxpool=True, name=\"conv2\")\n",
    "\n",
    "conv3 = create_conv_layer(input=conv2,num_input_channels=num_filters_conv2,\n",
    "                          filter_size=filter_size_conv3,num_filters=num_filters_conv3,use_maxpool=False, name=\"conv3\")\n",
    "\n",
    "conv4 = create_conv_layer(input=conv3,num_input_channels=num_filters_conv3,\n",
    "                          filter_size=filter_size_conv4,num_filters=num_filters_conv4,use_maxpool=True, name=\"conv4\")\n",
    "\n",
    "layer_flat = create_flatten_layer(conv4)\n",
    "\n",
    "num_feature = layer_flat.get_shape()[1:2].num_elements()\n",
    "\n",
    "fc1 = create_fc_layer(input=layer_flat,num_inputs=num_feature,num_outputs=fc_layer_size,use_relu=True,use_dropout=True,name=\"fc1\")\n",
    "\n",
    "\n",
    "fc2 = create_fc_layer(input=fc1,num_inputs=fc_layer_size,num_outputs=num_classes,use_relu=False,use_dropout=True,name=\"fc2\")\n",
    "\n"
   ]
  },
  {
   "cell_type": "markdown",
   "metadata": {
    "collapsed": true
   },
   "source": [
    "predict"
   ]
  },
  {
   "cell_type": "code",
   "execution_count": 12,
   "metadata": {},
   "outputs": [],
   "source": [
    "with tf.name_scope(\"Train\"):\n",
    "#     with tf.device('/gpu:0'):\n",
    "    cross_entropy = tf.nn.softmax_cross_entropy_with_logits_v2(logits=fc2,\n",
    "                                                        labels=y_true)\n",
    "    with tf.name_scope(\"loss\"):\n",
    "        loss = tf.reduce_mean(cross_entropy)\n",
    "        tf.summary.scalar(\"loss\",loss)\n",
    "    with tf.name_scope(\"train\"):\n",
    "        train_step = tf.train.AdamOptimizer(learning_rate=1e-4).minimize(loss)\n",
    "\n",
    "\n",
    "with tf.name_scope(\"Test\"):\n",
    "    y_pred = tf.nn.softmax(fc2,name='y_pred')\n",
    "    y_pred_cls = tf.argmax(y_pred, axis=1)\n",
    "    correct_prediction = tf.equal(y_pred_cls, y_true_cls)\n",
    "    accuracy = tf.reduce_mean(tf.cast(correct_prediction, tf.float32), name=\"accuracy\")\n",
    "    \n",
    "    tf.summary.scalar(\"accuracy\",accuracy)\n",
    "\n"
   ]
  },
  {
   "cell_type": "code",
   "execution_count": 13,
   "metadata": {},
   "outputs": [],
   "source": [
    "my_config =tf.ConfigProto(allow_soft_placement=True,log_device_placement=True)\n",
    "my_config.gpu_options.allow_growth = True\n",
    "session = tf.Session(config=my_config)\n",
    "\n",
    "session.run(tf.global_variables_initializer())\n",
    "\n",
    "saver = tf.train.Saver()\n",
    "\n",
    "merged =tf.summary.merge_all();\n",
    "train_writer= tf.summary.FileWriter(r\".\\model_graph\\graph\\M6\\train\",session.graph)\n",
    "valid_writer=tf.summary.FileWriter(r\".\\model_graph\\graph\\M6\\valid\",session.graph)"
   ]
  },
  {
   "cell_type": "code",
   "execution_count": null,
   "metadata": {
    "scrolled": false
   },
   "outputs": [],
   "source": [
    "def train(num_epochs, batch_size):\n",
    "    num_iteration = int(data.train.images.shape[0]/batch_size)\n",
    "\n",
    "    print_loss_iteration = int(num_iteration /5);\n",
    "    total_iterations =0\n",
    "    for epoch in range(num_epochs):\n",
    "        for i in range(num_iteration):\n",
    "\n",
    "            x_batch, y_true_batch, _, cls_batch = data.train.next_batch(batch_size)\n",
    "    #         print(y_true_batch.shape)\n",
    "            feed_dict_train = {x: x_batch, y_true: y_true_batch, keep_prob: 0.5}    \n",
    "\n",
    "            session.run(train_step, feed_dict=feed_dict_train )\n",
    "            \n",
    "            if (i % print_loss_iteration == 0 or i==num_iteration-1) and i>0: \n",
    "                x_valid_batch, y_valid_batch, iname_valid_batch,cls_valid_batch = data.train.next_batch(500)\n",
    "                \n",
    "                feed_dict_valid = {x: x_valid_batch, y_true: y_valid_batch, keep_prob:1}\n",
    "                feed_dict_train = {x: x_batch, y_true: y_true_batch, keep_prob: 1}\n",
    "\n",
    "                valid_loss,valid_accuracy = session.run([loss,accuracy], feed_dict=feed_dict_valid)\n",
    " \n",
    "                train_loss,train_accuracy = session.run([loss,accuracy], feed_dict=feed_dict_train)\n",
    "                \n",
    "                total_iterations=total_iterations+print_loss_iteration\n",
    "\n",
    "                \n",
    "                print(f\"time: {time.ctime()} -- epoch: {epoch} -- iteration: {total_iterations} -- train_loss: {train_loss:.2f} -- train_acc {train_accuracy:.2%} --valid_loss:{valid_loss:.2f} -- valid_acc {valid_accuracy:.2%}\")\n",
    "                if i==num_iteration-1:\n",
    "                    print(f\"save graph -- epoch: {epoch}-- iteration: {i}\")\n",
    "                    train_merged=session.run(merged, feed_dict=feed_dict_train)\n",
    "                    valid_merged = session.run(merged, feed_dict=feed_dict_valid)\n",
    "                    train_writer.add_summary(train_merged,epoch)\n",
    "                    valid_writer.add_summary(valid_merged,epoch)\n",
    "            \n",
    "            \n",
    "        save_path=saver.save(session, r'.\\model_graph\\model\\modelTest.ckpt',global_step=epoch)\n",
    "\n",
    "def accuracy_test():\n",
    "    \n",
    "    num_interations = data.test.images[0]/500\n",
    "    \n",
    "    for iteration in range(num_interations):\n",
    "        x_batch_test, y_true_batch_test, _, cls_batch_test = data.test.next_batch(500)\n",
    "        feed_dict_test = {x:x_batch,y_true:y_batch,keep_prob:1.0}\n",
    "        acc=session.run(accuracy,feed_dict =feed_dict_test)\n",
    "        print(f\"iter: {iteration} -- accuracy test : {acc}\")"
   ]
  },
  {
   "cell_type": "code",
   "execution_count": null,
   "metadata": {},
   "outputs": [
    {
     "name": "stdout",
     "output_type": "stream",
     "text": [
      "start time: Sun May 27 16:13:28 2018\n",
      "epoch: 0 -- iteration: 1090 -- train_loss: 3.83 -- train_acc 1.00% --valid_loss:3.83 -- valid_acc 2.40%\n"
     ]
    }
   ],
   "source": [
    "start_time = time.time()\n",
    "print(f\"start time: {time.ctime(start_time)}\")\n",
    "train(num_epochs=4, batch_size =100)\n",
    "end_time= time.time()\n",
    "print(f\"end time: {time.ctime(start_time)}\")\n",
    "run_time =(end_time-start_time)/60\n",
    "print(f\"run time: {run_time} m \")"
   ]
  },
  {
   "cell_type": "code",
   "execution_count": null,
   "metadata": {},
   "outputs": [],
   "source": [
    "accuracy_test()"
   ]
  },
  {
   "cell_type": "code",
   "execution_count": null,
   "metadata": {},
   "outputs": [],
   "source": []
  }
 ],
 "metadata": {
  "kernelspec": {
   "display_name": "Python 3",
   "language": "python",
   "name": "python3"
  },
  "language_info": {
   "codemirror_mode": {
    "name": "ipython",
    "version": 3
   },
   "file_extension": ".py",
   "mimetype": "text/x-python",
   "name": "python",
   "nbconvert_exporter": "python",
   "pygments_lexer": "ipython3",
   "version": "3.6.4"
  }
 },
 "nbformat": 4,
 "nbformat_minor": 2
}
