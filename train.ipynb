{
 "cells": [
  {
   "cell_type": "code",
   "execution_count": 1,
   "metadata": {
    "collapsed": true
   },
   "outputs": [],
   "source": [
    "import dataset \n",
    "import tensorflow as tf\n",
    "import time\n",
    "from datetime import timedelta\n",
    "import math\n",
    "import random\n",
    "import numpy as np"
   ]
  },
  {
   "cell_type": "code",
   "execution_count": 2,
   "metadata": {},
   "outputs": [
    {
     "name": "stdout",
     "output_type": "stream",
     "text": [
      "1.8.0\n"
     ]
    },
    {
     "data": {
      "text/plain": [
       "<tensorflow.python.framework.ops.Graph at 0x239fb54abe0>"
      ]
     },
     "execution_count": 2,
     "metadata": {},
     "output_type": "execute_result"
    }
   ],
   "source": [
    "from  numpy.random import seed\n",
    "seed(1)\n",
    "from tensorflow import set_random_seed\n",
    "set_random_seed(2)\n",
    "print(tf.__version__)\n",
    "tf.get_default_graph()"
   ]
  },
  {
   "cell_type": "code",
   "execution_count": null,
   "metadata": {
    "collapsed": true
   },
   "outputs": [],
   "source": []
  },
  {
   "cell_type": "markdown",
   "metadata": {},
   "source": [
    "load du lieu"
   ]
  },
  {
   "cell_type": "code",
   "execution_count": 3,
   "metadata": {},
   "outputs": [
    {
     "name": "stdout",
     "output_type": "stream",
     "text": [
      "['a_k', 'e_k', 'i_k', 'o_k', 'u_k']\n",
      "5\n"
     ]
    }
   ],
   "source": [
    "# khoi tao gia tri load du lieu\n",
    "\n",
    "\n",
    "validation_size = 0.286\n",
    "img_size = 64\n",
    "num_input_channels = 3\n",
    "train_path=r'D:\\DatasetJapanese\\data_katagana\\katakana_test'\n",
    "classes = dataset.get_labels(train_path)\n",
    "print(classes)\n",
    "\n",
    "num_classes = len(classes)\n",
    "print(num_classes)"
   ]
  },
  {
   "cell_type": "code",
   "execution_count": 4,
   "metadata": {},
   "outputs": [
    {
     "name": "stdout",
     "output_type": "stream",
     "text": [
      "(44, 64, 64, 3)\n",
      "(17, 64, 64, 3)\n"
     ]
    }
   ],
   "source": [
    "#load du lieu \n",
    "data=dataset.read_train_sets(train_path=train_path,image_size=img_size,validation_size=validation_size)\n",
    "print(data.train.images.shape)\n",
    "print(data.valid.images.shape)"
   ]
  },
  {
   "cell_type": "raw",
   "metadata": {},
   "source": [
    "#test du lieu\n",
    "import cv2 as cv\n",
    "a=data.valid.images[0]\n",
    "cv.imshow('image',a)\n",
    "cv.waitKey(0)\n",
    "cv.destroyAllWindows()\n",
    "\n",
    "print(data.valid.img_names[0])\n",
    "print(np.shape(data.valid.labels))\n",
    "print(data.valid.labels[0])\n",
    "\n",
    "print(data.valid.cls[0])\n"
   ]
  },
  {
   "cell_type": "markdown",
   "metadata": {
    "collapsed": true
   },
   "source": [
    "# Xây dựng hàm cho CNN"
   ]
  },
  {
   "cell_type": "markdown",
   "metadata": {},
   "source": [
    "Khởi tạo giá trị"
   ]
  },
  {
   "cell_type": "code",
   "execution_count": 5,
   "metadata": {
    "collapsed": true
   },
   "outputs": [],
   "source": [
    "tf.get_default_graph()\n",
    "\n",
    "keep_prob_value =1.0\n",
    "\n",
    "with tf.name_scope(\"inputs\"):\n",
    "    x = tf.placeholder(tf.float32, shape=[None, img_size,img_size,num_input_channels], name='x')\n",
    "\n",
    "    # labels\n",
    "    y_true = tf.placeholder(tf.float32, shape=[None, num_classes], name='y_true')\n",
    "\n",
    "    keep_prob=tf.placeholder(tf.float32, name=\"keep_prob\")\n",
    "    \n",
    "    y_true_cls = tf.argmax(y_true, axis=1)"
   ]
  },
  {
   "cell_type": "code",
   "execution_count": 6,
   "metadata": {
    "collapsed": true
   },
   "outputs": [],
   "source": [
    "# cau truc CNN M6-1\n",
    "\n",
    "filter_size_conv1 = 3 \n",
    "num_filters_conv1 = 32\n",
    "\n",
    "filter_size_conv2 = 3\n",
    "num_filters_conv2 = 32\n",
    "\n",
    "filter_size_conv3 = 3\n",
    "num_filters_conv3 = 64\n",
    "\n",
    "filter_size_conv4 = 3\n",
    "num_filters_conv4 = 64\n",
    "    \n",
    "fc_layer_size = 256"
   ]
  },
  {
   "cell_type": "code",
   "execution_count": 7,
   "metadata": {
    "collapsed": true
   },
   "outputs": [],
   "source": [
    "def create_weights(shape,name):\n",
    "    return tf.Variable(tf.truncated_normal(shape, stddev=0.05),name=name)\n",
    "\n",
    "def create_biases(size,name):\n",
    "    return tf.Variable(tf.constant(0.05, shape=[size]),name=name)"
   ]
  },
  {
   "cell_type": "code",
   "execution_count": 8,
   "metadata": {
    "collapsed": true
   },
   "outputs": [],
   "source": [
    "def create_conv_layer(input,\n",
    "               num_input_channels, # so channels của từng ảnh\n",
    "               filter_size,    # kích thước filter, kenel, \n",
    "               num_filters,  # số lượng đầu ra cho layer sau\n",
    "               use_maxpool=False, #sử dụng max_pooling k?\n",
    "               name = \"conv_x\" ):  \n",
    "    with tf.name_scope(name):\n",
    "        #tao weight và bias cho lop convolutional nay/\n",
    "#         print(\"input {}: {}\".format(name,input))\n",
    "\n",
    "        name_weights = name+\"_weights\"\n",
    "        with tf.name_scope(\"weights\"):\n",
    "            weights = create_weights(shape=[filter_size, filter_size, num_input_channels, num_filters],name=name_weights)\n",
    "#         print(\"weights {}: {}\".format(name,weights))\n",
    "\n",
    "        name_biases = name+\"_biases\"\n",
    "        with tf.name_scope(\"biases\"):\n",
    "            biases = create_biases(num_filters,name=name_biases)\n",
    "        ## xay dung convolution layer, layer trả về có dimension nhu input\n",
    "#         with tf.device('/gpu:0'):\n",
    "        layer = tf.nn.conv2d(input=input,\n",
    "                         filter=weights,\n",
    "                         strides=[1, 1, 1, 1],\n",
    "                         padding='SAME')\n",
    "#         print(\"layer {}: {}\".format(name,layer))\n",
    "\n",
    "        layer += biases\n",
    "\n",
    "        layer=tf.nn.dropout(layer,keep_prob);\n",
    "\n",
    "        layer = tf.nn.relu(layer)\n",
    "\n",
    "        if use_maxpool:\n",
    "            layer = tf.nn.max_pool(value=layer,\n",
    "                                    ksize=[1, 2, 2, 1],\n",
    "                                    strides=[1, 2, 2, 1],\n",
    "                                    padding='SAME')\n",
    "\n",
    "\n",
    "#         store in histogram\n",
    "        tf.summary.histogram(\"weights\",weights)\n",
    "        tf.summary.histogram(\"biases\",biases)\n",
    "        tf.summary.histogram(\"layer\",layer)\n",
    "        \n",
    "        \n",
    "        layer = tf.identity(layer,name=name)\n",
    "        return layer\n",
    "\n",
    "def create_flatten_layer(layer, name=\"flatten\"):\n",
    "    with tf.name_scope(name):\n",
    "        # chuyen mỗi ảnh thanh mot vector, moi anh sẽ có kích thước phẳng là: img_size * img_size *num_channels\n",
    "\n",
    "        #dimension layer: batch_size,img_size,img_size,num_channels \n",
    "\n",
    "        #lấy số lượng data\n",
    "        layer_shape = layer.get_shape()\n",
    "\n",
    "        # số lượng feature mỗi ảnh = img_size * img_size *num_channels\n",
    "        num_features = layer_shape[1:4].num_elements()\n",
    "\n",
    "        # reshape lại data ví dụ (10,2,2,5) // có 10 ảnh và mỗi ảnh có 2*2*5=20 feature => flat_layer: (10,20) \n",
    "        layer = tf.reshape(layer, [-1, num_features])\n",
    "#         print(\"layer {}: {}\".format(name,layer))\n",
    "        layer = tf.identity(layer,name=name)\n",
    "        return layer\n",
    "\n",
    "def create_fc_layer(input,          \n",
    "             num_inputs,    \n",
    "             num_outputs,\n",
    "             use_relu=False, \n",
    "             use_dropout=False,\n",
    "             name = \"fc\"):\n",
    "    \n",
    "    with tf.name_scope(name):\n",
    "        name_weights = name+\"_weights\"\n",
    "        name_biases = name+\"_biases\"\n",
    "        with tf.name_scope(\"weights\"):\n",
    "            weights = create_weights(shape=[num_inputs, num_outputs],name=name_weights)\n",
    "        with tf.name_scope(\"biases\"):\n",
    "            biases = create_biases(num_outputs,name=name_biases)\n",
    "    \n",
    "#         with tf.device('/gpu:0'):\n",
    "        layer = tf.matmul(input, weights) + biases\n",
    "\n",
    "        if use_relu:\n",
    "            layer = tf.nn.relu(layer)\n",
    "        if use_dropout:\n",
    "             layer=tf.nn.dropout(layer,keep_prob);\n",
    "#         print(\"layer {}: {}\".format(name,layer))\n",
    "\n",
    "        tf.summary.histogram(\"weights\",weights)\n",
    "        tf.summary.histogram(\"biases\",biases)\n",
    "        tf.summary.histogram(\"layer\",layer)\n",
    "        \n",
    "        layer = tf.identity(layer,name=name)\n",
    "        return layer"
   ]
  },
  {
   "cell_type": "markdown",
   "metadata": {},
   "source": [
    "# Xây dựng cấu trúc CNN\n",
    "conv3-32 -> conv3-32 ->maxpool -> conv3-64 -> conv3-64 -> maxpool ->fc-256"
   ]
  },
  {
   "cell_type": "code",
   "execution_count": 9,
   "metadata": {
    "collapsed": true
   },
   "outputs": [],
   "source": [
    "conv1 =  create_conv_layer(input=x,num_input_channels=num_input_channels,\n",
    "                           filter_size=filter_size_conv1,num_filters=num_filters_conv1,use_maxpool=False, name=\"conv1\")\n",
    "\n",
    "conv2 = create_conv_layer(input=conv1,num_input_channels=num_filters_conv1,\n",
    "                          filter_size=filter_size_conv2,num_filters=num_filters_conv2,use_maxpool=True, name=\"conv2\")\n",
    "\n",
    "conv3 = create_conv_layer(input=conv2,num_input_channels=num_filters_conv2,\n",
    "                          filter_size=filter_size_conv3,num_filters=num_filters_conv3,use_maxpool=False, name=\"conv3\")\n",
    "\n",
    "conv4 = create_conv_layer(input=conv3,num_input_channels=num_filters_conv3,\n",
    "                          filter_size=filter_size_conv4,num_filters=num_filters_conv4,use_maxpool=True, name=\"conv4\")\n",
    "\n",
    "layer_flat = create_flatten_layer(conv4)\n",
    "\n",
    "num_feature = layer_flat.get_shape()[1:2].num_elements()\n",
    "\n",
    "fc1 = create_fc_layer(input=layer_flat,num_inputs=num_feature,num_outputs=fc_layer_size,use_relu=True,use_dropout=True,name=\"fc1\")\n",
    "\n",
    "\n",
    "fc2 = create_fc_layer(input=fc1,num_inputs=fc_layer_size,num_outputs=num_classes,use_relu=False,use_dropout=True,name=\"fc2\")\n",
    "\n"
   ]
  },
  {
   "cell_type": "markdown",
   "metadata": {
    "collapsed": true
   },
   "source": [
    "predict"
   ]
  },
  {
   "cell_type": "code",
   "execution_count": 10,
   "metadata": {
    "collapsed": true
   },
   "outputs": [],
   "source": [
    "with tf.name_scope(\"Train\"):\n",
    "#     with tf.device('/gpu:0'):\n",
    "    cross_entropy = tf.nn.softmax_cross_entropy_with_logits_v2(logits=fc2,\n",
    "                                                        labels=y_true)\n",
    "    with tf.name_scope(\"loss\"):\n",
    "        loss = tf.reduce_mean(cross_entropy)\n",
    "        tf.summary.scalar(\"loss\",loss)\n",
    "    with tf.name_scope(\"train_step\"):\n",
    "        train_step = tf.train.AdamOptimizer(learning_rate=1e-4).minimize(loss)\n",
    "\n",
    "\n",
    "with tf.name_scope(\"Test\"):\n",
    "    y_pred = tf.nn.softmax(fc2,name='y_pred')\n",
    "    y_pred_cls = tf.argmax(y_pred, axis=1)\n",
    "    correct_prediction = tf.equal(y_pred_cls, y_true_cls)\n",
    "    accuracy = tf.reduce_mean(tf.cast(correct_prediction, tf.float32), name=\"accuracy\")\n",
    "\n"
   ]
  },
  {
   "cell_type": "raw",
   "metadata": {
    "collapsed": true
   },
   "source": [
    "def show_progress(epoch, feed_dict_train, feed_dict_validate, val_loss):\n",
    "    acc = session.run(accuracy, feed_dict=feed_dict_train)\n",
    "    val_acc = session.run(accuracy, feed_dict=feed_dict_validate)\n",
    "    msg = \"Training Epoch {0} --- Training Accuracy: {1:>6.1%}, Validation Accuracy: {2:>6.1%},  Validation Loss: {3:.3f}\"\n",
    "    print(msg.format(epoch + 1, acc, val_acc, val_loss))"
   ]
  },
  {
   "cell_type": "code",
   "execution_count": 11,
   "metadata": {
    "collapsed": true,
    "scrolled": false
   },
   "outputs": [],
   "source": [
    "my_config =tf.ConfigProto(allow_soft_placement=True,log_device_placement=True)\n",
    "my_config.gpu_options.allow_growth = True\n",
    "session = tf.Session(config=my_config)\n",
    "\n",
    "session.run(tf.global_variables_initializer())\n",
    "\n",
    "saver = tf.train.Saver()\n",
    "\n",
    "merged =tf.summary.merge_all();\n",
    "train_writer= tf.summary.FileWriter(r\".\\graph\\M6\\train\",session.graph)\n",
    "valid_writer=tf.summary.FileWriter(r\".\\graph\\M6\\valid\",session.graph)\n",
    "\n",
    "\n",
    "total_iterations = 0\n",
    "batch_size=10\n",
    "def train(num_iteration):\n",
    "    global total_iterations\n",
    "    \n",
    "    for i in range(total_iterations,\n",
    "                   total_iterations + num_iteration):\n",
    "\n",
    "        x_batch, y_true_batch, _, cls_batch = data.train.next_batch(batch_size)\n",
    "#         print(y_true_batch.shape)\n",
    "        feed_dict_train = {x: x_batch, y_true: y_true_batch, keep_prob:1.0}    \n",
    "\n",
    "        session.run(train_step, feed_dict=feed_dict_train)\n",
    "        \n",
    "        \n",
    "\n",
    "        if i % 20== 0 and i>0: \n",
    "            x_valid_batch, y_valid_batch, _, valid_cls_batch = data.valid.next_batch(batch_size)\n",
    "            \n",
    "            feed_dict_valid = {x: x_valid_batch, y_true: y_valid_batch, keep_prob:1.0 }\n",
    "            \n",
    "            valid_loss,valid_accuracy,valid_merged = session.run([loss,accuracy,merged], feed_dict=feed_dict_valid)\n",
    "            \n",
    "            feed_dict_train = {x: x_batch, y_true: y_true_batch, keep_prob:1} \n",
    "            train_accuracy,train_merged = session.run([accuracy,merged], feed_dict=feed_dict_train)\n",
    "            \n",
    "            \n",
    "            msg=\"train_iteration {0:d} --- loss: {1:3.2f} --- train_acc {2:>6.2%} --- valid_acc {3:6.2%}\"\n",
    "            \n",
    "            print(msg.format(i,valid_loss,train_accuracy,valid_accuracy))\n",
    "            \n",
    "            train_writer.add_summary(train_merged,i)\n",
    "            valid_writer.add_summary(valid_merged,i)\n",
    "            \n",
    "            save_path=saver.save(session, r'.\\model\\modelxxx.ckpt',global_step=i)\n",
    "    total_iterations += num_iteration\n"
   ]
  },
  {
   "cell_type": "code",
   "execution_count": 12,
   "metadata": {},
   "outputs": [
    {
     "name": "stdout",
     "output_type": "stream",
     "text": [
      "train_iteration 20 --- loss: 1.65 --- train_acc 40.00% --- valid_acc 10.00%\n",
      "train_iteration 40 --- loss: 1.13 --- train_acc 50.00% --- valid_acc 30.00%\n",
      "train_iteration 60 --- loss: 0.84 --- train_acc 80.00% --- valid_acc 70.00%\n"
     ]
    }
   ],
   "source": [
    "train(num_iteration=62)"
   ]
  },
  {
   "cell_type": "code",
   "execution_count": null,
   "metadata": {
    "collapsed": true
   },
   "outputs": [],
   "source": []
  },
  {
   "cell_type": "code",
   "execution_count": null,
   "metadata": {
    "collapsed": true
   },
   "outputs": [],
   "source": []
  }
 ],
 "metadata": {
  "kernelspec": {
   "display_name": "Python 3",
   "language": "python",
   "name": "python3"
  },
  "language_info": {
   "codemirror_mode": {
    "name": "ipython",
    "version": 3
   },
   "file_extension": ".py",
   "mimetype": "text/x-python",
   "name": "python",
   "nbconvert_exporter": "python",
   "pygments_lexer": "ipython3",
   "version": "3.6.2"
  }
 },
 "nbformat": 4,
 "nbformat_minor": 2
}
