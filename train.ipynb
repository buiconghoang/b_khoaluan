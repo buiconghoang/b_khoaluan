{
 "cells": [
  {
   "cell_type": "code",
   "execution_count": 50,
   "metadata": {},
   "outputs": [],
   "source": [
    "import dataset \n",
    "import tensorflow as tf\n",
    "import time\n",
    "from datetime import timedelta\n",
    "import math\n",
    "import random\n",
    "import numpy as np\n",
    "import time"
   ]
  },
  {
   "cell_type": "code",
   "execution_count": 23,
   "metadata": {},
   "outputs": [
    {
     "name": "stdout",
     "output_type": "stream",
     "text": [
      "1.8.0\n"
     ]
    },
    {
     "data": {
      "text/plain": [
       "<tensorflow.python.framework.ops.Graph at 0x1d909875a20>"
      ]
     },
     "execution_count": 23,
     "metadata": {},
     "output_type": "execute_result"
    }
   ],
   "source": [
    "from  numpy.random import seed\n",
    "seed(1)\n",
    "from tensorflow import set_random_seed\n",
    "set_random_seed(2)\n",
    "print(tf.__version__)\n",
    "tf.get_default_graph()"
   ]
  },
  {
   "cell_type": "code",
   "execution_count": null,
   "metadata": {},
   "outputs": [],
   "source": []
  },
  {
   "cell_type": "markdown",
   "metadata": {},
   "source": [
    "load du lieu"
   ]
  },
  {
   "cell_type": "code",
   "execution_count": 24,
   "metadata": {},
   "outputs": [
    {
     "name": "stdout",
     "output_type": "stream",
     "text": [
      "['a_h', 'a_k', 'chi_h', 'chi_k', 'e_h', 'e_k', 'fu_h', 'fu_k', 'ha_h', 'ha_k', 'he_h', 'he_k', 'hi_h', 'hi_k', 'ho_h', 'ho_k', 'i_h', 'i_k', 'ka_h', 'ka_k', 'ke_h', 'ke_k', 'ki_h', 'ki_k', 'ko_h', 'ko_k', 'ku_h', 'ku_k', 'ma_h', 'ma_k', 'me_h', 'me_k', 'mi_h', 'mi_k', 'mo_h', 'mo_k', 'mu_h', 'mu_k', 'na_h', 'na_k', 'ne_h', 'ne_k', 'ni_h', 'ni_k', 'no_h', 'no_k', 'nu_h', 'nu_k', 'n_h', 'n_k', 'o_h', 'o_k', 'ra_h', 'ra_k', 're_h', 're_k', 'ri_h', 'ri_k', 'ro_h', 'ro_k', 'ru_h', 'ru_k', 'sa_h', 'sa_k', 'se_h', 'se_k', 'shi_h', 'shi_k', 'so_h', 'so_k', 'su_h', 'su_k', 'ta_h', 'ta_k', 'te_h', 'te_k', 'to_h', 'to_k', 'tsu_h', 'tsu_k', 'u_h', 'u_k', 'wa_h', 'wa_k', 'wo_h', 'wo_k', 'ya_h', 'ya_k', 'yo_h', 'yo_k', 'yu_h', 'yu_k']\n",
      "92\n"
     ]
    }
   ],
   "source": [
    "# khoi tao gia tri load du lieu\n",
    "\n",
    "\n",
    "validation_size = 0.2\n",
    "test_size = 0.3\n",
    "img_size = 64\n",
    "num_input_channels = 3\n",
    "train_path=r'D:\\Hoang\\data_use_kl\\data_use_kl'\n",
    "classes = dataset.get_labels(train_path)\n",
    "\n",
    "print(classes)\n",
    "\n",
    "num_classes = len(classes)\n",
    "print(num_classes)"
   ]
  },
  {
   "cell_type": "code",
   "execution_count": 25,
   "metadata": {
    "scrolled": true
   },
   "outputs": [
    {
     "name": "stdout",
     "output_type": "stream",
     "text": [
      "(51629, 64, 64, 3)\n",
      "(20651, 64, 64, 3)\n",
      "(30976, 64, 64, 3)\n"
     ]
    }
   ],
   "source": [
    "#load du lieu \n",
    "data=dataset.read_train_sets(train_path=train_path,image_size=img_size,test_size=test_size,validation_size=validation_size)\n",
    "print(data.train.images.shape)\n",
    "print(data.valid.images.shape)\n",
    "print(data.test.images.shape)"
   ]
  },
  {
   "cell_type": "code",
   "execution_count": 43,
   "metadata": {},
   "outputs": [
    {
     "data": {
      "text/plain": [
       "51629"
      ]
     },
     "execution_count": 43,
     "metadata": {},
     "output_type": "execute_result"
    }
   ],
   "source": [
    "data.train.images.shape[0]"
   ]
  },
  {
   "cell_type": "raw",
   "metadata": {},
   "source": [
    "#test du lieu\n",
    "import cv2 as cv\n",
    "a=data.valid.images[0]\n",
    "cv.imshow('image',a)\n",
    "cv.waitKey(0)\n",
    "cv.destroyAllWindows()\n",
    "\n",
    "print(data.valid.img_names[0])\n",
    "print(np.shape(data.valid.labels))\n",
    "print(data.valid.labels[0])\n",
    "\n",
    "print(data.valid.cls[0])\n"
   ]
  },
  {
   "cell_type": "markdown",
   "metadata": {
    "collapsed": true
   },
   "source": [
    "# Xây dựng hàm cho CNN"
   ]
  },
  {
   "cell_type": "markdown",
   "metadata": {},
   "source": [
    "Khởi tạo giá trị"
   ]
  },
  {
   "cell_type": "code",
   "execution_count": 34,
   "metadata": {},
   "outputs": [],
   "source": [
    "tf.reset_default_graph()\n",
    "\n",
    "with tf.name_scope(\"inputs\"):\n",
    "    x = tf.placeholder(tf.float32, shape=[None, img_size,img_size,num_input_channels], name='x')\n",
    "\n",
    "    # labels\n",
    "    y_true = tf.placeholder(tf.float32, shape=[None, num_classes], name='y_true')\n",
    "\n",
    "    keep_prob=tf.constant(1.0,dtype=tf.float32,name=\"keep_prob\")\n",
    "    \n",
    "    y_true_cls = tf.argmax(y_true, axis=1)"
   ]
  },
  {
   "cell_type": "code",
   "execution_count": 35,
   "metadata": {},
   "outputs": [],
   "source": [
    "# cau truc CNN M6-1\n",
    "\n",
    "filter_size_conv1 = 3 \n",
    "num_filters_conv1 = 32\n",
    "\n",
    "filter_size_conv2 = 3\n",
    "num_filters_conv2 = 32\n",
    "\n",
    "filter_size_conv3 = 3\n",
    "num_filters_conv3 = 64\n",
    "\n",
    "filter_size_conv4 = 3\n",
    "num_filters_conv4 = 64\n",
    "    \n",
    "fc_layer_size = 256"
   ]
  },
  {
   "cell_type": "code",
   "execution_count": 36,
   "metadata": {},
   "outputs": [],
   "source": [
    "def create_weights(shape,name):\n",
    "    return tf.Variable(tf.truncated_normal(shape, stddev=0.05),name=name)\n",
    "\n",
    "def create_biases(size,name):\n",
    "    return tf.Variable(tf.constant(0.05, shape=[size]),name=name)"
   ]
  },
  {
   "cell_type": "code",
   "execution_count": 37,
   "metadata": {},
   "outputs": [],
   "source": [
    "def create_conv_layer(input,\n",
    "               num_input_channels, # so channels của từng ảnh\n",
    "               filter_size,    # kích thước filter, kenel, \n",
    "               num_filters,  # số lượng đầu ra cho layer sau\n",
    "               use_maxpool=False, #sử dụng max_pooling k?\n",
    "               name = \"conv_x\" ):  \n",
    "    with tf.name_scope(name):\n",
    "        #tao weight và bias cho lop convolutional nay/\n",
    "#         print(\"input {}: {}\".format(name,input))\n",
    "\n",
    "        name_weights = name+\"_weights\"\n",
    "        with tf.name_scope(\"weights\"):\n",
    "            weights = create_weights(shape=[filter_size, filter_size, num_input_channels, num_filters],name=name_weights)\n",
    "#         print(\"weights {}: {}\".format(name,weights))\n",
    "\n",
    "        name_biases = name+\"_biases\"\n",
    "        with tf.name_scope(\"biases\"):\n",
    "            biases = create_biases(num_filters,name=name_biases)\n",
    "        ## xay dung convolution layer, layer trả về có dimension nhu input\n",
    "#         with tf.device('/gpu:0'):\n",
    "        layer = tf.nn.conv2d(input=input,\n",
    "                         filter=weights,\n",
    "                         strides=[1, 1, 1, 1],\n",
    "                         padding='SAME')\n",
    "#         print(\"layer {}: {}\".format(name,layer))\n",
    "\n",
    "        layer += biases\n",
    "\n",
    "        layer=tf.nn.dropout(layer,keep_prob);\n",
    "\n",
    "        layer = tf.nn.relu(layer)\n",
    "\n",
    "        if use_maxpool:\n",
    "            layer = tf.nn.max_pool(value=layer,\n",
    "                                    ksize=[1, 2, 2, 1],\n",
    "                                    strides=[1, 2, 2, 1],\n",
    "                                    padding='SAME')\n",
    "\n",
    "\n",
    "#         store in histogram\n",
    "        tf.summary.histogram(\"weights\",weights)\n",
    "        tf.summary.histogram(\"biases\",biases)\n",
    "        tf.summary.histogram(\"layer\",layer)\n",
    "        \n",
    "        \n",
    "        layer = tf.identity(layer,name=name)\n",
    "        return layer\n",
    "\n",
    "def create_flatten_layer(layer, name=\"flatten\"):\n",
    "    with tf.name_scope(name):\n",
    "        # chuyen mỗi ảnh thanh mot vector, moi anh sẽ có kích thước phẳng là: img_size * img_size *num_channels\n",
    "\n",
    "        #dimension layer: batch_size,img_size,img_size,num_channels \n",
    "\n",
    "        #lấy số lượng data\n",
    "        layer_shape = layer.get_shape()\n",
    "\n",
    "        # số lượng feature mỗi ảnh = img_size * img_size *num_channels\n",
    "        num_features = layer_shape[1:4].num_elements()\n",
    "\n",
    "        # reshape lại data ví dụ (10,2,2,5) // có 10 ảnh và mỗi ảnh có 2*2*5=20 feature => flat_layer: (10,20) \n",
    "        layer = tf.reshape(layer, [-1, num_features])\n",
    "#         print(\"layer {}: {}\".format(name,layer))\n",
    "        layer = tf.identity(layer,name=name)\n",
    "        return layer\n",
    "\n",
    "def create_fc_layer(input,          \n",
    "             num_inputs,    \n",
    "             num_outputs,\n",
    "             use_relu=False, \n",
    "             use_dropout=False,\n",
    "             name = \"fc\"):\n",
    "    \n",
    "    with tf.name_scope(name):\n",
    "        name_weights = name+\"_weights\"\n",
    "        name_biases = name+\"_biases\"\n",
    "        with tf.name_scope(\"weights\"):\n",
    "            weights = create_weights(shape=[num_inputs, num_outputs],name=name_weights)\n",
    "        with tf.name_scope(\"biases\"):\n",
    "            biases = create_biases(num_outputs,name=name_biases)\n",
    "    \n",
    "#         with tf.device('/gpu:0'):\n",
    "        layer = tf.matmul(input, weights) + biases\n",
    "\n",
    "        if use_relu:\n",
    "            layer = tf.nn.relu(layer)\n",
    "        if use_dropout:\n",
    "             layer=tf.nn.dropout(layer,keep_prob);\n",
    "#         print(\"layer {}: {}\".format(name,layer))\n",
    "\n",
    "        tf.summary.histogram(\"weights\",weights)\n",
    "        tf.summary.histogram(\"biases\",biases)\n",
    "        tf.summary.histogram(\"layer\",layer)\n",
    "        \n",
    "        layer = tf.identity(layer,name=name)\n",
    "        return layer"
   ]
  },
  {
   "cell_type": "markdown",
   "metadata": {},
   "source": [
    "# Xây dựng cấu trúc CNN\n",
    "conv3-32 -> conv3-32 ->maxpool -> conv3-64 -> conv3-64 -> maxpool ->fc-256"
   ]
  },
  {
   "cell_type": "code",
   "execution_count": 38,
   "metadata": {},
   "outputs": [],
   "source": [
    "conv1 =  create_conv_layer(input=x,num_input_channels=num_input_channels,\n",
    "                           filter_size=filter_size_conv1,num_filters=num_filters_conv1,use_maxpool=False, name=\"conv1\")\n",
    "\n",
    "conv2 = create_conv_layer(input=conv1,num_input_channels=num_filters_conv1,\n",
    "                          filter_size=filter_size_conv2,num_filters=num_filters_conv2,use_maxpool=True, name=\"conv2\")\n",
    "\n",
    "conv3 = create_conv_layer(input=conv2,num_input_channels=num_filters_conv2,\n",
    "                          filter_size=filter_size_conv3,num_filters=num_filters_conv3,use_maxpool=False, name=\"conv3\")\n",
    "\n",
    "conv4 = create_conv_layer(input=conv3,num_input_channels=num_filters_conv3,\n",
    "                          filter_size=filter_size_conv4,num_filters=num_filters_conv4,use_maxpool=True, name=\"conv4\")\n",
    "\n",
    "layer_flat = create_flatten_layer(conv4)\n",
    "\n",
    "num_feature = layer_flat.get_shape()[1:2].num_elements()\n",
    "\n",
    "fc1 = create_fc_layer(input=layer_flat,num_inputs=num_feature,num_outputs=fc_layer_size,use_relu=True,use_dropout=True,name=\"fc1\")\n",
    "\n",
    "\n",
    "fc2 = create_fc_layer(input=fc1,num_inputs=fc_layer_size,num_outputs=num_classes,use_relu=False,use_dropout=True,name=\"fc2\")\n",
    "\n"
   ]
  },
  {
   "cell_type": "markdown",
   "metadata": {
    "collapsed": true
   },
   "source": [
    "predict"
   ]
  },
  {
   "cell_type": "code",
   "execution_count": 39,
   "metadata": {},
   "outputs": [],
   "source": [
    "with tf.name_scope(\"Train\"):\n",
    "#     with tf.device('/gpu:0'):\n",
    "    cross_entropy = tf.nn.softmax_cross_entropy_with_logits_v2(logits=fc2,\n",
    "                                                        labels=y_true)\n",
    "    with tf.name_scope(\"loss\"):\n",
    "        loss = tf.reduce_mean(cross_entropy)\n",
    "        tf.summary.scalar(\"loss\",loss)\n",
    "    with tf.name_scope(\"train_step\"):\n",
    "        train_step = tf.train.AdamOptimizer(learning_rate=1e-4).minimize(loss)\n",
    "\n",
    "\n",
    "with tf.name_scope(\"Test\"):\n",
    "    y_pred = tf.nn.softmax(fc2,name='y_pred')\n",
    "    y_pred_cls = tf.argmax(y_pred, axis=1)\n",
    "    correct_prediction = tf.equal(y_pred_cls, y_true_cls)\n",
    "    accuracy = tf.reduce_mean(tf.cast(correct_prediction, tf.float32), name=\"accuracy\")\n",
    "\n"
   ]
  },
  {
   "cell_type": "raw",
   "metadata": {
    "collapsed": true
   },
   "source": [
    "def show_progress(epoch, feed_dict_train, feed_dict_validate, val_loss):\n",
    "    acc = session.run(accuracy, feed_dict=feed_dict_train)\n",
    "    val_acc = session.run(accuracy, feed_dict=feed_dict_validate)\n",
    "    msg = \"Training Epoch {0} --- Training Accuracy: {1:>6.1%}, Validation Accuracy: {2:>6.1%},  Validation Loss: {3:.3f}\"\n",
    "    print(msg.format(epoch + 1, acc, val_acc, val_loss))"
   ]
  },
  {
   "cell_type": "code",
   "execution_count": 51,
   "metadata": {
    "scrolled": false
   },
   "outputs": [],
   "source": [
    "my_config =tf.ConfigProto(allow_soft_placement=True,log_device_placement=True)\n",
    "my_config.gpu_options.allow_growth = True\n",
    "session = tf.Session(config=my_config)\n",
    "\n",
    "session.run(tf.global_variables_initializer())\n",
    "\n",
    "saver = tf.train.Saver()\n",
    "\n",
    "merged =tf.summary.merge_all();\n",
    "train_writer= tf.summary.FileWriter(r\".\\graph\\M6\\train\",session.graph)\n",
    "valid_writer=tf.summary.FileWriter(r\".\\graph\\M6\\valid\",session.graph)\n",
    "\n",
    "\n",
    "batch_size=100\n",
    "def train(num_epochs):\n",
    "    num_iteration = int(data.train.images.shape[0]/batch_size)\n",
    "    total_iterations =0\n",
    "    for epoch in range(num_epochs):\n",
    "        for i in range(num_iteration):\n",
    "\n",
    "            x_batch, y_true_batch, _, cls_batch = data.train.next_batch(batch_size)\n",
    "    #         print(y_true_batch.shape)\n",
    "            feed_dict_train = {x: x_batch, y_true: y_true_batch}    \n",
    "\n",
    "            session.run(train_step, feed_dict=feed_dict_train)\n",
    "\n",
    "            if i % 100== 0 and i>0: \n",
    "                x_valid_batch, y_valid_batch, _, valid_cls_batch = data.valid.next_batch(batch_size)\n",
    "\n",
    "                feed_dict_valid = {x: x_valid_batch, y_true: y_valid_batch }\n",
    "\n",
    "                valid_loss,valid_accuracy,valid_merged = session.run([loss,accuracy,merged], feed_dict=feed_dict_valid)\n",
    "\n",
    "                feed_dict_train = {x: x_batch, y_true: y_true_batch} \n",
    "                train_accuracy,train_merged = session.run([accuracy,merged], feed_dict=feed_dict_train)\n",
    "                \n",
    "                total_iterations=total_iterations+100\n",
    "\n",
    "                msg=\"epoch: {0:d} -- iteration: {1:d} --- loss: {2:.2f} --- train_acc {3:>6.2%} --- valid_acc {4:6.2%}\"\n",
    "\n",
    "                print(msg.format(epoch,total_iterations,valid_loss,train_accuracy,valid_accuracy))\n",
    "\n",
    "                print()\n",
    "\n",
    "                train_writer.add_summary(train_merged,i)\n",
    "                valid_writer.add_summary(valid_merged,i)\n",
    "            \n",
    "            \n",
    "        save_path=saver.save(session, r'.\\model\\modelxxx.ckpt',global_step=epoch)\n",
    "        "
   ]
  },
  {
   "cell_type": "code",
   "execution_count": 53,
   "metadata": {},
   "outputs": [
    {
     "name": "stdout",
     "output_type": "stream",
     "text": [
      "start time: 1526485817.1148167\n",
      "epoch: 0 -- iteration: 100 --- loss: 3.81 --- train_acc  6.00% --- valid_acc 12.00%\n",
      "\n",
      "epoch: 0 -- iteration: 200 --- loss: 2.95 --- train_acc 38.00% --- valid_acc 28.00%\n",
      "\n",
      "epoch: 0 -- iteration: 300 --- loss: 2.41 --- train_acc 53.00% --- valid_acc 42.00%\n",
      "\n",
      "epoch: 0 -- iteration: 400 --- loss: 2.26 --- train_acc 53.00% --- valid_acc 41.00%\n",
      "\n",
      "epoch: 0 -- iteration: 500 --- loss: 2.05 --- train_acc 48.00% --- valid_acc 51.00%\n",
      "\n",
      "epoch: 1 -- iteration: 600 --- loss: 1.48 --- train_acc 68.00% --- valid_acc 61.00%\n",
      "\n",
      "epoch: 1 -- iteration: 700 --- loss: 1.72 --- train_acc 72.00% --- valid_acc 57.00%\n",
      "\n",
      "epoch: 1 -- iteration: 800 --- loss: 1.23 --- train_acc 70.00% --- valid_acc 71.00%\n",
      "\n",
      "epoch: 1 -- iteration: 900 --- loss: 0.95 --- train_acc 73.00% --- valid_acc 75.00%\n",
      "\n",
      "epoch: 1 -- iteration: 1000 --- loss: 0.89 --- train_acc 73.00% --- valid_acc 73.00%\n",
      "\n",
      "epoch: 2 -- iteration: 1100 --- loss: 1.11 --- train_acc 82.00% --- valid_acc 70.00%\n",
      "\n",
      "epoch: 2 -- iteration: 1200 --- loss: 0.74 --- train_acc 91.00% --- valid_acc 83.00%\n",
      "\n",
      "epoch: 2 -- iteration: 1300 --- loss: 0.74 --- train_acc 84.00% --- valid_acc 83.00%\n",
      "\n",
      "epoch: 2 -- iteration: 1400 --- loss: 0.82 --- train_acc 85.00% --- valid_acc 80.00%\n",
      "\n",
      "epoch: 2 -- iteration: 1500 --- loss: 0.63 --- train_acc 79.00% --- valid_acc 88.00%\n",
      "\n",
      "epoch: 3 -- iteration: 1600 --- loss: 0.79 --- train_acc 86.00% --- valid_acc 84.00%\n",
      "\n",
      "epoch: 3 -- iteration: 1700 --- loss: 0.66 --- train_acc 91.00% --- valid_acc 85.00%\n",
      "\n",
      "epoch: 3 -- iteration: 1800 --- loss: 0.52 --- train_acc 90.00% --- valid_acc 86.00%\n",
      "\n",
      "epoch: 3 -- iteration: 1900 --- loss: 0.79 --- train_acc 92.00% --- valid_acc 81.00%\n",
      "\n",
      "epoch: 3 -- iteration: 2000 --- loss: 0.47 --- train_acc 89.00% --- valid_acc 84.00%\n",
      "\n",
      "epoch: 4 -- iteration: 2100 --- loss: 0.72 --- train_acc 87.00% --- valid_acc 83.00%\n",
      "\n",
      "epoch: 4 -- iteration: 2200 --- loss: 0.49 --- train_acc 92.00% --- valid_acc 86.00%\n",
      "\n",
      "epoch: 4 -- iteration: 2300 --- loss: 0.57 --- train_acc 91.00% --- valid_acc 85.00%\n",
      "\n",
      "epoch: 4 -- iteration: 2400 --- loss: 0.37 --- train_acc 92.00% --- valid_acc 89.00%\n",
      "\n",
      "epoch: 4 -- iteration: 2500 --- loss: 0.49 --- train_acc 90.00% --- valid_acc 86.00%\n",
      "\n",
      "epoch: 5 -- iteration: 2600 --- loss: 0.58 --- train_acc 92.00% --- valid_acc 82.00%\n",
      "\n",
      "epoch: 5 -- iteration: 2700 --- loss: 0.41 --- train_acc 96.00% --- valid_acc 91.00%\n",
      "\n",
      "epoch: 5 -- iteration: 2800 --- loss: 0.54 --- train_acc 96.00% --- valid_acc 87.00%\n",
      "\n",
      "epoch: 5 -- iteration: 2900 --- loss: 0.42 --- train_acc 97.00% --- valid_acc 87.00%\n",
      "\n",
      "epoch: 5 -- iteration: 3000 --- loss: 0.21 --- train_acc 95.00% --- valid_acc 95.00%\n",
      "\n",
      "epoch: 6 -- iteration: 3100 --- loss: 0.45 --- train_acc 95.00% --- valid_acc 85.00%\n",
      "\n",
      "epoch: 6 -- iteration: 3200 --- loss: 0.27 --- train_acc 95.00% --- valid_acc 93.00%\n",
      "\n",
      "epoch: 6 -- iteration: 3300 --- loss: 0.57 --- train_acc 93.00% --- valid_acc 89.00%\n",
      "\n",
      "epoch: 6 -- iteration: 3400 --- loss: 0.31 --- train_acc 96.00% --- valid_acc 91.00%\n",
      "\n",
      "epoch: 6 -- iteration: 3500 --- loss: 0.27 --- train_acc 96.00% --- valid_acc 91.00%\n",
      "\n",
      "epoch: 7 -- iteration: 3600 --- loss: 0.28 --- train_acc 97.00% --- valid_acc 91.00%\n",
      "\n",
      "epoch: 7 -- iteration: 3700 --- loss: 0.65 --- train_acc 96.00% --- valid_acc 85.00%\n",
      "\n",
      "epoch: 7 -- iteration: 3800 --- loss: 0.41 --- train_acc 97.00% --- valid_acc 90.00%\n",
      "\n",
      "epoch: 7 -- iteration: 3900 --- loss: 0.32 --- train_acc 93.00% --- valid_acc 93.00%\n",
      "\n",
      "epoch: 7 -- iteration: 4000 --- loss: 0.74 --- train_acc 97.00% --- valid_acc 86.00%\n",
      "\n",
      "epoch: 8 -- iteration: 4100 --- loss: 0.32 --- train_acc 99.00% --- valid_acc 92.00%\n",
      "\n",
      "epoch: 8 -- iteration: 4200 --- loss: 0.23 --- train_acc 97.00% --- valid_acc 91.00%\n",
      "\n",
      "epoch: 8 -- iteration: 4300 --- loss: 0.77 --- train_acc 98.00% --- valid_acc 89.00%\n",
      "\n",
      "epoch: 8 -- iteration: 4400 --- loss: 0.56 --- train_acc 95.00% --- valid_acc 87.00%\n",
      "\n",
      "epoch: 8 -- iteration: 4500 --- loss: 0.68 --- train_acc 96.00% --- valid_acc 93.00%\n",
      "\n",
      "epoch: 9 -- iteration: 4600 --- loss: 0.58 --- train_acc 98.00% --- valid_acc 89.00%\n",
      "\n",
      "epoch: 9 -- iteration: 4700 --- loss: 0.12 --- train_acc 97.00% --- valid_acc 96.00%\n",
      "\n",
      "epoch: 9 -- iteration: 4800 --- loss: 0.46 --- train_acc 96.00% --- valid_acc 89.00%\n",
      "\n",
      "epoch: 9 -- iteration: 4900 --- loss: 0.47 --- train_acc 97.00% --- valid_acc 89.00%\n",
      "\n",
      "epoch: 9 -- iteration: 5000 --- loss: 0.38 --- train_acc 99.00% --- valid_acc 92.00%\n",
      "\n",
      "epoch: 10 -- iteration: 5100 --- loss: 0.43 --- train_acc 96.00% --- valid_acc 89.00%\n",
      "\n",
      "epoch: 10 -- iteration: 5200 --- loss: 0.35 --- train_acc 99.00% --- valid_acc 91.00%\n",
      "\n",
      "epoch: 10 -- iteration: 5300 --- loss: 0.47 --- train_acc 99.00% --- valid_acc 88.00%\n",
      "\n",
      "epoch: 10 -- iteration: 5400 --- loss: 0.17 --- train_acc 98.00% --- valid_acc 93.00%\n",
      "\n",
      "epoch: 10 -- iteration: 5500 --- loss: 0.44 --- train_acc 97.00% --- valid_acc 91.00%\n",
      "\n",
      "epoch: 11 -- iteration: 5600 --- loss: 0.18 --- train_acc 99.00% --- valid_acc 94.00%\n",
      "\n",
      "epoch: 11 -- iteration: 5700 --- loss: 0.62 --- train_acc 100.00% --- valid_acc 89.00%\n",
      "\n",
      "epoch: 11 -- iteration: 5800 --- loss: 0.50 --- train_acc 99.00% --- valid_acc 92.00%\n",
      "\n",
      "epoch: 11 -- iteration: 5900 --- loss: 0.26 --- train_acc 96.00% --- valid_acc 92.00%\n",
      "\n",
      "epoch: 11 -- iteration: 6000 --- loss: 0.81 --- train_acc 97.00% --- valid_acc 85.00%\n",
      "\n",
      "epoch: 12 -- iteration: 6100 --- loss: 0.15 --- train_acc 100.00% --- valid_acc 95.00%\n",
      "\n",
      "epoch: 12 -- iteration: 6200 --- loss: 0.36 --- train_acc 100.00% --- valid_acc 96.00%\n",
      "\n",
      "epoch: 12 -- iteration: 6300 --- loss: 0.30 --- train_acc 100.00% --- valid_acc 93.00%\n",
      "\n",
      "epoch: 12 -- iteration: 6400 --- loss: 0.17 --- train_acc 100.00% --- valid_acc 94.00%\n",
      "\n",
      "epoch: 12 -- iteration: 6500 --- loss: 0.21 --- train_acc 100.00% --- valid_acc 97.00%\n",
      "\n",
      "epoch: 13 -- iteration: 6600 --- loss: 0.29 --- train_acc 100.00% --- valid_acc 94.00%\n",
      "\n",
      "epoch: 13 -- iteration: 6700 --- loss: 0.56 --- train_acc 99.00% --- valid_acc 87.00%\n",
      "\n",
      "epoch: 13 -- iteration: 6800 --- loss: 0.33 --- train_acc 99.00% --- valid_acc 91.00%\n",
      "\n",
      "epoch: 13 -- iteration: 6900 --- loss: 0.55 --- train_acc 99.00% --- valid_acc 91.00%\n",
      "\n",
      "epoch: 13 -- iteration: 7000 --- loss: 0.53 --- train_acc 100.00% --- valid_acc 91.00%\n",
      "\n",
      "epoch: 14 -- iteration: 7100 --- loss: 0.35 --- train_acc 100.00% --- valid_acc 93.00%\n",
      "\n",
      "epoch: 14 -- iteration: 7200 --- loss: 0.51 --- train_acc 100.00% --- valid_acc 90.00%\n",
      "\n",
      "epoch: 14 -- iteration: 7300 --- loss: 0.23 --- train_acc 100.00% --- valid_acc 94.00%\n",
      "\n",
      "epoch: 14 -- iteration: 7400 --- loss: 0.53 --- train_acc 100.00% --- valid_acc 88.00%\n",
      "\n",
      "epoch: 14 -- iteration: 7500 --- loss: 0.51 --- train_acc 100.00% --- valid_acc 91.00%\n",
      "\n",
      "epoch: 15 -- iteration: 7600 --- loss: 0.46 --- train_acc 100.00% --- valid_acc 91.00%\n",
      "\n",
      "epoch: 15 -- iteration: 7700 --- loss: 0.48 --- train_acc 100.00% --- valid_acc 94.00%\n",
      "\n",
      "epoch: 15 -- iteration: 7800 --- loss: 0.06 --- train_acc 100.00% --- valid_acc 97.00%\n",
      "\n",
      "epoch: 15 -- iteration: 7900 --- loss: 0.36 --- train_acc 100.00% --- valid_acc 93.00%\n",
      "\n",
      "epoch: 15 -- iteration: 8000 --- loss: 0.52 --- train_acc 99.00% --- valid_acc 95.00%\n",
      "\n",
      "epoch: 16 -- iteration: 8100 --- loss: 0.36 --- train_acc 99.00% --- valid_acc 90.00%\n",
      "\n",
      "epoch: 16 -- iteration: 8200 --- loss: 0.56 --- train_acc 99.00% --- valid_acc 91.00%\n",
      "\n",
      "epoch: 16 -- iteration: 8300 --- loss: 0.42 --- train_acc 100.00% --- valid_acc 96.00%\n",
      "\n",
      "epoch: 16 -- iteration: 8400 --- loss: 0.45 --- train_acc 98.00% --- valid_acc 91.00%\n",
      "\n",
      "epoch: 16 -- iteration: 8500 --- loss: 0.53 --- train_acc 100.00% --- valid_acc 92.00%\n",
      "\n",
      "epoch: 17 -- iteration: 8600 --- loss: 0.34 --- train_acc 100.00% --- valid_acc 93.00%\n",
      "\n",
      "epoch: 17 -- iteration: 8700 --- loss: 0.24 --- train_acc 100.00% --- valid_acc 94.00%\n",
      "\n",
      "epoch: 17 -- iteration: 8800 --- loss: 0.19 --- train_acc 100.00% --- valid_acc 96.00%\n",
      "\n",
      "epoch: 17 -- iteration: 8900 --- loss: 0.57 --- train_acc 100.00% --- valid_acc 90.00%\n",
      "\n",
      "epoch: 17 -- iteration: 9000 --- loss: 0.98 --- train_acc 100.00% --- valid_acc 85.00%\n",
      "\n",
      "epoch: 18 -- iteration: 9100 --- loss: 0.35 --- train_acc 100.00% --- valid_acc 94.00%\n",
      "\n",
      "epoch: 18 -- iteration: 9200 --- loss: 0.23 --- train_acc 100.00% --- valid_acc 94.00%\n",
      "\n",
      "epoch: 18 -- iteration: 9300 --- loss: 0.23 --- train_acc 100.00% --- valid_acc 92.00%\n",
      "\n",
      "epoch: 18 -- iteration: 9400 --- loss: 0.63 --- train_acc 99.00% --- valid_acc 90.00%\n",
      "\n",
      "epoch: 18 -- iteration: 9500 --- loss: 0.33 --- train_acc 98.00% --- valid_acc 95.00%\n",
      "\n"
     ]
    },
    {
     "name": "stdout",
     "output_type": "stream",
     "text": [
      "epoch: 19 -- iteration: 9600 --- loss: 0.59 --- train_acc 100.00% --- valid_acc 90.00%\n",
      "\n",
      "epoch: 19 -- iteration: 9700 --- loss: 0.69 --- train_acc 100.00% --- valid_acc 90.00%\n",
      "\n",
      "epoch: 19 -- iteration: 9800 --- loss: 1.00 --- train_acc 100.00% --- valid_acc 92.00%\n",
      "\n",
      "epoch: 19 -- iteration: 9900 --- loss: 0.20 --- train_acc 100.00% --- valid_acc 95.00%\n",
      "\n",
      "epoch: 19 -- iteration: 10000 --- loss: 0.49 --- train_acc 100.00% --- valid_acc 94.00%\n",
      "\n",
      "epoch: 20 -- iteration: 10100 --- loss: 0.11 --- train_acc 100.00% --- valid_acc 96.00%\n",
      "\n",
      "epoch: 20 -- iteration: 10200 --- loss: 0.23 --- train_acc 100.00% --- valid_acc 95.00%\n",
      "\n",
      "epoch: 20 -- iteration: 10300 --- loss: 0.72 --- train_acc 99.00% --- valid_acc 93.00%\n",
      "\n",
      "epoch: 20 -- iteration: 10400 --- loss: 0.36 --- train_acc 100.00% --- valid_acc 89.00%\n",
      "\n",
      "epoch: 20 -- iteration: 10500 --- loss: 0.32 --- train_acc 100.00% --- valid_acc 94.00%\n",
      "\n",
      "end time: 1526487187.622616\n",
      "run time: 1370.5077993869781\n"
     ]
    }
   ],
   "source": [
    "start_time = time.time()\n",
    "print(f\"start time: {start_time}\")\n",
    "train(num_epochs=21)\n",
    "end_time= time.time()\n",
    "print(f\"end time: {end_time}\")\n",
    "run_time =end_time-start_time\n",
    "print(f\"run time: {run_time}\")"
   ]
  },
  {
   "cell_type": "code",
   "execution_count": 54,
   "metadata": {},
   "outputs": [
    {
     "data": {
      "text/plain": [
       "22.841796656449635"
      ]
     },
     "execution_count": 54,
     "metadata": {},
     "output_type": "execute_result"
    }
   ],
   "source": [
    "run_time/60"
   ]
  },
  {
   "cell_type": "code",
   "execution_count": 20,
   "metadata": {},
   "outputs": [
    {
     "name": "stdout",
     "output_type": "stream",
     "text": [
      "train_iteration 1235 --- loss: 0.23 --- train_acc 38.94% --- valid_acc 56.88%\n"
     ]
    }
   ],
   "source": [
    "a=1235\n",
    "b=0.2312\n",
    "c=0.389444\n",
    "d=0.56876525\n",
    "msg=\"train_iteration {0:d} --- loss: {1:.2f} --- train_acc {2:>6.2%} --- valid_acc {3:6.2%}\"\n",
    "print(msg.format(a,b,c,d))"
   ]
  },
  {
   "cell_type": "code",
   "execution_count": 32,
   "metadata": {},
   "outputs": [
    {
     "name": "stdout",
     "output_type": "stream",
     "text": [
      "10\n",
      "11\n",
      "12\n",
      "13\n",
      "14\n",
      "10\n",
      "11\n",
      "12\n",
      "13\n",
      "14\n",
      "10\n",
      "11\n",
      "12\n",
      "13\n",
      "14\n",
      "10\n",
      "11\n",
      "12\n",
      "13\n",
      "14\n",
      "10\n",
      "11\n",
      "12\n",
      "13\n",
      "14\n",
      "10\n",
      "11\n",
      "12\n",
      "13\n",
      "14\n",
      "10\n",
      "11\n",
      "12\n",
      "13\n",
      "14\n",
      "10\n",
      "11\n",
      "12\n",
      "13\n",
      "14\n",
      "10\n",
      "11\n",
      "12\n",
      "13\n",
      "14\n",
      "10\n",
      "11\n",
      "12\n",
      "13\n",
      "14\n"
     ]
    }
   ],
   "source": [
    "\n",
    "for i in range(10):\n",
    "    for j in range(5):\n",
    "        print(j+10)"
   ]
  },
  {
   "cell_type": "code",
   "execution_count": null,
   "metadata": {},
   "outputs": [],
   "source": []
  }
 ],
 "metadata": {
  "kernelspec": {
   "display_name": "Python 3",
   "language": "python",
   "name": "python3"
  },
  "language_info": {
   "codemirror_mode": {
    "name": "ipython",
    "version": 3
   },
   "file_extension": ".py",
   "mimetype": "text/x-python",
   "name": "python",
   "nbconvert_exporter": "python",
   "pygments_lexer": "ipython3",
   "version": "3.6.4"
  }
 },
 "nbformat": 4,
 "nbformat_minor": 2
}
