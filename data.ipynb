{
 "cells": [
  {
   "cell_type": "code",
   "execution_count": 1,
   "metadata": {
    "collapsed": true
   },
   "outputs": [],
   "source": [
    "import shutil\n",
    "import os\n",
    "import cv2 as cv\n",
    "import glob\n",
    "import numpy as np"
   ]
  },
  {
   "cell_type": "markdown",
   "metadata": {},
   "source": [
    "\n",
    "# đọc file ET01"
   ]
  },
  {
   "cell_type": "raw",
   "metadata": {},
   "source": [
    "# path=\"D:\\DatasetJapanese\\ET1\\katagana\"\n",
    "pathDataset=\"D:\\DatasetJapanese\\ET1\\kata_dataset\"\n",
    "pathDatatest=\"D:\\DatasetJapanese\\ET1\\kata_datatest\"\n",
    "# def copydataset(path, soLuongAnhMoiLabel)\n",
    "\n",
    "katagana=os.listdir(path)\n",
    "# print(\"a\",os.path.join(pathDataset,\"hi\"))\n",
    "# # print(katagana)\n",
    "# c=os.listdir(path+\"\\\\\"+katagana[0])\n",
    "# print(os.path.dirname(path))\n",
    "\n",
    "\n",
    "for alphabet_k in katagana:\n",
    "    i=0\n",
    "    \n",
    "    path_copy1=path+'\\\\'+alphabet_k;\n",
    "    dictionary = os.listdir(path+'\\\\'+alphabet_k)\n",
    "    \n",
    "    # set duong dan cho muc\n",
    "    alphabet_path_dataset = pathDataset+'\\\\'+alphabet_k\n",
    "    alphabet_path_datatest = pathDatatest+'\\\\'+alphabet_k\n",
    "\n",
    "    \n",
    "    #tao file neu chua ton tai\n",
    "    if not os.path.exists(alphabet_path_dataset):\n",
    "        os.makedirs(alphabet_path_dataset)\n",
    "    if not os.path.exists(alphabet_path_datatest):\n",
    "        os.makedirs(alphabet_path_datatest)\n",
    "        \n",
    "    for file in dictionary:\n",
    "        path_copy = path_copy1+'\\\\'+file\n",
    "        path_paste = alphabet_path_dataset+'\\\\'+file\n",
    "        if i<=500:\n",
    "            shutil.copy2(path_copy,path_paste)\n",
    "            \n",
    "        elif (i>500 and i<=750):\n",
    "            path_copy2 = path_copy1+'\\\\'+file\n",
    "            path_paste2 = alphabet_path_datatest+'\\\\'+file\n",
    "            shutil.copy2(path_copy2,path_paste2)\n",
    "        else:\n",
    "            break\n",
    "        i+=1\n",
    "        \n",
    "        "
   ]
  },
  {
   "cell_type": "markdown",
   "metadata": {},
   "source": [
    "# Đọc file ET02b"
   ]
  },
  {
   "cell_type": "code",
   "execution_count": null,
   "metadata": {
    "collapsed": true
   },
   "outputs": [],
   "source": [
    "# path=\"D:\\DatasetJapanese\\ET1\\katagana\"\n",
    "pathDataset=\"D:\\DatasetJapanese\\ET1\\kata_dataset\"\n",
    "pathDatatest=\"D:\\DatasetJapanese\\ET1\\kata_datatest\"\n",
    "# def copydataset(path, soLuongAnhMoiLabel)\n",
    "\n",
    "katagana=os.listdir(path)\n",
    "# print(\"a\",os.path.join(pathDataset,\"hi\"))\n",
    "# # print(katagana)\n",
    "# c=os.listdir(path+\"\\\\\"+katagana[0])\n",
    "# print(os.path.dirname(path))\n",
    "\n",
    "\n",
    "for alphabet_k in katagana:\n",
    "    i=0\n",
    "    \n",
    "    path_copy1=path+'\\\\'+alphabet_k;\n",
    "    dictionary = os.listdir(path+'\\\\'+alphabet_k)\n",
    "    \n",
    "    # set duong dan cho muc\n",
    "    alphabet_path_dataset = pathDataset+'\\\\'+alphabet_k\n",
    "    alphabet_path_datatest = pathDatatest+'\\\\'+alphabet_k\n",
    "\n",
    "    \n",
    "    #tao file neu chua ton tai\n",
    "    if not os.path.exists(alphabet_path_dataset):\n",
    "        os.makedirs(alphabet_path_dataset)\n",
    "    if not os.path.exists(alphabet_path_datatest):\n",
    "        os.makedirs(alphabet_path_datatest)\n",
    "        \n",
    "    for file in dictionary:\n",
    "        path_copy = path_copy1+'\\\\'+file\n",
    "        path_paste = alphabet_path_dataset+'\\\\'+file\n",
    "        if i<=500:\n",
    "            shutil.copy2(path_copy,path_paste)\n",
    "            \n",
    "        elif (i>500 and i<=750):\n",
    "            path_copy2 = path_copy1+'\\\\'+file\n",
    "            path_paste2 = alphabet_path_datatest+'\\\\'+file\n",
    "            shutil.copy2(path_copy2,path_paste2)\n",
    "        else:\n",
    "            break\n",
    "        i+=1\n",
    "        \n",
    "        "
   ]
  },
  {
   "cell_type": "code",
   "execution_count": 45,
   "metadata": {
    "scrolled": true
   },
   "outputs": [
    {
     "name": "stdout",
     "output_type": "stream",
     "text": [
      "D:\\DatasetJapanese\\ET1\\kata_datatest\\a_k\\*\n",
      "80\n",
      "24\n",
      "0.313725490196\n",
      "24\n",
      "shape[0] 3\n",
      "[[ 1  2  3  4]\n",
      " [ 5  6  7  8]\n",
      " [ 9 10 11 12]]\n",
      "(3, 4)\n",
      "yshape:  (4,)\n",
      "[[1 2 3 4]]\n",
      "y reshape:  (1, 4)\n",
      "[[ 1  4  9 16]\n",
      " [ 5 12 21 32]\n",
      " [ 9 20 33 48]]\n",
      "[[ 2  4  6  8]\n",
      " [10 12 14 16]\n",
      " [18 20 22 24]]\n"
     ]
    }
   ],
   "source": [
    "\n",
    "\n",
    "\n",
    "\n",
    "pathDataset_test=\"D:\\DatasetJapanese\\ET1\"\\\n",
    "# truy cap vao file theo duong dan: '*' de truy cap tat ca file trong duong dan\n",
    "path = os.path.join(pathDataset_test,\"kata_datatest\", \"a_k\", '*')\n",
    "print(path)\n",
    "\n",
    "\n",
    "#get all dict  from D:\\DatasetJapanese\\ET1\\kata_datatest\\a_k into a\n",
    "a = glob.glob(path) #chuan hoa duong dan\n",
    "#print(\"a:\\n\",a)\n",
    "\n",
    "img =cv.imread(a[0])\n",
    "print(np.max(img[62,:,0]))\n",
    "print(np.argmax(img[62,:,0]))\n",
    "\n",
    "a=np.multiply(img, 1.0 / 255.0)\n",
    "print(np.max(a[62,:,0]))\n",
    "print(np.argmax(a[62,:,0]))\n",
    "\n",
    "x=np.arange(1,13).reshape(3,4)\n",
    "print(\"shape[0]\",x.shape[0])\n",
    "print(x)\n",
    "print(x.shape)\n",
    "y=np.array([1,2,3,4])\n",
    "print(\"yshape: \",y.shape)\n",
    "y=y.reshape(1,4)\n",
    "print(y.reshape(1,4))\n",
    "print(\"y reshape: \",y.shape)\n",
    "print(np.multiply(y,x))\n",
    "print(x*2)"
   ]
  },
  {
   "cell_type": "code",
   "execution_count": 40,
   "metadata": {},
   "outputs": [
    {
     "ename": "TypeError",
     "evalue": "bad argument type for built-in operation",
     "output_type": "error",
     "traceback": [
      "\u001b[1;31m---------------------------------------------------------------------------\u001b[0m",
      "\u001b[1;31mTypeError\u001b[0m                                 Traceback (most recent call last)",
      "\u001b[1;32m<ipython-input-40-dfedfebf9dd8>\u001b[0m in \u001b[0;36m<module>\u001b[1;34m()\u001b[0m\n\u001b[0;32m      2\u001b[0m \u001b[0mpath1\u001b[0m\u001b[1;33m=\u001b[0m\u001b[1;34m\"D:\\\\DatasetJapanese\\\\ET1\\\\kata_datatest\\\\a_k\\\\00502.png\"\u001b[0m \u001b[1;31m#cai nay su dung dc\u001b[0m\u001b[1;33m\u001b[0m\u001b[0m\n\u001b[0;32m      3\u001b[0m \u001b[0mpath2\u001b[0m\u001b[1;33m=\u001b[0m\u001b[1;34m\"D:\\DatasetJapanese\\ET1\\kata_datatest\\a_k\\00502.png\"\u001b[0m\u001b[1;31m# cai nay khong su dung duoc trong cv2\u001b[0m\u001b[1;33m\u001b[0m\u001b[0m\n\u001b[1;32m----> 4\u001b[1;33m \u001b[0mimg\u001b[0m \u001b[1;33m=\u001b[0m\u001b[0mcv\u001b[0m\u001b[1;33m.\u001b[0m\u001b[0mimread\u001b[0m\u001b[1;33m(\u001b[0m\u001b[0ma\u001b[0m\u001b[1;33m[\u001b[0m\u001b[1;36m0\u001b[0m\u001b[1;33m]\u001b[0m\u001b[1;33m)\u001b[0m\u001b[1;33m\u001b[0m\u001b[0m\n\u001b[0m\u001b[0;32m      5\u001b[0m \u001b[1;33m\u001b[0m\u001b[0m\n\u001b[0;32m      6\u001b[0m \u001b[0mprint\u001b[0m\u001b[1;33m(\u001b[0m\u001b[0mimg\u001b[0m\u001b[1;33m.\u001b[0m\u001b[0mshape\u001b[0m\u001b[1;33m)\u001b[0m\u001b[1;33m\u001b[0m\u001b[0m\n",
      "\u001b[1;31mTypeError\u001b[0m: bad argument type for built-in operation"
     ]
    }
   ],
   "source": [
    "# xử lý với cv2 đường dẫn cần chuẩn: D:\\\\abc\\\\abc\\\\\n",
    "path1=\"D:\\\\DatasetJapanese\\\\ET1\\\\kata_datatest\\\\a_k\\\\00502.png\" #cai nay su dung dc\n",
    "path2=\"D:\\DatasetJapanese\\ET1\\kata_datatest\\a_k\\00502.png\"# cai nay khong su dung duoc trong cv2\n",
    "img =cv.imread(a[0])\n",
    "\n",
    "print(img.shape)\n",
    "for i in a: # su dung i thi duoc, con a[0] thi khong duoc\n",
    "    img =cv.imread(i)\n",
    "\n",
    "#     print(img.shape)\n",
    "    # resize =cv.resize(img,(64,64))\n",
    "    # print(resize[:,0,0])\n",
    "    # cv.imshow('image',resize)\n",
    "    # cv.waitKey(0)\n",
    "    # cv.destroyAllWindows()"
   ]
  },
  {
   "cell_type": "code",
   "execution_count": null,
   "metadata": {
    "collapsed": true
   },
   "outputs": [],
   "source": []
  }
 ],
 "metadata": {
  "kernelspec": {
   "display_name": "Python 3",
   "language": "python",
   "name": "python3"
  },
  "language_info": {
   "codemirror_mode": {
    "name": "ipython",
    "version": 3
   },
   "file_extension": ".py",
   "mimetype": "text/x-python",
   "name": "python",
   "nbconvert_exporter": "python",
   "pygments_lexer": "ipython3",
   "version": "3.6.2"
  }
 },
 "nbformat": 4,
 "nbformat_minor": 2
}
