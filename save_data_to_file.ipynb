{
 "cells": [
  {
   "cell_type": "code",
   "execution_count": 1,
   "metadata": {},
   "outputs": [
    {
     "name": "stderr",
     "output_type": "stream",
     "text": [
      "D:\\Anaconda\\lib\\site-packages\\h5py\\__init__.py:36: FutureWarning: Conversion of the second argument of issubdtype from `float` to `np.floating` is deprecated. In future, it will be treated as `np.float64 == np.dtype(float).type`.\n",
      "  from ._conv import register_converters as _register_converters\n"
     ]
    }
   ],
   "source": [
    "import dataset \n",
    "import pickle\n",
    "from pathlib import Path"
   ]
  },
  {
   "cell_type": "code",
   "execution_count": 3,
   "metadata": {},
   "outputs": [
    {
     "name": "stdout",
     "output_type": "stream",
     "text": [
      "Get and Compress data\n",
      "read file name: a_h\n",
      "read file name: a_k\n",
      "read file name: chi_h\n",
      "read file name: chi_k\n",
      "read file name: e_h\n",
      "read file name: e_k\n",
      "read file name: i_h\n",
      "read file name: i_k\n",
      "uncompress data\n"
     ]
    }
   ],
   "source": [
    "data_path = r\"D:\\Hoang\\data_test\"\n",
    "num_input_channels = 1\n",
    "validation_size = 0.1\n",
    "test_size = 0.2\n",
    "img_size = 64\n",
    "\n",
    "\n",
    "\n",
    "class DataCompression(object):\n",
    "    def __init__(self,data):\n",
    "        self.train = data.train\n",
    "        self.valid = data.valid\n",
    "        self.test = data.test\n",
    "\n",
    "p=Path(r\"D:\\Hoang\\train_data_experiment.file\")\n",
    " \n",
    "if not p.exists():\n",
    "    print(\"Get and Compress data\")\n",
    "    data_train=dataset.read_train_sets(train_path=data_path,image_size=img_size,test_size=test_size,validation_size=validation_size)\n",
    "    data_train = DataCompression(data_train)\n",
    "    \n",
    "    with open(p, \"wb\") as f:\n",
    "        pickle.dump(data_train, f, pickle.HIGHEST_PROTOCOL)\n",
    "    \n",
    "#read data from file data compression\n",
    "with open(p,\"rb\") as f:\n",
    "    print(\"uncompress data\")\n",
    "    data = pickle.load(f)"
   ]
  },
  {
   "cell_type": "code",
   "execution_count": null,
   "metadata": {},
   "outputs": [],
   "source": []
  }
 ],
 "metadata": {
  "kernelspec": {
   "display_name": "Python 3",
   "language": "python",
   "name": "python3"
  },
  "language_info": {
   "codemirror_mode": {
    "name": "ipython",
    "version": 3
   },
   "file_extension": ".py",
   "mimetype": "text/x-python",
   "name": "python",
   "nbconvert_exporter": "python",
   "pygments_lexer": "ipython3",
   "version": "3.6.4"
  }
 },
 "nbformat": 4,
 "nbformat_minor": 2
}
