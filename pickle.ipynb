{
 "cells": [
  {
   "cell_type": "code",
   "execution_count": 11,
   "metadata": {
    "collapsed": true
   },
   "outputs": [],
   "source": [
    "import dataset \n",
    "import numpy as np\n",
    "import time\n",
    "from pathlib import Path"
   ]
  },
  {
   "cell_type": "code",
   "execution_count": 31,
   "metadata": {},
   "outputs": [
    {
     "name": "stdout",
     "output_type": "stream",
     "text": [
      "['.git', '.ipynb_checkpoints', 'a.png', 'codePhu', 'data.ipynb', 'dataset.ipynb', 'dataset.py', 'DocFileETxx.ipynb', 'file_image.png', 'gpu', 'graph', 'model', 'predict.png', 'super.file', 'Test2.ipynb', 'TestKatakana.ipynb', 'time_train.txt', 'train.ipynb', 'Untitled.ipynb', 'Untitled1.ipynb', 'zipfile.ipynb', '__pycache__']\n"
     ]
    }
   ],
   "source": [
    "p = Path.cwd()\n",
    "files=[]\n",
    "for file in p.iterdir():\n",
    "    x=file.parts[-1]\n",
    "    files.append(x)\n",
    "print(files)\n",
    "if \"super.file\" not in files:\n",
    "    print(\"x\")"
   ]
  },
  {
   "cell_type": "code",
   "execution_count": 21,
   "metadata": {},
   "outputs": [
    {
     "name": "stdout",
     "output_type": "stream",
     "text": [
      "['a_k', 'e_k', 'i_k', 'o_k', 'u_k']\n",
      "5\n",
      "(43, 64, 64, 3)\n",
      "(6, 64, 64, 3)\n",
      "(12, 64, 64, 3)\n",
      "<class 'numpy.ndarray'>\n",
      "<class 'numpy.ndarray'>\n"
     ]
    }
   ],
   "source": [
    "train_path2 =r\"D:\\DatasetJapanese\\data_katagana\\katakana_test\"\n",
    "img_size = 64\n",
    "num_input_channels = 3\n",
    "classes = dataset.get_labels(train_path2)\n",
    "\n",
    "print(classes)\n",
    "\n",
    "num_classes = len(classes)\n",
    "print(num_classes)\n",
    "\n",
    "validation_size = 0.1\n",
    "test_size = 0.2\n",
    "data=dataset.read_train_sets(train_path=train_path2,image_size=img_size,test_size=test_size,validation_size=validation_size)\n",
    "print(data.train.images.shape)\n",
    "print(data.valid.images.shape)\n",
    "print(data.test.images.shape)\n",
    "print(type(data.train.cls))\n",
    "\n",
    "class ZipData(object):\n",
    "    def __init__(self,data):\n",
    "        self.train = data.train\n",
    "        self.valid = data.valid\n",
    "        self.test = data.test\n",
    "\n",
    "x = ZipData(data)\n",
    "print(type(x.test.cls))\n",
    "        "
   ]
  },
  {
   "cell_type": "code",
   "execution_count": 23,
   "metadata": {
    "scrolled": false
   },
   "outputs": [
    {
     "name": "stdout",
     "output_type": "stream",
     "text": [
      "start file\n"
     ]
    },
    {
     "data": {
      "text/plain": [
       "array(['u_k', 'i_k', 'u_k', 'o_k', 'u_k', 'o_k', 'a_k', 'a_k', 'i_k',\n",
       "       'a_k', 'i_k', 'u_k'],\n",
       "      dtype='<U3')"
      ]
     },
     "execution_count": 23,
     "metadata": {},
     "output_type": "execute_result"
    }
   ],
   "source": [
    "import pickle\n",
    "# print(vars(data.valid))\n",
    "# with open(\"super.file\", \"wb\") as f:\n",
    "#     pickle.dump(x, f, pickle.HIGHEST_PROTOCOL)\n",
    "# print(\"done nen file\")\n",
    "print(\"start file\")\n",
    "with open(\".\\super.file\", \"rb\") as f:\n",
    "    mydata = pickle.load(f)\n",
    "    # Now you can use the dump object as the original one \n",
    "\n",
    "\n",
    "mydata.test.cls"
   ]
  },
  {
   "cell_type": "code",
   "execution_count": 26,
   "metadata": {
    "collapsed": true
   },
   "outputs": [],
   "source": [
    "b= open(\".\\super.file\", \"rb\")\n",
    "a= pickle.load(b)"
   ]
  },
  {
   "cell_type": "code",
   "execution_count": null,
   "metadata": {
    "collapsed": true
   },
   "outputs": [],
   "source": [
    "a."
   ]
  },
  {
   "cell_type": "code",
   "execution_count": null,
   "metadata": {
    "collapsed": true
   },
   "outputs": [],
   "source": []
  }
 ],
 "metadata": {
  "kernelspec": {
   "display_name": "Python 3",
   "language": "python",
   "name": "python3"
  },
  "language_info": {
   "codemirror_mode": {
    "name": "ipython",
    "version": 3
   },
   "file_extension": ".py",
   "mimetype": "text/x-python",
   "name": "python",
   "nbconvert_exporter": "python",
   "pygments_lexer": "ipython3",
   "version": "3.6.2"
  }
 },
 "nbformat": 4,
 "nbformat_minor": 2
}
