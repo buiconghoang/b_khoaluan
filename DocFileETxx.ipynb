{
 "cells": [
  {
   "cell_type": "code",
   "execution_count": 3,
   "metadata": {},
   "outputs": [
    {
     "ename": "ModuleNotFoundError",
     "evalue": "No module named 'serial'",
     "output_type": "error",
     "traceback": [
      "\u001b[1;31m---------------------------------------------------------------------------\u001b[0m",
      "\u001b[1;31mModuleNotFoundError\u001b[0m                       Traceback (most recent call last)",
      "\u001b[1;32m<ipython-input-3-2833783109a3>\u001b[0m in \u001b[0;36m<module>\u001b[1;34m()\u001b[0m\n\u001b[0;32m      1\u001b[0m \u001b[1;32mimport\u001b[0m \u001b[0mstruct\u001b[0m\u001b[1;33m\u001b[0m\u001b[0m\n\u001b[0;32m      2\u001b[0m \u001b[1;32mfrom\u001b[0m \u001b[0mPIL\u001b[0m \u001b[1;32mimport\u001b[0m \u001b[0mImage\u001b[0m\u001b[1;33m,\u001b[0m \u001b[0mImageEnhance\u001b[0m\u001b[1;33m\u001b[0m\u001b[0m\n\u001b[1;32m----> 3\u001b[1;33m \u001b[1;32mimport\u001b[0m \u001b[0mserial\u001b[0m\u001b[1;33m\u001b[0m\u001b[0m\n\u001b[0m",
      "\u001b[1;31mModuleNotFoundError\u001b[0m: No module named 'serial'"
     ]
    }
   ],
   "source": [
    "import struct\n",
    "from PIL import Image, ImageEnhance\n",
    "import serial"
   ]
  },
  {
   "cell_type": "code",
   "execution_count": 13,
   "metadata": {},
   "outputs": [
    {
     "ename": "ModuleNotFoundError",
     "evalue": "No module named 'bitstring'",
     "output_type": "error",
     "traceback": [
      "\u001b[1;31m---------------------------------------------------------------------------\u001b[0m",
      "\u001b[1;31mModuleNotFoundError\u001b[0m                       Traceback (most recent call last)",
      "\u001b[1;32m<ipython-input-13-f1e4abc73719>\u001b[0m in \u001b[0;36m<module>\u001b[1;34m()\u001b[0m\n\u001b[0;32m      1\u001b[0m \u001b[1;31m#ETL-4\u001b[0m\u001b[1;33m\u001b[0m\u001b[1;33m\u001b[0m\u001b[0m\n\u001b[1;32m----> 2\u001b[1;33m \u001b[1;32mimport\u001b[0m \u001b[0mbitstring\u001b[0m\u001b[1;33m\u001b[0m\u001b[0m\n\u001b[0m\u001b[0;32m      3\u001b[0m \u001b[1;33m\u001b[0m\u001b[0m\n\u001b[0;32m      4\u001b[0m \u001b[1;33m\u001b[0m\u001b[0m\n\u001b[0;32m      5\u001b[0m \u001b[1;32mdef\u001b[0m \u001b[0mread_record_ETL4\u001b[0m\u001b[1;33m(\u001b[0m\u001b[0mf\u001b[0m\u001b[1;33m,\u001b[0m \u001b[0mpos\u001b[0m\u001b[1;33m=\u001b[0m\u001b[1;36m0\u001b[0m\u001b[1;33m)\u001b[0m\u001b[1;33m:\u001b[0m\u001b[1;33m\u001b[0m\u001b[0m\n",
      "\u001b[1;31mModuleNotFoundError\u001b[0m: No module named 'bitstring'"
     ]
    }
   ],
   "source": [
    "#ETL-4\n",
    "\n",
    "\n",
    "\n",
    "def reaseriald_record_ETL4(f, pos=0):\n",
    "    f= bitstring.ConstBitStream(filename=f)\n",
    "    f.bytepos = pos * 2952\n",
    "    r = f.readlist('2*uint:36,uint:8,pad:28,uint:8,pad:28,4*uint:6,pad:12,15*uint:36,pad:1008,bytes:21888')\n",
    "    return r\n",
    "\n",
    "from PIL import Image, ImageEnhance\n",
    "from PIL import ImageOps, ImageMath\n",
    "from matplotlib import pyplot as plt\n",
    "\n",
    "filename = r'D:\\dataset\\ETL4\\ETL4\\ETL4C' # specify the ETL4 filename here\n",
    "r = read_record_ETL4(filename)\n",
    "\n",
    "iF = Image.frombytes('F', (r[18], r[19]), r[-1], 'bit', 4)\n",
    "iP = iF.convert('P')\n",
    "enhancer = ImageEnhance.Brightness(iP)\n",
    "iE = enhancer.enhance(r[20])\n",
    "plt.imshow(iE)\n",
    "fn = \"{:1d}{:4d}{:2x}.png\".format(r[0], r[2], r[3])\n",
    "iE.save(fn, 'PNG')"
   ]
  },
  {
   "cell_type": "code",
   "execution_count": 3,
   "metadata": {
    "collapsed": true
   },
   "outputs": [],
   "source": [
    "##ET01"
   ]
  },
  {
   "cell_type": "code",
   "execution_count": 1,
   "metadata": {},
   "outputs": [
    {
     "ename": "AttributeError",
     "evalue": "module 'struct' has no attribute 'read'",
     "output_type": "error",
     "traceback": [
      "\u001b[1;31m---------------------------------------------------------------------------\u001b[0m",
      "\u001b[1;31mAttributeError\u001b[0m                            Traceback (most recent call last)",
      "\u001b[1;32m<ipython-input-1-936546dd52ad>\u001b[0m in \u001b[0;36m<module>\u001b[1;34m()\u001b[0m\n\u001b[0;32m      8\u001b[0m     \u001b[0mf\u001b[0m\u001b[1;33m.\u001b[0m\u001b[0mseek\u001b[0m\u001b[1;33m(\u001b[0m\u001b[0mskip\u001b[0m \u001b[1;33m*\u001b[0m \u001b[1;36m2952\u001b[0m\u001b[1;33m)\u001b[0m\u001b[1;33m\u001b[0m\u001b[0m\n\u001b[0;32m      9\u001b[0m     \u001b[0ms\u001b[0m \u001b[1;33m=\u001b[0m \u001b[0mf\u001b[0m\u001b[1;33m.\u001b[0m\u001b[0mread\u001b[0m\u001b[1;33m(\u001b[0m\u001b[1;36m2952\u001b[0m\u001b[1;33m)\u001b[0m\u001b[1;33m\u001b[0m\u001b[0m\n\u001b[1;32m---> 10\u001b[1;33m     \u001b[0mr\u001b[0m \u001b[1;33m=\u001b[0m \u001b[0mstruct\u001b[0m\u001b[1;33m.\u001b[0m\u001b[0mread\u001b[0m\u001b[1;33m(\u001b[0m\u001b[1;34m'>H2sH6BI4H4B4x2016s4x'\u001b[0m\u001b[1;33m,\u001b[0m \u001b[0ms\u001b[0m\u001b[1;33m)\u001b[0m\u001b[1;33m\u001b[0m\u001b[0m\n\u001b[0m\u001b[0;32m     11\u001b[0m     \u001b[0miF\u001b[0m \u001b[1;33m=\u001b[0m \u001b[0mImage\u001b[0m\u001b[1;33m.\u001b[0m\u001b[0mfrombytes\u001b[0m\u001b[1;33m(\u001b[0m\u001b[1;34m'F'\u001b[0m\u001b[1;33m,\u001b[0m \u001b[1;33m(\u001b[0m\u001b[1;36m64\u001b[0m\u001b[1;33m,\u001b[0m \u001b[1;36m63\u001b[0m\u001b[1;33m)\u001b[0m\u001b[1;33m,\u001b[0m \u001b[0mr\u001b[0m\u001b[1;33m[\u001b[0m\u001b[1;36m18\u001b[0m\u001b[1;33m]\u001b[0m\u001b[1;33m,\u001b[0m \u001b[1;34m'bit'\u001b[0m\u001b[1;33m,\u001b[0m \u001b[1;36m4\u001b[0m\u001b[1;33m)\u001b[0m\u001b[1;33m\u001b[0m\u001b[0m\n\u001b[0;32m     12\u001b[0m     \u001b[0miP\u001b[0m \u001b[1;33m=\u001b[0m \u001b[0miF\u001b[0m\u001b[1;33m.\u001b[0m\u001b[0mconvert\u001b[0m\u001b[1;33m(\u001b[0m\u001b[1;34m'P'\u001b[0m\u001b[1;33m)\u001b[0m\u001b[1;33m\u001b[0m\u001b[0m\n",
      "\u001b[1;31mAttributeError\u001b[0m: module 'struct' has no attribute 'read'"
     ]
    }
   ],
   "source": [
    "import struct\n",
    "from PIL import Image, ImageEnhance\n",
    "\n",
    "filename04 = r'D:\\dataset\\ETL4\\ETL4\\ETL4C'\n",
    "filename = 'D:\\dataset\\ETL1\\ETL1\\ETL1C_01'\n",
    "skip = 1\n",
    "with open(filename04, 'rb') as f:\n",
    "    f.seek(skip * 2952)\n",
    "    s = f.read(2952)\n",
    "    r = struct.('>H2sH6BI4H4B4x2016s4x', s)\n",
    "    iF = Image.frombytes('F', (64, 63), r[18], 'bit', 4)\n",
    "    iP = iF.convert('P')\n",
    "    fn = \"{:1d}{:4d}{:2x}.png\".format(r[0], r[2], r[3])\n",
    "#    iP.save(fn, 'PNG', bits=4)\n",
    "    enhancer = ImageEnhance.Brightness(iP)\n",
    "    iE = enhancer.enhance(16)\n",
    "\n",
    "    iE.save(fn, 'PNG')"
   ]
  },
  {
   "cell_type": "code",
   "execution_count": 42,
   "metadata": {},
   "outputs": [
    {
     "name": "stdout",
     "output_type": "stream",
     "text": [
      "(1001, 9250, b'A.HI') 0x2422\n"
     ]
    }
   ],
   "source": [
    "import struct\n",
    "from PIL import Image\n",
    " \n",
    "def read_record_ETL8B2(f):\n",
    "    s = f.read(512)\n",
    "    r = struct.unpack('>2H4s504s', s)\n",
    "    i1 = Image.frombytes('1', (64, 63), r[3], 'raw')\n",
    "    return r + (i1,)\n",
    "\n",
    "\n",
    "filenamefi  = r'D:\\dataset\\ETL8B\\ETL8B2C1'\n",
    "# filename = 'ETL8B/ETL8B2C1'\n",
    "id_record = 100\n",
    "with open(filenamefi, 'rb') as f:\n",
    "    f.seek((id_record + 1) * 512)\n",
    "    r = read_record_ETL8B2(f)\n",
    "print (r[0:3], hex(r[1]))\n",
    "iI = Image.eval(r[-1], lambda x: not x)\n",
    "fn = 'ETL8B2_{:d}_{:d}.png'.format((r[0]-1)%20+1,id_record)\n",
    "iI.save(fn, 'PNG')"
   ]
  },
  {
   "cell_type": "code",
   "execution_count": 36,
   "metadata": {
    "collapsed": true
   },
   "outputs": [],
   "source": [
    "with open(filenamefi, 'rb') as f:\n",
    "    f.seek((id_category * 160 + 1) * 512)\n",
    "    for i in range(160):\n",
    "        r = read_record_ETL8B2(f)\n",
    "        new_img.paste(r[-1], (64, 63))\n",
    "\n",
    "iI = Image.eval(new_img, lambda x: not x)\n",
    "fn = 'ETL8B2_{:03d}.png'.format(id_category)\n",
    "iI.save(fn, 'PNG')\n"
   ]
  },
  {
   "cell_type": "code",
   "execution_count": null,
   "metadata": {
    "collapsed": true
   },
   "outputs": [],
   "source": []
  }
 ],
 "metadata": {
  "kernelspec": {
   "display_name": "Python 3",
   "language": "python",
   "name": "python3"
  },
  "language_info": {
   "codemirror_mode": {
    "name": "ipython",
    "version": 3
   },
   "file_extension": ".py",
   "mimetype": "text/x-python",
   "name": "python",
   "nbconvert_exporter": "python",
   "pygments_lexer": "ipython3",
   "version": "3.6.2"
  }
 },
 "nbformat": 4,
 "nbformat_minor": 2
}
