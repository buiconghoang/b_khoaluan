{
 "cells": [
  {
   "cell_type": "code",
   "execution_count": 3,
   "metadata": {},
   "outputs": [],
   "source": [
    "import dataset \n",
    "import tensorflow as tf\n",
    "import time\n",
    "from datetime import timedelta\n",
    "import math\n",
    "import random\n",
    "import numpy as np\n",
    "import time\n",
    "import pickle\n",
    "from pathlib import Path\n",
    "import math"
   ]
  },
  {
   "cell_type": "code",
   "execution_count": 4,
   "metadata": {},
   "outputs": [
    {
     "name": "stdout",
     "output_type": "stream",
     "text": [
      "1.8.0\n"
     ]
    },
    {
     "data": {
      "text/plain": [
       "<tensorflow.python.framework.ops.Graph at 0x24d19778b38>"
      ]
     },
     "execution_count": 4,
     "metadata": {},
     "output_type": "execute_result"
    }
   ],
   "source": [
    "from  numpy.random import seed\n",
    "seed(1)\n",
    "from tensorflow import set_random_seed\n",
    "set_random_seed(2)\n",
    "print(tf.__version__)\n",
    "tf.get_default_graph()"
   ]
  },
  {
   "cell_type": "markdown",
   "metadata": {},
   "source": [
    "load du lieu"
   ]
  },
  {
   "cell_type": "code",
   "execution_count": 5,
   "metadata": {
    "scrolled": true
   },
   "outputs": [
    {
     "ename": "SyntaxError",
     "evalue": "unexpected EOF while parsing (<ipython-input-5-a30681cd0c38>, line 9)",
     "output_type": "error",
     "traceback": [
      "\u001b[1;36m  File \u001b[1;32m\"<ipython-input-5-a30681cd0c38>\"\u001b[1;36m, line \u001b[1;32m9\u001b[0m\n\u001b[1;33m    print(num_classes//\u001b[0m\n\u001b[1;37m                       ^\u001b[0m\n\u001b[1;31mSyntaxError\u001b[0m\u001b[1;31m:\u001b[0m unexpected EOF while parsing\n"
     ]
    }
   ],
   "source": [
    "# khoi tao gia tri load du lieu\n",
    "\n",
    "train_path= r\"D:\\Hoang\\data_kata_khoaluan\"\n",
    "\n",
    "classes = dataset.get_labels(train_path)\n",
    "\n",
    "print(classes)\n",
    "\n",
    "num_classes = len(classes)\n",
    "print(num_classes)"
   ]
  },
  {
   "cell_type": "code",
   "execution_count": 4,
   "metadata": {
    "scrolled": true
   },
   "outputs": [
    {
     "name": "stdout",
     "output_type": "stream",
     "text": [
      "uncompress data\n"
     ]
    }
   ],
   "source": [
    "#load du lieu \n",
    "        \n",
    "validation_size = 0.1\n",
    "test_size = 0.2\n",
    "img_size = 64\n",
    "num_input_channels = 1\n",
    "\n",
    "class DataCompression(object):\n",
    "    def __init__(self,data):\n",
    "        self.train = data.train\n",
    "        self.valid = data.valid\n",
    "        self.test = data.test\n",
    "\n",
    "p=Path(r\"E:\\train_data.file\")\n",
    " \n",
    "if not p.exists():\n",
    "    print(\"Get and Compress data\")\n",
    "    data_train=dataset.read_train_sets(train_path=train_path,image_size=img_size,test_size=test_size,validation_size=validation_size)\n",
    "    data_train = DataCompression(data_train)\n",
    "    \n",
    "    with open(p, \"wb\") as f:\n",
    "        pickle.dump(data_train, f, pickle.HIGHEST_PROTOCOL)\n",
    "    \n",
    "#read data from file data compression\n",
    "with open(p,\"rb\") as f:\n",
    "    print(\"uncompress data\")\n",
    "    data = pickle.load(f)\n",
    "    \n"
   ]
  },
  {
   "cell_type": "code",
   "execution_count": 5,
   "metadata": {},
   "outputs": [
    {
     "name": "stdout",
     "output_type": "stream",
     "text": [
      "(545144, 64, 64, 1)\n",
      "(77877, 64, 64, 1)\n",
      "(155755, 64, 64, 1)\n"
     ]
    }
   ],
   "source": [
    "print(data.train.images.shape)\n",
    "print(data.valid.images.shape)\n",
    "print(data.test.images.shape)"
   ]
  },
  {
   "cell_type": "raw",
   "metadata": {},
   "source": [
    "#test du lieu\n",
    "import cv2 as cv\n",
    "a=data.valid.images[0]\n",
    "cv.imshow('image',a)\n",
    "cv.waitKey(0)\n",
    "cv.destroyAllWindows()\n",
    "\n",
    "print(data.valid.img_names[0])\n",
    "print(np.shape(data.valid.labels))\n",
    "print(data.valid.labels[0])\n",
    "\n",
    "print(data.valid.cls[0])\n"
   ]
  },
  {
   "cell_type": "markdown",
   "metadata": {
    "collapsed": true
   },
   "source": [
    "# Xây dựng hàm cho CNN"
   ]
  },
  {
   "cell_type": "markdown",
   "metadata": {},
   "source": [
    "Khởi tạo giá trị"
   ]
  },
  {
   "cell_type": "code",
   "execution_count": 6,
   "metadata": {
    "collapsed": true
   },
   "outputs": [],
   "source": [
    "tf.reset_default_graph()\n",
    "\n",
    "with tf.name_scope(\"inputs\"):\n",
    "    x = tf.placeholder(tf.float32, shape=[None, img_size,img_size,num_input_channels], name='x')\n",
    "\n",
    "    # labels\n",
    "    y_true = tf.placeholder(tf.float32, shape=[None, num_classes], name='y_true')\n",
    "\n",
    "    keep_prob=tf.placeholder(tf.float32,name=\"keep_prob\")\n",
    "    \n",
    "    y_true_cls = tf.argmax(y_true, axis=1)"
   ]
  },
  {
   "cell_type": "code",
   "execution_count": 7,
   "metadata": {
    "collapsed": true
   },
   "outputs": [],
   "source": [
    "# cau truc CNN M6-1\n",
    "\n",
    "# filter_size_conv1 = 3 \n",
    "# num_filters_conv1 = 32\n",
    "\n",
    "# filter_size_conv2 = 3\n",
    "# num_filters_conv2 = 32\n",
    "\n",
    "# filter_size_conv3 = 3\n",
    "# num_filters_conv3 = 64\n",
    "\n",
    "# filter_size_conv4 = 3\n",
    "# num_filters_conv4 = 64\n",
    "    \n",
    "# fc_layer_size = 256\n",
    "\n",
    "#cau truc CNN \n",
    "filter_size_conv1 = 3 \n",
    "num_filters_conv1 = 32\n",
    "\n",
    "filter_size_conv2 = 3\n",
    "num_filters_conv2 = 64\n",
    "\n",
    "fc_layer_size = 512"
   ]
  },
  {
   "cell_type": "code",
   "execution_count": 8,
   "metadata": {
    "collapsed": true
   },
   "outputs": [],
   "source": [
    "def create_weights(shape,name):\n",
    "    return tf.Variable(tf.truncated_normal(shape, stddev=0.05),name=name)\n",
    "\n",
    "def create_biases(size,name):\n",
    "    return tf.Variable(tf.constant(0.05, shape=[size]),name=name)"
   ]
  },
  {
   "cell_type": "code",
   "execution_count": 9,
   "metadata": {
    "collapsed": true
   },
   "outputs": [],
   "source": [
    "def create_conv_layer(input,\n",
    "               num_input_channels, # so channels của từng ảnh\n",
    "               filter_size,    # kích thước filter, kenel, \n",
    "               num_filters,  # số lượng đầu ra cho layer sau\n",
    "               use_maxpool=False, #sử dụng max_pooling k?\n",
    "               name = \"conv_x\" ):  \n",
    "    with tf.name_scope(name):\n",
    "        #tao weight và bias cho lop convolutional nay/\n",
    "#         print(\"input {}: {}\".format(name,input))\n",
    "\n",
    "        name_weights = name+\"_weights\"\n",
    "        with tf.name_scope(\"weights\"):\n",
    "            weights = create_weights(shape=[filter_size, filter_size, num_input_channels, num_filters],name=name_weights)\n",
    "#         print(\"weights {}: {}\".format(name,weights))\n",
    "\n",
    "        name_biases = name+\"_biases\"\n",
    "        with tf.name_scope(\"biases\"):\n",
    "            biases = create_biases(num_filters,name=name_biases)\n",
    "        ## xay dung convolution layer, layer trả về có dimension nhu input\n",
    "#         with tf.device('/gpu:0'):\n",
    "        layer = tf.nn.conv2d(input=input,\n",
    "                         filter=weights,\n",
    "                         strides=[1, 1, 1, 1],\n",
    "                         padding='SAME')\n",
    "#         print(\"layer {}: {}\".format(name,layer))\n",
    "\n",
    "        layer += biases\n",
    "        layer = tf.nn.relu(layer)\n",
    "\n",
    "        if use_maxpool:\n",
    "            layer = tf.nn.max_pool(value=layer,\n",
    "                                    ksize=[1, 2, 2, 1],\n",
    "                                    strides=[1, 2, 2, 1],\n",
    "                                    padding='SAME')\n",
    "\n",
    "\n",
    "#         store in histogram\n",
    "        tf.summary.histogram(\"weights\",weights)\n",
    "        tf.summary.histogram(\"biases\",biases)\n",
    "        tf.summary.histogram(\"layer\",layer)\n",
    "        \n",
    "        \n",
    "        layer = tf.identity(layer,name=name)\n",
    "        return layer\n",
    "\n",
    "def create_flatten_layer(layer,use_dropout, name=\"flatten\"):\n",
    "    with tf.name_scope(name):\n",
    "        # chuyen mỗi ảnh thanh mot vector, moi anh sẽ có kích thước phẳng là: img_size * img_size *num_channels\n",
    "\n",
    "        #dimension layer: batch_size,img_size,img_size,num_channels \n",
    "\n",
    "        #lấy số lượng data\n",
    "        layer_shape = layer.get_shape()\n",
    "\n",
    "        # số lượng feature mỗi ảnh = img_size * img_size *num_channels\n",
    "        num_features = layer_shape[1:4].num_elements()\n",
    "\n",
    "        # reshape lại data ví dụ (10,2,2,5) // có 10 ảnh và mỗi ảnh có 2*2*5=20 feature => flat_layer: (10,20) \n",
    "        layer = tf.reshape(layer, [-1, num_features])\n",
    "#         print(\"layer {}: {}\".format(name,layer))\n",
    "        layer = tf.identity(layer,name=name) # set name for layer\n",
    "        if use_dropout:\n",
    "             layer=tf.nn.dropout(layer,keep_prob);\n",
    "        return layer\n",
    "\n",
    "def create_fc_layer(input,          \n",
    "             num_inputs,    \n",
    "             num_outputs,\n",
    "             use_relu=False, \n",
    "             use_dropout=False,\n",
    "             name = \"fc\"):\n",
    "    \n",
    "    with tf.name_scope(name):\n",
    "        name_weights = name+\"_weights\"\n",
    "        name_biases = name+\"_biases\"\n",
    "        with tf.name_scope(\"weights\"):\n",
    "            weights = create_weights(shape=[num_inputs, num_outputs],name=name_weights)\n",
    "        with tf.name_scope(\"biases\"):\n",
    "            biases = create_biases(num_outputs,name=name_biases)\n",
    "    \n",
    "#         with tf.device('/gpu:0'):\n",
    "        layer = tf.matmul(input, weights) + biases\n",
    "\n",
    "        if use_relu:\n",
    "            layer = tf.nn.relu(layer)\n",
    "        if use_dropout:\n",
    "             layer=tf.nn.dropout(layer,keep_prob);\n",
    "#         print(\"layer {}: {}\".format(name,layer))\n",
    "\n",
    "        tf.summary.histogram(\"weights\",weights)\n",
    "        tf.summary.histogram(\"biases\",biases)\n",
    "        tf.summary.histogram(\"layer\",layer)\n",
    "        \n",
    "        layer = tf.identity(layer,name=name)\n",
    "        return layer"
   ]
  },
  {
   "cell_type": "markdown",
   "metadata": {},
   "source": [
    "# Xây dựng cấu trúc CNN\n",
    "conv3-32 -> conv3-32 ->maxpool -> conv3-64 -> conv3-64 -> maxpool ->fc-256 dropout->fc10"
   ]
  },
  {
   "cell_type": "code",
   "execution_count": 10,
   "metadata": {
    "collapsed": true
   },
   "outputs": [],
   "source": [
    "# conv1 =  create_conv_layer(input=x,num_input_channels=num_input_channels,\n",
    "#                            filter_size=filter_size_conv1,num_filters=num_filters_conv1,use_maxpool=False, name=\"conv1\")\n",
    "\n",
    "# conv2 = create_conv_layer(input=conv1,num_input_channels=num_filters_conv1,\n",
    "#                           filter_size=filter_size_conv2,num_filters=num_filters_conv2,use_maxpool=True, name=\"conv2\")\n",
    "\n",
    "# conv3 = create_conv_layer(input=conv2,num_input_channels=num_filters_conv2,\n",
    "#                           filter_size=filter_size_conv3,num_filters=num_filters_conv3,use_maxpool=False, name=\"conv3\")\n",
    "\n",
    "# conv4 = create_conv_layer(input=conv3,num_input_channels=num_filters_conv3,\n",
    "#                           filter_size=filter_size_conv4,num_filters=num_filters_conv4,use_maxpool=True, name=\"conv4\")\n",
    "\n",
    "# layer_flat = create_flatten_layer(conv4, use_dropout=True)\n",
    "\n",
    "# num_feature = layer_flat.get_shape()[1:2].num_elements()\n",
    "\n",
    "# fc1 = create_fc_layer(input=layer_flat,num_inputs=num_feature,num_outputs=fc_layer_size,use_relu=True,use_dropout=True,name=\"fc1\")\n",
    "\n",
    "\n",
    "# fc2 = create_fc_layer(input=fc1,num_inputs=fc_layer_size,num_outputs=num_classes,use_relu=False,use_dropout=False,name=\"fc2\")\n",
    "\n"
   ]
  },
  {
   "cell_type": "code",
   "execution_count": 11,
   "metadata": {
    "collapsed": true
   },
   "outputs": [],
   "source": [
    "## My model conv3-32 ->maxpool -> conv3-64->maxpool -> flatten dropout-> fc512 dropout  ->fc10\n",
    "\n",
    "conv1 =  create_conv_layer(input=x,num_input_channels=num_input_channels,\n",
    "                           filter_size=filter_size_conv1,num_filters=num_filters_conv1,use_maxpool=True, name=\"conv1\")\n",
    "\n",
    "conv2 = create_conv_layer(input=conv1,num_input_channels=num_filters_conv1,\n",
    "                          filter_size=filter_size_conv2,num_filters=num_filters_conv2,use_maxpool=True, name=\"conv2\")\n",
    "\n",
    "layer_flat = create_flatten_layer(conv2, use_dropout=True)\n",
    "\n",
    "num_feature = layer_flat.get_shape()[1:2].num_elements()\n",
    "fc1 = create_fc_layer(input=layer_flat,num_inputs=num_feature,num_outputs=fc_layer_size,use_relu=True,use_dropout=True,name=\"fc1\")\n",
    "\n",
    "\n",
    "fc2 = create_fc_layer(input=fc1,num_inputs=fc_layer_size,num_outputs=num_classes,use_relu=False,use_dropout=False,name=\"fc2\")\n",
    "\n"
   ]
  },
  {
   "cell_type": "markdown",
   "metadata": {
    "collapsed": true
   },
   "source": [
    "predict"
   ]
  },
  {
   "cell_type": "code",
   "execution_count": 12,
   "metadata": {
    "collapsed": true
   },
   "outputs": [],
   "source": [
    "with tf.name_scope(\"Train\"):\n",
    "#     with tf.device('/gpu:0'):\n",
    "    cross_entropy = tf.nn.softmax_cross_entropy_with_logits_v2(logits=fc2,\n",
    "                                                        labels=y_true)\n",
    "    with tf.name_scope(\"loss\"):\n",
    "        loss = tf.reduce_mean(cross_entropy)\n",
    "        tf.summary.scalar(\"loss\",loss)\n",
    "    with tf.name_scope(\"train\"):\n",
    "        train_step = tf.train.AdamOptimizer(learning_rate=1e-4).minimize(loss)\n",
    "\n",
    "\n",
    "with tf.name_scope(\"Test\"):\n",
    "    y_pred = tf.nn.softmax(fc2,name='y_pred')\n",
    "    y_pred_cls = tf.argmax(y_pred, axis=1)\n",
    "    correct_prediction = tf.equal(y_pred_cls, y_true_cls)\n",
    "    accuracy = tf.reduce_mean(tf.cast(correct_prediction, tf.float32), name=\"accuracy\")\n",
    "    \n",
    "    tf.summary.scalar(\"accuracy\",accuracy)\n",
    "\n"
   ]
  },
  {
   "cell_type": "code",
   "execution_count": 13,
   "metadata": {
    "collapsed": true
   },
   "outputs": [],
   "source": [
    "my_config =tf.ConfigProto(allow_soft_placement=True,log_device_placement=True)\n",
    "my_config.gpu_options.allow_growth = True\n",
    "session = tf.Session(config=my_config)\n",
    "\n",
    "session.run(tf.global_variables_initializer())\n",
    "\n",
    "saver = tf.train.Saver()\n",
    "\n",
    "merged =tf.summary.merge_all();\n",
    "train_writer= tf.summary.FileWriter(r\"..\\a_model_khoa_luan\\graph\\train\",session.graph)\n",
    "valid_writer=tf.summary.FileWriter(r\"..\\a_model_khoa_luan\\graph\\valid\",session.graph)"
   ]
  },
  {
   "cell_type": "code",
   "execution_count": 14,
   "metadata": {
    "collapsed": true,
    "scrolled": false
   },
   "outputs": [],
   "source": [
    "def train(num_epochs, batch_size):\n",
    "    num_iteration = int(data.train.images.shape[0]/batch_size)\n",
    "\n",
    "    print_loss_iteration = int(num_iteration /5);\n",
    "    total_iterations =0\n",
    "    for epoch in range(num_epochs):\n",
    "        for i in range(num_iteration):\n",
    "\n",
    "            x_batch, y_true_batch, _, cls_batch = data.train.next_batch(batch_size)\n",
    "    #         print(y_true_batch.shape)\n",
    "            feed_dict_train = {x: x_batch, y_true: y_true_batch, keep_prob: 0.5}    \n",
    "\n",
    "            session.run(train_step, feed_dict=feed_dict_train )\n",
    "            \n",
    "            if (i % print_loss_iteration == 0 or i==num_iteration-1) and i>0: \n",
    "                x_valid_batch, y_valid_batch, iname_valid_batch,cls_valid_batch = data.train.next_batch(500)\n",
    "                \n",
    "                feed_dict_valid = {x: x_valid_batch, y_true: y_valid_batch, keep_prob:1}\n",
    "                feed_dict_train = {x: x_batch, y_true: y_true_batch, keep_prob: 1}\n",
    "\n",
    "                valid_loss,valid_accuracy = session.run([loss,accuracy], feed_dict=feed_dict_valid)\n",
    " \n",
    "                train_loss,train_accuracy = session.run([loss,accuracy], feed_dict=feed_dict_train)\n",
    "                \n",
    "                total_iterations=total_iterations+print_loss_iteration\n",
    "\n",
    "                \n",
    "                print(f\"epoch: {epoch} -- iteration: {total_iterations} -- train_loss: {train_loss:.2f} -- train_acc {train_accuracy:.2%} --valid_loss:{valid_loss:.2f} -- valid_acc {valid_accuracy:.2%} -- time: {time.ctime()}\")\n",
    "#                 if i==num_iteration-1:\n",
    "#                     print(f\"save graph -- epoch: {epoch}-- iteration: {i}\")\n",
    "                train_merged=session.run(merged, feed_dict=feed_dict_train)\n",
    "                valid_merged = session.run(merged, feed_dict=feed_dict_valid)\n",
    "                train_writer.add_summary(train_merged,total_iterations)\n",
    "                valid_writer.add_summary(valid_merged,total_iterations)\n",
    "            \n",
    "            \n",
    "        save_path=saver.save(session, r'..\\a_model_khoa_luan\\model\\modelTest.ckpt',global_step=epoch)\n",
    "\n",
    "def accuracy_test():\n",
    "    \n",
    "    num_interations = int(data.test.images.shape[0]/500)\n",
    "    \n",
    "    for iteration in range(num_interations):\n",
    "        x_batch_test, y_true_batch_test, _, cls_batch_test = data.test.next_batch(500)\n",
    "        feed_dict_test = {x:x_batch,y_true:y_batch,keep_prob:1.0}\n",
    "        acc=session.run(accuracy,feed_dict =feed_dict_test)\n",
    "        print(f\"iter: {iteration} -- accuracy test : {acc}\")"
   ]
  },
  {
   "cell_type": "code",
   "execution_count": 15,
   "metadata": {},
   "outputs": [
    {
     "name": "stdout",
     "output_type": "stream",
     "text": [
      "start time: Sun Jun 10 07:26:30 2018\n",
      "epoch: 0 -- iteration: 1090 -- train_loss: 1.71 -- train_acc 62.00% --valid_loss:1.84 -- valid_acc 54.40% -- time: Sun Jun 10 07:27:35 2018\n",
      "epoch: 0 -- iteration: 2180 -- train_loss: 0.71 -- train_acc 81.00% --valid_loss:0.78 -- valid_acc 79.80% -- time: Sun Jun 10 07:28:36 2018\n",
      "epoch: 0 -- iteration: 3270 -- train_loss: 0.30 -- train_acc 96.00% --valid_loss:0.51 -- valid_acc 87.80% -- time: Sun Jun 10 07:29:37 2018\n",
      "epoch: 0 -- iteration: 4360 -- train_loss: 0.31 -- train_acc 93.00% --valid_loss:0.37 -- valid_acc 90.00% -- time: Sun Jun 10 07:30:37 2018\n",
      "epoch: 0 -- iteration: 5450 -- train_loss: 0.21 -- train_acc 95.00% --valid_loss:0.23 -- valid_acc 94.20% -- time: Sun Jun 10 07:31:44 2018\n",
      "epoch: 1 -- iteration: 6540 -- train_loss: 0.30 -- train_acc 95.00% --valid_loss:0.23 -- valid_acc 94.20% -- time: Sun Jun 10 07:32:46 2018\n",
      "epoch: 1 -- iteration: 7630 -- train_loss: 0.20 -- train_acc 94.00% --valid_loss:0.21 -- valid_acc 95.80% -- time: Sun Jun 10 07:33:47 2018\n",
      "epoch: 1 -- iteration: 8720 -- train_loss: 0.12 -- train_acc 99.00% --valid_loss:0.17 -- valid_acc 97.20% -- time: Sun Jun 10 07:34:48 2018\n",
      "epoch: 1 -- iteration: 9810 -- train_loss: 0.16 -- train_acc 98.00% --valid_loss:0.15 -- valid_acc 97.00% -- time: Sun Jun 10 07:35:49 2018\n",
      "epoch: 1 -- iteration: 10900 -- train_loss: 0.07 -- train_acc 97.00% --valid_loss:0.12 -- valid_acc 96.80% -- time: Sun Jun 10 07:36:55 2018\n",
      "epoch: 2 -- iteration: 11990 -- train_loss: 0.10 -- train_acc 98.00% --valid_loss:0.14 -- valid_acc 98.00% -- time: Sun Jun 10 07:37:56 2018\n",
      "epoch: 2 -- iteration: 13080 -- train_loss: 0.07 -- train_acc 97.00% --valid_loss:0.08 -- valid_acc 98.60% -- time: Sun Jun 10 07:38:57 2018\n",
      "epoch: 2 -- iteration: 14170 -- train_loss: 0.10 -- train_acc 99.00% --valid_loss:0.08 -- valid_acc 98.20% -- time: Sun Jun 10 07:39:58 2018\n",
      "epoch: 2 -- iteration: 15260 -- train_loss: 0.17 -- train_acc 98.00% --valid_loss:0.05 -- valid_acc 98.80% -- time: Sun Jun 10 07:40:59 2018\n",
      "epoch: 2 -- iteration: 16350 -- train_loss: 0.01 -- train_acc 100.00% --valid_loss:0.09 -- valid_acc 98.80% -- time: Sun Jun 10 07:42:05 2018\n",
      "end time: Sun Jun 10 07:26:30 2018\n",
      "run time: 15.613747310638427 m \n"
     ]
    }
   ],
   "source": [
    "start_time = time.time()\n",
    "print(f\"start time: {time.ctime(start_time)}\")\n",
    "train(num_epochs=3, batch_size =100)\n",
    "end_time= time.time()\n",
    "print(f\"end time: {time.ctime(start_time)}\")\n",
    "run_time =(end_time-start_time)/60\n",
    "print(f\"run time: {run_time} m \")"
   ]
  },
  {
   "cell_type": "code",
   "execution_count": 17,
   "metadata": {},
   "outputs": [
    {
     "ename": "TypeError",
     "evalue": "only size-1 arrays can be converted to Python scalars",
     "output_type": "error",
     "traceback": [
      "\u001b[1;31m---------------------------------------------------------------------------\u001b[0m",
      "\u001b[1;31mTypeError\u001b[0m                                 Traceback (most recent call last)",
      "\u001b[1;32m<ipython-input-17-ad69ac0e79e4>\u001b[0m in \u001b[0;36m<module>\u001b[1;34m()\u001b[0m\n\u001b[1;32m----> 1\u001b[1;33m \u001b[0maccuracy_test\u001b[0m\u001b[1;33m(\u001b[0m\u001b[1;33m)\u001b[0m\u001b[1;33m\u001b[0m\u001b[0m\n\u001b[0m",
      "\u001b[1;32m<ipython-input-14-3fd416dc9747>\u001b[0m in \u001b[0;36maccuracy_test\u001b[1;34m()\u001b[0m\n\u001b[0;32m     39\u001b[0m \u001b[1;32mdef\u001b[0m \u001b[0maccuracy_test\u001b[0m\u001b[1;33m(\u001b[0m\u001b[1;33m)\u001b[0m\u001b[1;33m:\u001b[0m\u001b[1;33m\u001b[0m\u001b[0m\n\u001b[0;32m     40\u001b[0m \u001b[1;33m\u001b[0m\u001b[0m\n\u001b[1;32m---> 41\u001b[1;33m     \u001b[0mnum_interations\u001b[0m \u001b[1;33m=\u001b[0m \u001b[0mint\u001b[0m\u001b[1;33m(\u001b[0m\u001b[0mdata\u001b[0m\u001b[1;33m.\u001b[0m\u001b[0mtest\u001b[0m\u001b[1;33m.\u001b[0m\u001b[0mimages\u001b[0m\u001b[1;33m[\u001b[0m\u001b[1;36m0\u001b[0m\u001b[1;33m]\u001b[0m\u001b[1;33m/\u001b[0m\u001b[1;36m500\u001b[0m\u001b[1;33m)\u001b[0m\u001b[1;33m\u001b[0m\u001b[0m\n\u001b[0m\u001b[0;32m     42\u001b[0m \u001b[1;33m\u001b[0m\u001b[0m\n\u001b[0;32m     43\u001b[0m     \u001b[1;32mfor\u001b[0m \u001b[0miteration\u001b[0m \u001b[1;32min\u001b[0m \u001b[0mrange\u001b[0m\u001b[1;33m(\u001b[0m\u001b[0mnum_interations\u001b[0m\u001b[1;33m)\u001b[0m\u001b[1;33m:\u001b[0m\u001b[1;33m\u001b[0m\u001b[0m\n",
      "\u001b[1;31mTypeError\u001b[0m: only size-1 arrays can be converted to Python scalars"
     ]
    }
   ],
   "source": [
    "accuracy_test()"
   ]
  },
  {
   "cell_type": "code",
   "execution_count": null,
   "metadata": {
    "collapsed": true
   },
   "outputs": [],
   "source": [
    "80*64*64/100"
   ]
  },
  {
   "cell_type": "code",
   "execution_count": null,
   "metadata": {
    "collapsed": true
   },
   "outputs": [],
   "source": []
  }
 ],
 "metadata": {
  "kernelspec": {
   "display_name": "Python 3",
   "language": "python",
   "name": "python3"
  },
  "language_info": {
   "codemirror_mode": {
    "name": "ipython",
    "version": 3
   },
   "file_extension": ".py",
   "mimetype": "text/x-python",
   "name": "python",
   "nbconvert_exporter": "python",
   "pygments_lexer": "ipython3",
   "version": "3.6.2"
  }
 },
 "nbformat": 4,
 "nbformat_minor": 2
}
