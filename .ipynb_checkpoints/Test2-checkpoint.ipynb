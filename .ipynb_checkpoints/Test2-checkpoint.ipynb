{
 "cells": [
  {
   "cell_type": "code",
   "execution_count": 1,
   "metadata": {
    "collapsed": true,
    "scrolled": true
   },
   "outputs": [],
   "source": [
    "# coding: utf-8\n",
    "\n",
    "# In[20]:\n",
    "import tensorflow as tf\n",
    "\n",
    "from pathlib import Path\n",
    "import os\n",
    "import numpy as np\n",
    "import cv2\n",
    "from matplotlib import pyplot as plt\n",
    "from pathlib import Path\n",
    "import math\n",
    "\n",
    "np.set_printoptions(threshold=np.nan)\n",
    "\n",
    "path_model = \"./model\"\n",
    "\n",
    "\n",
    "# file_image=r\"D:\\DatasetJapanese\\data_katagana\\katakana_test\\a_k\\01400.png\"\n",
    "\n",
    "def convert_image_to_input(file_image):\n",
    "    img_size = 64\n",
    "    num_channels = 3\n",
    "    file_image = str(file_image)\n",
    "    images = []\n",
    "    img = cv2.imread(file_image, 0)\n",
    "    cv2.imwrite(file_image, img)\n",
    "\n",
    "    img = cv2.imread(file_image)\n",
    "    img = cv2.resize(img, (img_size, img_size))\n",
    "    img = img.astype(np.float32)\n",
    "    img = np.multiply(img, 1.0 / 255.0)\n",
    "\n",
    "    images.append(img)\n",
    "\n",
    "    images = np.array(images)\n",
    "    #     print(images.shape)\n",
    "\n",
    "    x_batch = images.reshape(-1, img_size, img_size, num_channels)\n",
    "    # print(x_batch.shape)\n",
    "\n",
    "    return x_batch\n",
    "\n",
    "\n",
    "# In[22]:\n",
    "\n",
    "class Test(object):\n",
    "    def __init__(self):\n",
    "        self.sess = tf.Session()\n",
    "        path_model_last = tf.train.latest_checkpoint(\".\\model\")\n",
    "        saver = tf.train.import_meta_graph(path_model_last +\".meta\", clear_devices=True)\n",
    "#         print(\"init__: \",path_model)\n",
    "#         p = Path(path_model)\n",
    "#         print(p.absolute())\n",
    "        saver.restore(self.sess, path_model_last)\n",
    "\n",
    "        self.graph = tf.get_default_graph()\n",
    "        self.x = self.graph.get_tensor_by_name(\"inputs/x:0\")\n",
    "    \n",
    "    \n",
    "    def listOfTensor(self):\n",
    "        for tensor in self.graph.as_graph_def().node:\n",
    "            print(tensor.name)\n",
    "#         for op in self.graph.get_operations():\n",
    "#             print (str(op.name)) \n",
    "\n",
    "    def print_layer(self, path_image):\n",
    "        path_image = str(path_image)\n",
    "        \n",
    "        x_batch = convert_image_to_input(path_image)\n",
    "        layer = self.graph.get_tensor_by_name(\"conv1/conv1:0\")\n",
    "        \n",
    "        layer = self.sess.run(layer,feed_dict={self.x:x_batch})\n",
    "        #prin(layer.shpae) #[?,64,64,channel] ?: amount input\n",
    "        num_filters = layer.shape[3]\n",
    "        \n",
    "        num_grids = math.ceil(math.sqrt(num_filters))\n",
    "        \n",
    "        fig, axes = plt.subplots(num_grids, num_grids)\n",
    "        for i, ax in enumerate(axes.flat):\n",
    "            if i<num_filters:\n",
    "                img = layer[0, :, :, i]\n",
    "\n",
    "                ax.imshow(img, interpolation='nearest', cmap='binary')\n",
    "            ax.set_xticks([])\n",
    "            ax.set_yticks([])\n",
    "    \n",
    "        plt.show()\n",
    "    \n",
    "    def print_weight(self):\n",
    "        w= self.graph.get_tensor_by_name(\"conv1/weights/conv1_weights:0\")\n",
    "        print(w.shape) #(3, 3, 3, 32) width, height, deep, channel\n",
    "        w=self.sess.run(w)\n",
    "        print(w[:,:,0,0])\n",
    "        w_min = np.min(w)\n",
    "        w_max=np.max(w)\n",
    "        num_filters = w.shape[3]\n",
    "        \n",
    "        num_grids = math.ceil(math.sqrt(num_filters)) # lấy trần\n",
    "        \n",
    "        fig, axes = plt.subplots(num_grids, num_grids)\n",
    "        for i, ax in enumerate(axes.flat):\n",
    "            if i<num_filters:\n",
    "                img = w[:, :, 0, i]\n",
    "\n",
    "                ax.imshow(img, vmin=w_min, vmax=w_max,\n",
    "                          interpolation='nearest', cmap='seismic' ) #cmap: seismic, binary\n",
    "            ax.set_xticks([])\n",
    "            ax.set_yticks([])\n",
    "    \n",
    "        plt.show()\n",
    "    def predict(self,file_image):\n",
    "        \n",
    "        y_pred = self.graph.get_tensor_by_name(\"Test/y_pred:0\")\n",
    "\n",
    "        \n",
    "        # y_true = graph.get_tensor_by_name(\"y_true:0\")\n",
    "\n",
    "        x_batch = convert_image_to_input(file_image)\n",
    "        result = self.sess.run(y_pred, feed_dict={self.x: x_batch})\n",
    "        # print(result)\n",
    "        # print(np.argmax(result,1 ))\n",
    "        return result\n",
    "\n"
   ]
  },
  {
   "cell_type": "code",
   "execution_count": 3,
   "metadata": {},
   "outputs": [
    {
     "name": "stdout",
     "output_type": "stream",
     "text": [
      "INFO:tensorflow:Restoring parameters from .\\model\\modelxxx.ckpt-515\n",
      "[66]\n"
     ]
    },
    {
     "data": {
      "image/png": "[encoded data removed]",
      "text/plain": [
       "<matplotlib.figure.Figure at 0x1b5c44d6550>"
      ]
     },
     "metadata": {},
     "output_type": "display_data"
    },
    {
     "name": "stdout",
     "output_type": "stream",
     "text": [
      "(3, 3, 3, 32)\n",
      "[[ 0.05234579  0.15747555  0.10925175]\n",
      " [ 0.05171359  0.11395025  0.12106061]\n",
      " [ 0.00591258  0.09103876  0.08926898]]\n"
     ]
    },
    {
     "data": {
      "image/png": "[encoded data removed]",
      "text/plain": [
       "<matplotlib.figure.Figure at 0x1b5c72cf320>"
      ]
     },
     "metadata": {},
     "output_type": "display_data"
    }
   ],
   "source": [
    "file_image = r\"D:\\DatasetJapanese\\data_katagana\\katakana_test\\a_k\\01400.png\"\n",
    "file_2 = r\".\\a.png\"\n",
    "t=Test()\n",
    "\n",
    "# t.listOfTensor()\n",
    "\n",
    "pred = t.predict(file_2)\n",
    "print(np.argmax(pred,axis=\n",
    "              1))\n",
    "\n",
    "t.print_layer(file_2)\n",
    "t.print_weight()"
   ]
  },
  {
   "cell_type": "code",
   "execution_count": null,
   "metadata": {
    "collapsed": true
   },
   "outputs": [],
   "source": []
  },
  {
   "cell_type": "code",
   "execution_count": 7,
   "metadata": {
    "collapsed": true
   },
   "outputs": [],
   "source": [
    "file_2 = r\".\\a.png\"\n",
    "img=cv2.imread(file_2,0)\n",
    "cv2.imshow(\"image\",img)\n",
    "\n",
    "cv2.waitKey(0)\n",
    "cv2.destroyAllWindows()"
   ]
  },
  {
   "cell_type": "code",
   "execution_count": 8,
   "metadata": {},
   "outputs": [
    {
     "data": {
      "text/plain": [
       "550.0"
      ]
     },
     "execution_count": 8,
     "metadata": {},
     "output_type": "execute_result"
    }
   ],
   "source": [
    "55000/100\n"
   ]
  },
  {
   "cell_type": "code",
   "execution_count": null,
   "metadata": {
    "collapsed": true
   },
   "outputs": [],
   "source": []
  }
 ],
 "metadata": {
  "kernelspec": {
   "display_name": "Python 3",
   "language": "python",
   "name": "python3"
  },
  "language_info": {
   "codemirror_mode": {
    "name": "ipython",
    "version": 3
   },
   "file_extension": ".py",
   "mimetype": "text/x-python",
   "name": "python",
   "nbconvert_exporter": "python",
   "pygments_lexer": "ipython3",
   "version": "3.6.2"
  }
 },
 "nbformat": 4,
 "nbformat_minor": 2
}
