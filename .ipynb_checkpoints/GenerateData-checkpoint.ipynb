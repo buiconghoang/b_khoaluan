{
 "cells": [
  {
   "cell_type": "code",
   "execution_count": 1,
   "metadata": {
    "collapsed": true
   },
   "outputs": [],
   "source": [
    "import numpy as np\n",
    "import cv2\n",
    "from matplotlib import pyplot as plt\n",
    "import tensorflow as tf\n",
    "np.set_printoptions(threshold=np.nan)\n",
    "import random\n",
    "from math import pi\n",
    "import math\n",
    "import imutils\n",
    "\n",
    "IMAGE_SIZE = 64"
   ]
  },
  {
   "cell_type": "code",
   "execution_count": 2,
   "metadata": {
    "collapsed": true
   },
   "outputs": [],
   "source": [
    "# def rotate_images(X_imgs, start_angle=45, end_angle=-45, n_images=2):\n",
    "#     X_rotate = []\n",
    "# #     iterate_at = (end_angle - start_angle) / (n_images - 1)\n",
    "#     tf.reset_default_graph()\n",
    "    \n",
    "#     do = np.random.uniform(end_angle,start_angle,n_images)\n",
    "#     X = tf.placeholder(tf.float32, shape = (None, IMAGE_SIZE, IMAGE_SIZE, 3))\n",
    "#     radian = tf.placeholder(tf.float32, shape = (len(X_imgs)))\n",
    "#     tf_img = tf.contrib.image.rotate(X, radian)\n",
    "    \n",
    "# #     my_config =tf.ConfigProto(allow_soft_placement=True,log_device_placement=True)\n",
    "# #     my_config.gpu_options.allow_growth = True\n",
    "\n",
    "#     with tf.Session() as sess:\n",
    "#         sess.run(tf.global_variables_initializer())\n",
    "#         for index in range(n_images):\n",
    "#             degrees_angle = do[index]\n",
    "#             radian_value = degrees_angle * pi / 180  # Convert to radian\n",
    "#             radian_arr = [radian_value] * len(X_imgs)\n",
    "#             rotated_imgs = sess.run(tf_img, feed_dict = {X: X_imgs, radian: radian_arr})\n",
    "#             X_rotate.extend(rotated_imgs)\n",
    "\n",
    "#     X_rotate = np.array(X_rotate, dtype = np.float32)\n",
    "  \n",
    "#     return X_rotate\n",
    "def rotate_images(images, start_angle=45, end_angle=-45, n_images=2):\n",
    "    X_rotate=[]\n",
    "   \n",
    "    height = images[0].shape[0]\n",
    "    width = images[0].shape[1]\n",
    "    channels = images[0].shape[2]\n",
    "    num_imgs = images.shape[0]\n",
    "   \n",
    "    \n",
    "    angles= np.random.uniform(end_angle,start_angle,n_images)\n",
    "    \n",
    "    for angle in angles:\n",
    "        for i in range(num_imgs):\n",
    "            rotated = imutils.rotate(images[i], angle)\n",
    "            X_rotate.append(rotated)\n",
    "    \n",
    "    X_rotate = np.array(X_rotate, dtype = np.float32)\n",
    "    X_rotate = np.reshape(X_rotate,(n_images*num_imgs,height,width,channels))\n",
    "#     print(f\"shape X_rotate: {X_rotate.shape}\")\n",
    "\n",
    "    return X_rotate\n",
    "\n",
    "\n",
    "def central_scale_images(X_imgs, scales=np.round(np.random.uniform(0.75,1,3),2)):\n",
    "    # Various settings needed for Tensorflow operation\n",
    "    \n",
    "    boxes = np.zeros((len(scales), 4), dtype = np.float32)\n",
    "    for index, scale in enumerate(scales):\n",
    "        x1 = y1 = 0.5 - 0.5 * scale # To scale centrally\n",
    "        x2 = y2 = 0.5 + 0.5 * scale\n",
    "        boxes[index] = np.array([y1, x1, y2, x2], dtype = np.float32)\n",
    "    box_ind = np.zeros((len(scales)), dtype = np.int32)\n",
    "    crop_size = np.array([IMAGE_SIZE, IMAGE_SIZE], dtype = np.int32)\n",
    "    \n",
    "    X_scale_data = []\n",
    "    tf.reset_default_graph()\n",
    "    X = tf.placeholder(tf.float32, shape = (None, IMAGE_SIZE, IMAGE_SIZE,1))\n",
    "    # Define Tensorflow operation for all scales but only one base image at a time\n",
    "    tf_img = tf.image.crop_and_resize(X, boxes, box_ind, crop_size)\n",
    "    \n",
    "    \n",
    "    my_config =tf.ConfigProto(allow_soft_placement=True,log_device_placement=True)\n",
    "    my_config.gpu_options.allow_growth = True\n",
    "    sess = tf.Session(config=my_config)\n",
    "\n",
    "    sess.run(tf.global_variables_initializer())\n",
    "\n",
    "    for img_data in X_imgs:\n",
    "        batch_img = np.expand_dims(img_data, axis = 0)\n",
    "        scaled_imgs = sess.run(tf_img, feed_dict = {X: batch_img})\n",
    "        X_scale_data.extend(scaled_imgs)\n",
    "    \n",
    "    X_scale_data = np.array(X_scale_data, dtype = np.float32)\n",
    "    sess.close()\n",
    "    return X_scale_data\n",
    "def generate_data(X_imgs):\n",
    "    \n",
    "    rotated_imgs = rotate_images(X_imgs)\n",
    " \n",
    "    rotated_imgs= np.concatenate((X_imgs,rotated_imgs),axis=0)\n",
    "    print(f\"rotated_imgs shape: {rotated_imgs.shape}\")\n",
    "    scaled_imgs =central_scale_images(rotated_imgs)\n",
    "    \n",
    "    print(f\"scaled_img shape: {scaled_imgs.shape}\")\n",
    "    result = np.concatenate((rotated_imgs,scaled_imgs),axis=0)\n",
    "    print(f\"result shape: {result.shape}\")\n",
    "    return result\n",
    "    "
   ]
  },
  {
   "cell_type": "raw",
   "metadata": {},
   "source": [
    "## test rotate using opencv\n",
    "p5=r\"D:\\Hoang\\girl.jpg\"\n",
    "i1 = cv2.imread(p5)\n",
    "i1=np.multiply(i1,1.0/255.0)\n",
    "print(i1.shape)\n",
    "i1=np.reshape(i1,(-1,i1.shape[0],i1.shape[1],i1.shape[2]))\n",
    "print(i1.shape)\n",
    "x= rotate_images(i1)\n",
    "# x = np.multiply(x,1.0/255.0)\n",
    "num_imgs = x.shape[0]\n",
    "print(num_imgs)\n",
    "num_girds = math.ceil(math.sqrt(num_imgs))\n",
    "fig,axes = plt.subplots(num_girds,num_girds)\n",
    "\n",
    "for i, ax in enumerate(axes.flat):\n",
    "    if i<num_imgs:\n",
    "        ax.imshow(cv2.cvtColor(x[i],cv2.COLOR_BGR2RGB))\n",
    "        ax.set_yticklabels([])\n",
    "        ax.set_xticklabels([])"
   ]
  },
  {
   "cell_type": "code",
   "execution_count": 15,
   "metadata": {},
   "outputs": [
    {
     "name": "stdout",
     "output_type": "stream",
     "text": [
      "(1, 64, 64, 1)\n",
      "rotated_imgs shape: (3, 64, 64, 1)\n",
      "scaled_img shape: (9, 64, 64, 1)\n",
      "result shape: (12, 64, 64, 1)\n",
      "generated_data shape: (12, 64, 64, 1)\n",
      "num_imgs: 12\n"
     ]
    },
    {
     "data": {
      "image/png": "[encoded data removed]",
      "text/plain": [
       "<matplotlib.figure.Figure at 0x1ee95d0f5c0>"
      ]
     },
     "metadata": {},
     "output_type": "display_data"
    }
   ],
   "source": [
    "# Start rotation at -90 degrees, end at 90 degrees and produce totally 14 images\n",
    "p1=r\"D:\\DatasetJapanese\\data_use_kl\\a_k\\00001.png\"\n",
    "p2 = r\"image\\testGenerate.jpeg\"\n",
    "\n",
    "\n",
    "i1 = cv2.imread(p2,0)\n",
    "\n",
    "# i2= cv2.imread(p3)\n",
    "i1=cv2.resize(i1,(64,64))\n",
    "i1=np.reshape(i1,(64,64,1))\n",
    "i1= np.multiply(i1,1.0/255.0)\n",
    "\n",
    "# i2=cv2.resize(i2,(64,64))\n",
    "# i2= np.multiply(i2,1.0/255.0)\n",
    "\n",
    "# plt.imshow(i1)\n",
    "# plt.show()\n",
    "\n",
    "x=np.asarray([i1])\n",
    "print(x.shape)\n",
    "# cv2.imshow(\"img\",i1)\n",
    "# cv2.waitKey(0)\n",
    "# cv2.destroyAllWindows()\n",
    "\n",
    "# print(f\"shape x: {x.shape}\")\n",
    "# rotated_imgs = rotate_images(x, 45, -45, 3)\n",
    "# print(f\"shape of rotated_imgs: {rotated_imgs.shape}\")\n",
    "\n",
    "# scaled_imgs = central_scale_images(rotated_imgs,scales=[0.8,0.7])\n",
    "# print(f\"scaled imgs shape: {scaled_imgs.shape}\")\n",
    "\n",
    "\n",
    "generated_data = generate_data(x)\n",
    "\n",
    "\n",
    "print(f\"generated_data shape: {generated_data.shape}\")\n",
    "num_imgs = generated_data.shape[0]\n",
    "print(f\"num_imgs: {num_imgs}\")\n",
    "num_grids = math.ceil(math.sqrt(num_imgs))\n",
    "\n",
    "fig, axes = plt.subplots(num_grids,num_grids)\n",
    "fig.subplots_adjust(hspace=0.8, wspace=0.3)\n",
    "do = 140/15\n",
    "\n",
    "for i, ax in enumerate(axes.flat):\n",
    "    if i<num_imgs:\n",
    "#         ax.imshow(rotated_imgs[i])\n",
    "        ax.imshow(generated_data[i].reshape(64,64))\n",
    "        ax.set_yticklabels([])\n",
    "        ax.set_xticklabels([])\n",
    "        \n",
    "        ax.set_xlabel(f\"vt {i}\")\n",
    "\n",
    "plt.show()\n"
   ]
  },
  {
   "cell_type": "code",
   "execution_count": 4,
   "metadata": {},
   "outputs": [
    {
     "name": "stdout",
     "output_type": "stream",
     "text": [
      "[[[1]\n",
      "  [2]\n",
      "  [3]]\n",
      "\n",
      " [[4]\n",
      "  [5]\n",
      "  [6]]\n",
      "\n",
      " [[7]\n",
      "  [8]\n",
      "  [9]]]\n"
     ]
    }
   ],
   "source": [
    "a=np.arange(1,10).reshape(3,3,1)\n",
    "print(a)"
   ]
  },
  {
   "cell_type": "code",
   "execution_count": null,
   "metadata": {
    "scrolled": false
   },
   "outputs": [],
   "source": []
  },
  {
   "cell_type": "code",
   "execution_count": 11,
   "metadata": {},
   "outputs": [
    {
     "name": "stdout",
     "output_type": "stream",
     "text": [
      "(3, 3, 4)\n",
      "[[[  0   1 -18 -17]\n",
      "  [  2   3 -16 -15]\n",
      "  [  4   5 -14 -13]]\n",
      "\n",
      " [[  6   7 -12 -11]\n",
      "  [  8   9 -10  -9]\n",
      "  [ 10  11  -8  -7]]\n",
      "\n",
      " [[ 12  13  -6  -5]\n",
      "  [ 14  15  -4  -3]\n",
      "  [ 16  17  -2  -1]]]\n"
     ]
    }
   ],
   "source": [
    "a=np.arange(0,18).reshape(3,3,2)\n",
    "b=np.arange(-18,0).reshape(3,3,2)\n",
    "\n",
    "c=np.concatenate((a,b),axis=2)\n",
    "print(c.shape)\n",
    "print(c)"
   ]
  },
  {
   "cell_type": "code",
   "execution_count": null,
   "metadata": {
    "collapsed": true
   },
   "outputs": [],
   "source": [
    "np.random.uniform(-45,45,3)"
   ]
  },
  {
   "cell_type": "code",
   "execution_count": 7,
   "metadata": {},
   "outputs": [
    {
     "name": "stdout",
     "output_type": "stream",
     "text": [
      "(64, 64)\n"
     ]
    }
   ],
   "source": [
    "p2 = r\"image\\testGenerate.jpeg\"\n",
    "img = cv2.imread(p2,0);\n",
    "img= cv2.resize(img,(64,64))\n",
    "print(img.shape)"
   ]
  },
  {
   "cell_type": "code",
   "execution_count": null,
   "metadata": {
    "collapsed": true
   },
   "outputs": [],
   "source": []
  }
 ],
 "metadata": {
  "kernelspec": {
   "display_name": "Python 3",
   "language": "python",
   "name": "python3"
  },
  "language_info": {
   "codemirror_mode": {
    "name": "ipython",
    "version": 3
   },
   "file_extension": ".py",
   "mimetype": "text/x-python",
   "name": "python",
   "nbconvert_exporter": "python",
   "pygments_lexer": "ipython3",
   "version": "3.6.2"
  }
 },
 "nbformat": 4,
 "nbformat_minor": 2
}
